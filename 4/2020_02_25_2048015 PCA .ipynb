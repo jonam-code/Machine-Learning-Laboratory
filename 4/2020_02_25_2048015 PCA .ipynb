{
 "cells": [
  {
   "cell_type": "markdown",
   "metadata": {},
   "source": [
    "<div><h2><b><center>MANOJ KUMAR - 2048015</b></h2></div>\n",
    "<div><h2><b><center>PCA v/s LDA - Chronic Kidney Disease</b></h2></div>"
   ]
  },
  {
   "cell_type": "markdown",
   "metadata": {},
   "source": [
    "### Importing required Dataset & libraries"
   ]
  },
  {
   "cell_type": "code",
   "execution_count": 1,
   "metadata": {},
   "outputs": [],
   "source": [
    "import pandas as pd\n",
    "import numpy as np\n",
    "import seaborn as sns\n",
    "import matplotlib.pyplot as plt\n",
    "%matplotlib inline"
   ]
  },
  {
   "cell_type": "code",
   "execution_count": 2,
   "metadata": {
    "scrolled": false
   },
   "outputs": [
    {
     "name": "stdout",
     "output_type": "stream",
     "text": [
      "<class 'pandas.core.frame.DataFrame'>\n",
      "RangeIndex: 400 entries, 0 to 399\n",
      "Data columns (total 26 columns):\n",
      " #   Column          Non-Null Count  Dtype  \n",
      "---  ------          --------------  -----  \n",
      " 0   id              400 non-null    int64  \n",
      " 1   age             391 non-null    float64\n",
      " 2   bp              388 non-null    float64\n",
      " 3   sg              353 non-null    float64\n",
      " 4   al              354 non-null    float64\n",
      " 5   su              351 non-null    float64\n",
      " 6   rbc             248 non-null    object \n",
      " 7   pc              335 non-null    object \n",
      " 8   pcc             396 non-null    object \n",
      " 9   ba              396 non-null    object \n",
      " 10  bgr             356 non-null    float64\n",
      " 11  bu              381 non-null    float64\n",
      " 12  sc              383 non-null    float64\n",
      " 13  sod             313 non-null    float64\n",
      " 14  pot             312 non-null    float64\n",
      " 15  hemo            348 non-null    float64\n",
      " 16  pcv             330 non-null    object \n",
      " 17  wc              295 non-null    object \n",
      " 18  rc              270 non-null    object \n",
      " 19  htn             398 non-null    object \n",
      " 20  dm              398 non-null    object \n",
      " 21  cad             398 non-null    object \n",
      " 22  appet           399 non-null    object \n",
      " 23  pe              399 non-null    object \n",
      " 24  ane             399 non-null    object \n",
      " 25  classification  400 non-null    object \n",
      "dtypes: float64(11), int64(1), object(14)\n",
      "memory usage: 81.4+ KB\n"
     ]
    }
   ],
   "source": [
    "kidney_disease = pd.read_csv(\"kidney_disease.csv\")\n",
    "kidney_disease.info()"
   ]
  },
  {
   "cell_type": "markdown",
   "metadata": {},
   "source": [
    "We were exploring the metadata of our dataset.\n",
    "   - 25 columns with int, float, and Object datatypes\n",
    "   - Some of the features do having Null values, so data preprocessing is required."
   ]
  },
  {
   "cell_type": "code",
   "execution_count": 3,
   "metadata": {},
   "outputs": [
    {
     "data": {
      "text/html": [
       "<div>\n",
       "<style scoped>\n",
       "    .dataframe tbody tr th:only-of-type {\n",
       "        vertical-align: middle;\n",
       "    }\n",
       "\n",
       "    .dataframe tbody tr th {\n",
       "        vertical-align: top;\n",
       "    }\n",
       "\n",
       "    .dataframe thead th {\n",
       "        text-align: right;\n",
       "    }\n",
       "</style>\n",
       "<table border=\"1\" class=\"dataframe\">\n",
       "  <thead>\n",
       "    <tr style=\"text-align: right;\">\n",
       "      <th></th>\n",
       "      <th>0</th>\n",
       "      <th>1</th>\n",
       "      <th>2</th>\n",
       "      <th>3</th>\n",
       "      <th>4</th>\n",
       "      <th>5</th>\n",
       "      <th>6</th>\n",
       "      <th>7</th>\n",
       "      <th>8</th>\n",
       "      <th>9</th>\n",
       "      <th>10</th>\n",
       "      <th>11</th>\n",
       "    </tr>\n",
       "  </thead>\n",
       "  <tbody>\n",
       "    <tr>\n",
       "      <th>id</th>\n",
       "      <td>0</td>\n",
       "      <td>1</td>\n",
       "      <td>2</td>\n",
       "      <td>3</td>\n",
       "      <td>4</td>\n",
       "      <td>5</td>\n",
       "      <td>6</td>\n",
       "      <td>7</td>\n",
       "      <td>8</td>\n",
       "      <td>9</td>\n",
       "      <td>10</td>\n",
       "      <td>11</td>\n",
       "    </tr>\n",
       "    <tr>\n",
       "      <th>age</th>\n",
       "      <td>48</td>\n",
       "      <td>7</td>\n",
       "      <td>62</td>\n",
       "      <td>48</td>\n",
       "      <td>51</td>\n",
       "      <td>60</td>\n",
       "      <td>68</td>\n",
       "      <td>24</td>\n",
       "      <td>52</td>\n",
       "      <td>53</td>\n",
       "      <td>50</td>\n",
       "      <td>63</td>\n",
       "    </tr>\n",
       "    <tr>\n",
       "      <th>bp</th>\n",
       "      <td>80</td>\n",
       "      <td>50</td>\n",
       "      <td>80</td>\n",
       "      <td>70</td>\n",
       "      <td>80</td>\n",
       "      <td>90</td>\n",
       "      <td>70</td>\n",
       "      <td>NaN</td>\n",
       "      <td>100</td>\n",
       "      <td>90</td>\n",
       "      <td>60</td>\n",
       "      <td>70</td>\n",
       "    </tr>\n",
       "    <tr>\n",
       "      <th>sg</th>\n",
       "      <td>1.02</td>\n",
       "      <td>1.02</td>\n",
       "      <td>1.01</td>\n",
       "      <td>1.005</td>\n",
       "      <td>1.01</td>\n",
       "      <td>1.015</td>\n",
       "      <td>1.01</td>\n",
       "      <td>1.015</td>\n",
       "      <td>1.015</td>\n",
       "      <td>1.02</td>\n",
       "      <td>1.01</td>\n",
       "      <td>1.01</td>\n",
       "    </tr>\n",
       "    <tr>\n",
       "      <th>al</th>\n",
       "      <td>1</td>\n",
       "      <td>4</td>\n",
       "      <td>2</td>\n",
       "      <td>4</td>\n",
       "      <td>2</td>\n",
       "      <td>3</td>\n",
       "      <td>0</td>\n",
       "      <td>2</td>\n",
       "      <td>3</td>\n",
       "      <td>2</td>\n",
       "      <td>2</td>\n",
       "      <td>3</td>\n",
       "    </tr>\n",
       "    <tr>\n",
       "      <th>su</th>\n",
       "      <td>0</td>\n",
       "      <td>0</td>\n",
       "      <td>3</td>\n",
       "      <td>0</td>\n",
       "      <td>0</td>\n",
       "      <td>0</td>\n",
       "      <td>0</td>\n",
       "      <td>4</td>\n",
       "      <td>0</td>\n",
       "      <td>0</td>\n",
       "      <td>4</td>\n",
       "      <td>0</td>\n",
       "    </tr>\n",
       "    <tr>\n",
       "      <th>rbc</th>\n",
       "      <td>NaN</td>\n",
       "      <td>NaN</td>\n",
       "      <td>normal</td>\n",
       "      <td>normal</td>\n",
       "      <td>normal</td>\n",
       "      <td>NaN</td>\n",
       "      <td>NaN</td>\n",
       "      <td>normal</td>\n",
       "      <td>normal</td>\n",
       "      <td>abnormal</td>\n",
       "      <td>NaN</td>\n",
       "      <td>abnormal</td>\n",
       "    </tr>\n",
       "    <tr>\n",
       "      <th>pc</th>\n",
       "      <td>normal</td>\n",
       "      <td>normal</td>\n",
       "      <td>normal</td>\n",
       "      <td>abnormal</td>\n",
       "      <td>normal</td>\n",
       "      <td>NaN</td>\n",
       "      <td>normal</td>\n",
       "      <td>abnormal</td>\n",
       "      <td>abnormal</td>\n",
       "      <td>abnormal</td>\n",
       "      <td>abnormal</td>\n",
       "      <td>abnormal</td>\n",
       "    </tr>\n",
       "    <tr>\n",
       "      <th>pcc</th>\n",
       "      <td>notpresent</td>\n",
       "      <td>notpresent</td>\n",
       "      <td>notpresent</td>\n",
       "      <td>present</td>\n",
       "      <td>notpresent</td>\n",
       "      <td>notpresent</td>\n",
       "      <td>notpresent</td>\n",
       "      <td>notpresent</td>\n",
       "      <td>present</td>\n",
       "      <td>present</td>\n",
       "      <td>present</td>\n",
       "      <td>present</td>\n",
       "    </tr>\n",
       "    <tr>\n",
       "      <th>ba</th>\n",
       "      <td>notpresent</td>\n",
       "      <td>notpresent</td>\n",
       "      <td>notpresent</td>\n",
       "      <td>notpresent</td>\n",
       "      <td>notpresent</td>\n",
       "      <td>notpresent</td>\n",
       "      <td>notpresent</td>\n",
       "      <td>notpresent</td>\n",
       "      <td>notpresent</td>\n",
       "      <td>notpresent</td>\n",
       "      <td>notpresent</td>\n",
       "      <td>notpresent</td>\n",
       "    </tr>\n",
       "    <tr>\n",
       "      <th>bgr</th>\n",
       "      <td>121</td>\n",
       "      <td>NaN</td>\n",
       "      <td>423</td>\n",
       "      <td>117</td>\n",
       "      <td>106</td>\n",
       "      <td>74</td>\n",
       "      <td>100</td>\n",
       "      <td>410</td>\n",
       "      <td>138</td>\n",
       "      <td>70</td>\n",
       "      <td>490</td>\n",
       "      <td>380</td>\n",
       "    </tr>\n",
       "    <tr>\n",
       "      <th>bu</th>\n",
       "      <td>36</td>\n",
       "      <td>18</td>\n",
       "      <td>53</td>\n",
       "      <td>56</td>\n",
       "      <td>26</td>\n",
       "      <td>25</td>\n",
       "      <td>54</td>\n",
       "      <td>31</td>\n",
       "      <td>60</td>\n",
       "      <td>107</td>\n",
       "      <td>55</td>\n",
       "      <td>60</td>\n",
       "    </tr>\n",
       "    <tr>\n",
       "      <th>sc</th>\n",
       "      <td>1.2</td>\n",
       "      <td>0.8</td>\n",
       "      <td>1.8</td>\n",
       "      <td>3.8</td>\n",
       "      <td>1.4</td>\n",
       "      <td>1.1</td>\n",
       "      <td>24</td>\n",
       "      <td>1.1</td>\n",
       "      <td>1.9</td>\n",
       "      <td>7.2</td>\n",
       "      <td>4</td>\n",
       "      <td>2.7</td>\n",
       "    </tr>\n",
       "    <tr>\n",
       "      <th>sod</th>\n",
       "      <td>NaN</td>\n",
       "      <td>NaN</td>\n",
       "      <td>NaN</td>\n",
       "      <td>111</td>\n",
       "      <td>NaN</td>\n",
       "      <td>142</td>\n",
       "      <td>104</td>\n",
       "      <td>NaN</td>\n",
       "      <td>NaN</td>\n",
       "      <td>114</td>\n",
       "      <td>NaN</td>\n",
       "      <td>131</td>\n",
       "    </tr>\n",
       "    <tr>\n",
       "      <th>pot</th>\n",
       "      <td>NaN</td>\n",
       "      <td>NaN</td>\n",
       "      <td>NaN</td>\n",
       "      <td>2.5</td>\n",
       "      <td>NaN</td>\n",
       "      <td>3.2</td>\n",
       "      <td>4</td>\n",
       "      <td>NaN</td>\n",
       "      <td>NaN</td>\n",
       "      <td>3.7</td>\n",
       "      <td>NaN</td>\n",
       "      <td>4.2</td>\n",
       "    </tr>\n",
       "    <tr>\n",
       "      <th>hemo</th>\n",
       "      <td>15.4</td>\n",
       "      <td>11.3</td>\n",
       "      <td>9.6</td>\n",
       "      <td>11.2</td>\n",
       "      <td>11.6</td>\n",
       "      <td>12.2</td>\n",
       "      <td>12.4</td>\n",
       "      <td>12.4</td>\n",
       "      <td>10.8</td>\n",
       "      <td>9.5</td>\n",
       "      <td>9.4</td>\n",
       "      <td>10.8</td>\n",
       "    </tr>\n",
       "    <tr>\n",
       "      <th>pcv</th>\n",
       "      <td>44</td>\n",
       "      <td>38</td>\n",
       "      <td>31</td>\n",
       "      <td>32</td>\n",
       "      <td>35</td>\n",
       "      <td>39</td>\n",
       "      <td>36</td>\n",
       "      <td>44</td>\n",
       "      <td>33</td>\n",
       "      <td>29</td>\n",
       "      <td>28</td>\n",
       "      <td>32</td>\n",
       "    </tr>\n",
       "    <tr>\n",
       "      <th>wc</th>\n",
       "      <td>7800</td>\n",
       "      <td>6000</td>\n",
       "      <td>7500</td>\n",
       "      <td>6700</td>\n",
       "      <td>7300</td>\n",
       "      <td>7800</td>\n",
       "      <td>NaN</td>\n",
       "      <td>6900</td>\n",
       "      <td>9600</td>\n",
       "      <td>12100</td>\n",
       "      <td>NaN</td>\n",
       "      <td>4500</td>\n",
       "    </tr>\n",
       "    <tr>\n",
       "      <th>rc</th>\n",
       "      <td>5.2</td>\n",
       "      <td>NaN</td>\n",
       "      <td>NaN</td>\n",
       "      <td>3.9</td>\n",
       "      <td>4.6</td>\n",
       "      <td>4.4</td>\n",
       "      <td>NaN</td>\n",
       "      <td>5</td>\n",
       "      <td>4.0</td>\n",
       "      <td>3.7</td>\n",
       "      <td>NaN</td>\n",
       "      <td>3.8</td>\n",
       "    </tr>\n",
       "    <tr>\n",
       "      <th>htn</th>\n",
       "      <td>yes</td>\n",
       "      <td>no</td>\n",
       "      <td>no</td>\n",
       "      <td>yes</td>\n",
       "      <td>no</td>\n",
       "      <td>yes</td>\n",
       "      <td>no</td>\n",
       "      <td>no</td>\n",
       "      <td>yes</td>\n",
       "      <td>yes</td>\n",
       "      <td>yes</td>\n",
       "      <td>yes</td>\n",
       "    </tr>\n",
       "    <tr>\n",
       "      <th>dm</th>\n",
       "      <td>yes</td>\n",
       "      <td>no</td>\n",
       "      <td>yes</td>\n",
       "      <td>no</td>\n",
       "      <td>no</td>\n",
       "      <td>yes</td>\n",
       "      <td>no</td>\n",
       "      <td>yes</td>\n",
       "      <td>yes</td>\n",
       "      <td>yes</td>\n",
       "      <td>yes</td>\n",
       "      <td>yes</td>\n",
       "    </tr>\n",
       "    <tr>\n",
       "      <th>cad</th>\n",
       "      <td>no</td>\n",
       "      <td>no</td>\n",
       "      <td>no</td>\n",
       "      <td>no</td>\n",
       "      <td>no</td>\n",
       "      <td>no</td>\n",
       "      <td>no</td>\n",
       "      <td>no</td>\n",
       "      <td>no</td>\n",
       "      <td>no</td>\n",
       "      <td>no</td>\n",
       "      <td>no</td>\n",
       "    </tr>\n",
       "    <tr>\n",
       "      <th>appet</th>\n",
       "      <td>good</td>\n",
       "      <td>good</td>\n",
       "      <td>poor</td>\n",
       "      <td>poor</td>\n",
       "      <td>good</td>\n",
       "      <td>good</td>\n",
       "      <td>good</td>\n",
       "      <td>good</td>\n",
       "      <td>good</td>\n",
       "      <td>poor</td>\n",
       "      <td>good</td>\n",
       "      <td>poor</td>\n",
       "    </tr>\n",
       "    <tr>\n",
       "      <th>pe</th>\n",
       "      <td>no</td>\n",
       "      <td>no</td>\n",
       "      <td>no</td>\n",
       "      <td>yes</td>\n",
       "      <td>no</td>\n",
       "      <td>yes</td>\n",
       "      <td>no</td>\n",
       "      <td>yes</td>\n",
       "      <td>no</td>\n",
       "      <td>no</td>\n",
       "      <td>no</td>\n",
       "      <td>yes</td>\n",
       "    </tr>\n",
       "    <tr>\n",
       "      <th>ane</th>\n",
       "      <td>no</td>\n",
       "      <td>no</td>\n",
       "      <td>yes</td>\n",
       "      <td>yes</td>\n",
       "      <td>no</td>\n",
       "      <td>no</td>\n",
       "      <td>no</td>\n",
       "      <td>no</td>\n",
       "      <td>yes</td>\n",
       "      <td>yes</td>\n",
       "      <td>yes</td>\n",
       "      <td>no</td>\n",
       "    </tr>\n",
       "    <tr>\n",
       "      <th>classification</th>\n",
       "      <td>ckd</td>\n",
       "      <td>ckd</td>\n",
       "      <td>ckd</td>\n",
       "      <td>ckd</td>\n",
       "      <td>ckd</td>\n",
       "      <td>ckd</td>\n",
       "      <td>ckd</td>\n",
       "      <td>ckd</td>\n",
       "      <td>ckd</td>\n",
       "      <td>ckd</td>\n",
       "      <td>ckd</td>\n",
       "      <td>ckd</td>\n",
       "    </tr>\n",
       "  </tbody>\n",
       "</table>\n",
       "</div>"
      ],
      "text/plain": [
       "                         0           1           2           3           4  \\\n",
       "id                       0           1           2           3           4   \n",
       "age                     48           7          62          48          51   \n",
       "bp                      80          50          80          70          80   \n",
       "sg                    1.02        1.02        1.01       1.005        1.01   \n",
       "al                       1           4           2           4           2   \n",
       "su                       0           0           3           0           0   \n",
       "rbc                    NaN         NaN      normal      normal      normal   \n",
       "pc                  normal      normal      normal    abnormal      normal   \n",
       "pcc             notpresent  notpresent  notpresent     present  notpresent   \n",
       "ba              notpresent  notpresent  notpresent  notpresent  notpresent   \n",
       "bgr                    121         NaN         423         117         106   \n",
       "bu                      36          18          53          56          26   \n",
       "sc                     1.2         0.8         1.8         3.8         1.4   \n",
       "sod                    NaN         NaN         NaN         111         NaN   \n",
       "pot                    NaN         NaN         NaN         2.5         NaN   \n",
       "hemo                  15.4        11.3         9.6        11.2        11.6   \n",
       "pcv                     44          38          31          32          35   \n",
       "wc                    7800        6000        7500        6700        7300   \n",
       "rc                     5.2         NaN         NaN         3.9         4.6   \n",
       "htn                    yes          no          no         yes          no   \n",
       "dm                     yes          no         yes          no          no   \n",
       "cad                     no          no          no          no          no   \n",
       "appet                 good        good        poor        poor        good   \n",
       "pe                      no          no          no         yes          no   \n",
       "ane                     no          no         yes         yes          no   \n",
       "classification         ckd         ckd         ckd         ckd         ckd   \n",
       "\n",
       "                         5           6           7           8           9  \\\n",
       "id                       5           6           7           8           9   \n",
       "age                     60          68          24          52          53   \n",
       "bp                      90          70         NaN         100          90   \n",
       "sg                   1.015        1.01       1.015       1.015        1.02   \n",
       "al                       3           0           2           3           2   \n",
       "su                       0           0           4           0           0   \n",
       "rbc                    NaN         NaN      normal      normal    abnormal   \n",
       "pc                     NaN      normal    abnormal    abnormal    abnormal   \n",
       "pcc             notpresent  notpresent  notpresent     present     present   \n",
       "ba              notpresent  notpresent  notpresent  notpresent  notpresent   \n",
       "bgr                     74         100         410         138          70   \n",
       "bu                      25          54          31          60         107   \n",
       "sc                     1.1          24         1.1         1.9         7.2   \n",
       "sod                    142         104         NaN         NaN         114   \n",
       "pot                    3.2           4         NaN         NaN         3.7   \n",
       "hemo                  12.2        12.4        12.4        10.8         9.5   \n",
       "pcv                     39          36          44          33          29   \n",
       "wc                    7800         NaN        6900        9600       12100   \n",
       "rc                     4.4         NaN           5         4.0         3.7   \n",
       "htn                    yes          no          no         yes         yes   \n",
       "dm                     yes          no         yes         yes         yes   \n",
       "cad                     no          no          no          no          no   \n",
       "appet                 good        good        good        good        poor   \n",
       "pe                     yes          no         yes          no          no   \n",
       "ane                     no          no          no         yes         yes   \n",
       "classification         ckd         ckd         ckd         ckd         ckd   \n",
       "\n",
       "                        10          11  \n",
       "id                      10          11  \n",
       "age                     50          63  \n",
       "bp                      60          70  \n",
       "sg                    1.01        1.01  \n",
       "al                       2           3  \n",
       "su                       4           0  \n",
       "rbc                    NaN    abnormal  \n",
       "pc                abnormal    abnormal  \n",
       "pcc                present     present  \n",
       "ba              notpresent  notpresent  \n",
       "bgr                    490         380  \n",
       "bu                      55          60  \n",
       "sc                       4         2.7  \n",
       "sod                    NaN         131  \n",
       "pot                    NaN         4.2  \n",
       "hemo                   9.4        10.8  \n",
       "pcv                     28          32  \n",
       "wc                     NaN        4500  \n",
       "rc                     NaN         3.8  \n",
       "htn                    yes         yes  \n",
       "dm                     yes         yes  \n",
       "cad                     no          no  \n",
       "appet                 good        poor  \n",
       "pe                      no         yes  \n",
       "ane                    yes          no  \n",
       "classification         ckd         ckd  "
      ]
     },
     "execution_count": 3,
     "metadata": {},
     "output_type": "execute_result"
    }
   ],
   "source": [
    "kidney_disease.head(12).T"
   ]
  },
  {
   "cell_type": "markdown",
   "metadata": {},
   "source": [
    "We are transforming the data frame to help to get all the features vertically.\n",
    "        \n",
    "   - The collection of numerical and categorical values are seen.\n",
    "   - 'rc','wc', and 'pcv' needs to be updated to float from Object. "
   ]
  },
  {
   "cell_type": "code",
   "execution_count": 4,
   "metadata": {},
   "outputs": [],
   "source": [
    "# '?' character remove process in the dataset\n",
    "for i in ['rc','wc','pcv']:\n",
    "    kidney_disease[i] = kidney_disease[i].str.extract('(\\d+)').astype(float)\n",
    "    \n",
    "    \n",
    "# Filling missing numeric data in the dataset with mean\n",
    "for i in ['age','bp','sg','al','su','bgr','bu','sc','sod','pot','hemo','rc','wc','pcv']:\n",
    "    kidney_disease[i].fillna(kidney_disease[i].mean(),inplace=True)"
   ]
  },
  {
   "cell_type": "code",
   "execution_count": 5,
   "metadata": {},
   "outputs": [],
   "source": [
    "# Removing tab spaces in the data\n",
    "kidney_disease['dm'] = kidney_disease['dm'].replace(to_replace={'\\tno':'no','\\tyes':'yes',' yes':'yes'}) \n",
    "kidney_disease['cad'] = kidney_disease['cad'].replace(to_replace='\\tno',value='no') \n",
    "kidney_disease['classification'] = kidney_disease['classification'].replace(to_replace='ckd\\t',value='ckd')\n",
    "\n",
    "# Mapping the text to 1/0 and cleaning the dataset \n",
    "kidney_disease[['htn','dm','cad','pe','ane']] = kidney_disease[['htn','dm','cad','pe','ane']].replace(to_replace={'yes':1,'no':0})\n",
    "kidney_disease[['rbc','pc']] = kidney_disease[['rbc','pc']].replace(to_replace={'abnormal':1,'normal':0})\n",
    "kidney_disease[['pcc','ba']] = kidney_disease[['pcc','ba']].replace(to_replace={'present':1,'notpresent':0})\n",
    "kidney_disease[['appet']] = kidney_disease[['appet']].replace(to_replace={'good':1,'poor':0})\n",
    "kidney_disease['classification'] = kidney_disease['classification'].replace(to_replace={'ckd':1,'notckd':0})\n",
    "\n",
    "kidney_disease.rename(columns={'classification':'class'},inplace=True)"
   ]
  },
  {
   "cell_type": "code",
   "execution_count": 6,
   "metadata": {},
   "outputs": [
    {
     "name": "stdout",
     "output_type": "stream",
     "text": [
      "<class 'pandas.core.frame.DataFrame'>\n",
      "RangeIndex: 400 entries, 0 to 399\n",
      "Data columns (total 25 columns):\n",
      " #   Column  Non-Null Count  Dtype  \n",
      "---  ------  --------------  -----  \n",
      " 0   age     400 non-null    float64\n",
      " 1   bp      400 non-null    float64\n",
      " 2   sg      400 non-null    float64\n",
      " 3   al      400 non-null    float64\n",
      " 4   su      400 non-null    float64\n",
      " 5   rbc     248 non-null    float64\n",
      " 6   pc      335 non-null    float64\n",
      " 7   pcc     396 non-null    float64\n",
      " 8   ba      396 non-null    float64\n",
      " 9   bgr     400 non-null    float64\n",
      " 10  bu      400 non-null    float64\n",
      " 11  sc      400 non-null    float64\n",
      " 12  sod     400 non-null    float64\n",
      " 13  pot     400 non-null    float64\n",
      " 14  hemo    400 non-null    float64\n",
      " 15  pcv     400 non-null    float64\n",
      " 16  wc      400 non-null    float64\n",
      " 17  rc      400 non-null    float64\n",
      " 18  htn     398 non-null    float64\n",
      " 19  dm      398 non-null    float64\n",
      " 20  cad     398 non-null    float64\n",
      " 21  appet   399 non-null    float64\n",
      " 22  pe      399 non-null    float64\n",
      " 23  ane     399 non-null    float64\n",
      " 24  class   400 non-null    int64  \n",
      "dtypes: float64(24), int64(1)\n",
      "memory usage: 78.2 KB\n"
     ]
    }
   ],
   "source": [
    "kidney_disease.drop('id',axis=1,inplace=True)\n",
    "kidney_disease.info()"
   ]
  },
  {
   "cell_type": "markdown",
   "metadata": {},
   "source": [
    "We are customizing our features based on the pre-knowledge taken from the previous lab.\n",
    "    \n",
    "   - Value error \n",
    "   - Datatype error\n",
    "   - Dropping unwanted features"
   ]
  },
  {
   "cell_type": "code",
   "execution_count": 7,
   "metadata": {},
   "outputs": [
    {
     "data": {
      "text/html": [
       "<div>\n",
       "<style scoped>\n",
       "    .dataframe tbody tr th:only-of-type {\n",
       "        vertical-align: middle;\n",
       "    }\n",
       "\n",
       "    .dataframe tbody tr th {\n",
       "        vertical-align: top;\n",
       "    }\n",
       "\n",
       "    .dataframe thead th {\n",
       "        text-align: right;\n",
       "    }\n",
       "</style>\n",
       "<table border=\"1\" class=\"dataframe\">\n",
       "  <thead>\n",
       "    <tr style=\"text-align: right;\">\n",
       "      <th></th>\n",
       "      <th>0</th>\n",
       "      <th>1</th>\n",
       "      <th>2</th>\n",
       "      <th>3</th>\n",
       "      <th>4</th>\n",
       "      <th>5</th>\n",
       "      <th>6</th>\n",
       "      <th>7</th>\n",
       "      <th>8</th>\n",
       "      <th>9</th>\n",
       "      <th>10</th>\n",
       "      <th>11</th>\n",
       "    </tr>\n",
       "  </thead>\n",
       "  <tbody>\n",
       "    <tr>\n",
       "      <th>age</th>\n",
       "      <td>48.000000</td>\n",
       "      <td>7.000000</td>\n",
       "      <td>62.000000</td>\n",
       "      <td>48.000</td>\n",
       "      <td>51.000000</td>\n",
       "      <td>60.000</td>\n",
       "      <td>68.000000</td>\n",
       "      <td>24.000000</td>\n",
       "      <td>52.000000</td>\n",
       "      <td>53.00</td>\n",
       "      <td>50.000000</td>\n",
       "      <td>63.00</td>\n",
       "    </tr>\n",
       "    <tr>\n",
       "      <th>bp</th>\n",
       "      <td>80.000000</td>\n",
       "      <td>50.000000</td>\n",
       "      <td>80.000000</td>\n",
       "      <td>70.000</td>\n",
       "      <td>80.000000</td>\n",
       "      <td>90.000</td>\n",
       "      <td>70.000000</td>\n",
       "      <td>76.469072</td>\n",
       "      <td>100.000000</td>\n",
       "      <td>90.00</td>\n",
       "      <td>60.000000</td>\n",
       "      <td>70.00</td>\n",
       "    </tr>\n",
       "    <tr>\n",
       "      <th>sg</th>\n",
       "      <td>1.020000</td>\n",
       "      <td>1.020000</td>\n",
       "      <td>1.010000</td>\n",
       "      <td>1.005</td>\n",
       "      <td>1.010000</td>\n",
       "      <td>1.015</td>\n",
       "      <td>1.010000</td>\n",
       "      <td>1.015000</td>\n",
       "      <td>1.015000</td>\n",
       "      <td>1.02</td>\n",
       "      <td>1.010000</td>\n",
       "      <td>1.01</td>\n",
       "    </tr>\n",
       "    <tr>\n",
       "      <th>al</th>\n",
       "      <td>1.000000</td>\n",
       "      <td>4.000000</td>\n",
       "      <td>2.000000</td>\n",
       "      <td>4.000</td>\n",
       "      <td>2.000000</td>\n",
       "      <td>3.000</td>\n",
       "      <td>0.000000</td>\n",
       "      <td>2.000000</td>\n",
       "      <td>3.000000</td>\n",
       "      <td>2.00</td>\n",
       "      <td>2.000000</td>\n",
       "      <td>3.00</td>\n",
       "    </tr>\n",
       "    <tr>\n",
       "      <th>su</th>\n",
       "      <td>0.000000</td>\n",
       "      <td>0.000000</td>\n",
       "      <td>3.000000</td>\n",
       "      <td>0.000</td>\n",
       "      <td>0.000000</td>\n",
       "      <td>0.000</td>\n",
       "      <td>0.000000</td>\n",
       "      <td>4.000000</td>\n",
       "      <td>0.000000</td>\n",
       "      <td>0.00</td>\n",
       "      <td>4.000000</td>\n",
       "      <td>0.00</td>\n",
       "    </tr>\n",
       "    <tr>\n",
       "      <th>rbc</th>\n",
       "      <td>0.000000</td>\n",
       "      <td>0.000000</td>\n",
       "      <td>0.000000</td>\n",
       "      <td>0.000</td>\n",
       "      <td>0.000000</td>\n",
       "      <td>0.000</td>\n",
       "      <td>0.000000</td>\n",
       "      <td>0.000000</td>\n",
       "      <td>0.000000</td>\n",
       "      <td>1.00</td>\n",
       "      <td>0.000000</td>\n",
       "      <td>1.00</td>\n",
       "    </tr>\n",
       "    <tr>\n",
       "      <th>pc</th>\n",
       "      <td>0.000000</td>\n",
       "      <td>0.000000</td>\n",
       "      <td>0.000000</td>\n",
       "      <td>1.000</td>\n",
       "      <td>0.000000</td>\n",
       "      <td>0.000</td>\n",
       "      <td>0.000000</td>\n",
       "      <td>1.000000</td>\n",
       "      <td>1.000000</td>\n",
       "      <td>1.00</td>\n",
       "      <td>1.000000</td>\n",
       "      <td>1.00</td>\n",
       "    </tr>\n",
       "    <tr>\n",
       "      <th>pcc</th>\n",
       "      <td>0.000000</td>\n",
       "      <td>0.000000</td>\n",
       "      <td>0.000000</td>\n",
       "      <td>1.000</td>\n",
       "      <td>0.000000</td>\n",
       "      <td>0.000</td>\n",
       "      <td>0.000000</td>\n",
       "      <td>0.000000</td>\n",
       "      <td>1.000000</td>\n",
       "      <td>1.00</td>\n",
       "      <td>1.000000</td>\n",
       "      <td>1.00</td>\n",
       "    </tr>\n",
       "    <tr>\n",
       "      <th>ba</th>\n",
       "      <td>0.000000</td>\n",
       "      <td>0.000000</td>\n",
       "      <td>0.000000</td>\n",
       "      <td>0.000</td>\n",
       "      <td>0.000000</td>\n",
       "      <td>0.000</td>\n",
       "      <td>0.000000</td>\n",
       "      <td>0.000000</td>\n",
       "      <td>0.000000</td>\n",
       "      <td>0.00</td>\n",
       "      <td>0.000000</td>\n",
       "      <td>0.00</td>\n",
       "    </tr>\n",
       "    <tr>\n",
       "      <th>bgr</th>\n",
       "      <td>121.000000</td>\n",
       "      <td>148.036517</td>\n",
       "      <td>423.000000</td>\n",
       "      <td>117.000</td>\n",
       "      <td>106.000000</td>\n",
       "      <td>74.000</td>\n",
       "      <td>100.000000</td>\n",
       "      <td>410.000000</td>\n",
       "      <td>138.000000</td>\n",
       "      <td>70.00</td>\n",
       "      <td>490.000000</td>\n",
       "      <td>380.00</td>\n",
       "    </tr>\n",
       "    <tr>\n",
       "      <th>bu</th>\n",
       "      <td>36.000000</td>\n",
       "      <td>18.000000</td>\n",
       "      <td>53.000000</td>\n",
       "      <td>56.000</td>\n",
       "      <td>26.000000</td>\n",
       "      <td>25.000</td>\n",
       "      <td>54.000000</td>\n",
       "      <td>31.000000</td>\n",
       "      <td>60.000000</td>\n",
       "      <td>107.00</td>\n",
       "      <td>55.000000</td>\n",
       "      <td>60.00</td>\n",
       "    </tr>\n",
       "    <tr>\n",
       "      <th>sc</th>\n",
       "      <td>1.200000</td>\n",
       "      <td>0.800000</td>\n",
       "      <td>1.800000</td>\n",
       "      <td>3.800</td>\n",
       "      <td>1.400000</td>\n",
       "      <td>1.100</td>\n",
       "      <td>24.000000</td>\n",
       "      <td>1.100000</td>\n",
       "      <td>1.900000</td>\n",
       "      <td>7.20</td>\n",
       "      <td>4.000000</td>\n",
       "      <td>2.70</td>\n",
       "    </tr>\n",
       "    <tr>\n",
       "      <th>sod</th>\n",
       "      <td>137.528754</td>\n",
       "      <td>137.528754</td>\n",
       "      <td>137.528754</td>\n",
       "      <td>111.000</td>\n",
       "      <td>137.528754</td>\n",
       "      <td>142.000</td>\n",
       "      <td>104.000000</td>\n",
       "      <td>137.528754</td>\n",
       "      <td>137.528754</td>\n",
       "      <td>114.00</td>\n",
       "      <td>137.528754</td>\n",
       "      <td>131.00</td>\n",
       "    </tr>\n",
       "    <tr>\n",
       "      <th>pot</th>\n",
       "      <td>4.627244</td>\n",
       "      <td>4.627244</td>\n",
       "      <td>4.627244</td>\n",
       "      <td>2.500</td>\n",
       "      <td>4.627244</td>\n",
       "      <td>3.200</td>\n",
       "      <td>4.000000</td>\n",
       "      <td>4.627244</td>\n",
       "      <td>4.627244</td>\n",
       "      <td>3.70</td>\n",
       "      <td>4.627244</td>\n",
       "      <td>4.20</td>\n",
       "    </tr>\n",
       "    <tr>\n",
       "      <th>hemo</th>\n",
       "      <td>15.400000</td>\n",
       "      <td>11.300000</td>\n",
       "      <td>9.600000</td>\n",
       "      <td>11.200</td>\n",
       "      <td>11.600000</td>\n",
       "      <td>12.200</td>\n",
       "      <td>12.400000</td>\n",
       "      <td>12.400000</td>\n",
       "      <td>10.800000</td>\n",
       "      <td>9.50</td>\n",
       "      <td>9.400000</td>\n",
       "      <td>10.80</td>\n",
       "    </tr>\n",
       "    <tr>\n",
       "      <th>pcv</th>\n",
       "      <td>44.000000</td>\n",
       "      <td>38.000000</td>\n",
       "      <td>31.000000</td>\n",
       "      <td>32.000</td>\n",
       "      <td>35.000000</td>\n",
       "      <td>39.000</td>\n",
       "      <td>36.000000</td>\n",
       "      <td>44.000000</td>\n",
       "      <td>33.000000</td>\n",
       "      <td>29.00</td>\n",
       "      <td>28.000000</td>\n",
       "      <td>32.00</td>\n",
       "    </tr>\n",
       "    <tr>\n",
       "      <th>wc</th>\n",
       "      <td>7800.000000</td>\n",
       "      <td>6000.000000</td>\n",
       "      <td>7500.000000</td>\n",
       "      <td>6700.000</td>\n",
       "      <td>7300.000000</td>\n",
       "      <td>7800.000</td>\n",
       "      <td>8406.122449</td>\n",
       "      <td>6900.000000</td>\n",
       "      <td>9600.000000</td>\n",
       "      <td>12100.00</td>\n",
       "      <td>8406.122449</td>\n",
       "      <td>4500.00</td>\n",
       "    </tr>\n",
       "    <tr>\n",
       "      <th>rc</th>\n",
       "      <td>5.000000</td>\n",
       "      <td>4.241636</td>\n",
       "      <td>4.241636</td>\n",
       "      <td>3.000</td>\n",
       "      <td>4.000000</td>\n",
       "      <td>4.000</td>\n",
       "      <td>4.241636</td>\n",
       "      <td>5.000000</td>\n",
       "      <td>4.000000</td>\n",
       "      <td>3.00</td>\n",
       "      <td>4.241636</td>\n",
       "      <td>3.00</td>\n",
       "    </tr>\n",
       "    <tr>\n",
       "      <th>htn</th>\n",
       "      <td>1.000000</td>\n",
       "      <td>0.000000</td>\n",
       "      <td>0.000000</td>\n",
       "      <td>1.000</td>\n",
       "      <td>0.000000</td>\n",
       "      <td>1.000</td>\n",
       "      <td>0.000000</td>\n",
       "      <td>0.000000</td>\n",
       "      <td>1.000000</td>\n",
       "      <td>1.00</td>\n",
       "      <td>1.000000</td>\n",
       "      <td>1.00</td>\n",
       "    </tr>\n",
       "    <tr>\n",
       "      <th>dm</th>\n",
       "      <td>1.000000</td>\n",
       "      <td>0.000000</td>\n",
       "      <td>1.000000</td>\n",
       "      <td>0.000</td>\n",
       "      <td>0.000000</td>\n",
       "      <td>1.000</td>\n",
       "      <td>0.000000</td>\n",
       "      <td>1.000000</td>\n",
       "      <td>1.000000</td>\n",
       "      <td>1.00</td>\n",
       "      <td>1.000000</td>\n",
       "      <td>1.00</td>\n",
       "    </tr>\n",
       "    <tr>\n",
       "      <th>cad</th>\n",
       "      <td>0.000000</td>\n",
       "      <td>0.000000</td>\n",
       "      <td>0.000000</td>\n",
       "      <td>0.000</td>\n",
       "      <td>0.000000</td>\n",
       "      <td>0.000</td>\n",
       "      <td>0.000000</td>\n",
       "      <td>0.000000</td>\n",
       "      <td>0.000000</td>\n",
       "      <td>0.00</td>\n",
       "      <td>0.000000</td>\n",
       "      <td>0.00</td>\n",
       "    </tr>\n",
       "    <tr>\n",
       "      <th>appet</th>\n",
       "      <td>1.000000</td>\n",
       "      <td>1.000000</td>\n",
       "      <td>0.000000</td>\n",
       "      <td>0.000</td>\n",
       "      <td>1.000000</td>\n",
       "      <td>1.000</td>\n",
       "      <td>1.000000</td>\n",
       "      <td>1.000000</td>\n",
       "      <td>1.000000</td>\n",
       "      <td>0.00</td>\n",
       "      <td>1.000000</td>\n",
       "      <td>0.00</td>\n",
       "    </tr>\n",
       "    <tr>\n",
       "      <th>pe</th>\n",
       "      <td>0.000000</td>\n",
       "      <td>0.000000</td>\n",
       "      <td>0.000000</td>\n",
       "      <td>1.000</td>\n",
       "      <td>0.000000</td>\n",
       "      <td>1.000</td>\n",
       "      <td>0.000000</td>\n",
       "      <td>1.000000</td>\n",
       "      <td>0.000000</td>\n",
       "      <td>0.00</td>\n",
       "      <td>0.000000</td>\n",
       "      <td>1.00</td>\n",
       "    </tr>\n",
       "    <tr>\n",
       "      <th>ane</th>\n",
       "      <td>0.000000</td>\n",
       "      <td>0.000000</td>\n",
       "      <td>1.000000</td>\n",
       "      <td>1.000</td>\n",
       "      <td>0.000000</td>\n",
       "      <td>0.000</td>\n",
       "      <td>0.000000</td>\n",
       "      <td>0.000000</td>\n",
       "      <td>1.000000</td>\n",
       "      <td>1.00</td>\n",
       "      <td>1.000000</td>\n",
       "      <td>0.00</td>\n",
       "    </tr>\n",
       "    <tr>\n",
       "      <th>class</th>\n",
       "      <td>1.000000</td>\n",
       "      <td>1.000000</td>\n",
       "      <td>1.000000</td>\n",
       "      <td>1.000</td>\n",
       "      <td>1.000000</td>\n",
       "      <td>1.000</td>\n",
       "      <td>1.000000</td>\n",
       "      <td>1.000000</td>\n",
       "      <td>1.000000</td>\n",
       "      <td>1.00</td>\n",
       "      <td>1.000000</td>\n",
       "      <td>1.00</td>\n",
       "    </tr>\n",
       "  </tbody>\n",
       "</table>\n",
       "</div>"
      ],
      "text/plain": [
       "                 0            1            2         3            4         5  \\\n",
       "age      48.000000     7.000000    62.000000    48.000    51.000000    60.000   \n",
       "bp       80.000000    50.000000    80.000000    70.000    80.000000    90.000   \n",
       "sg        1.020000     1.020000     1.010000     1.005     1.010000     1.015   \n",
       "al        1.000000     4.000000     2.000000     4.000     2.000000     3.000   \n",
       "su        0.000000     0.000000     3.000000     0.000     0.000000     0.000   \n",
       "rbc       0.000000     0.000000     0.000000     0.000     0.000000     0.000   \n",
       "pc        0.000000     0.000000     0.000000     1.000     0.000000     0.000   \n",
       "pcc       0.000000     0.000000     0.000000     1.000     0.000000     0.000   \n",
       "ba        0.000000     0.000000     0.000000     0.000     0.000000     0.000   \n",
       "bgr     121.000000   148.036517   423.000000   117.000   106.000000    74.000   \n",
       "bu       36.000000    18.000000    53.000000    56.000    26.000000    25.000   \n",
       "sc        1.200000     0.800000     1.800000     3.800     1.400000     1.100   \n",
       "sod     137.528754   137.528754   137.528754   111.000   137.528754   142.000   \n",
       "pot       4.627244     4.627244     4.627244     2.500     4.627244     3.200   \n",
       "hemo     15.400000    11.300000     9.600000    11.200    11.600000    12.200   \n",
       "pcv      44.000000    38.000000    31.000000    32.000    35.000000    39.000   \n",
       "wc     7800.000000  6000.000000  7500.000000  6700.000  7300.000000  7800.000   \n",
       "rc        5.000000     4.241636     4.241636     3.000     4.000000     4.000   \n",
       "htn       1.000000     0.000000     0.000000     1.000     0.000000     1.000   \n",
       "dm        1.000000     0.000000     1.000000     0.000     0.000000     1.000   \n",
       "cad       0.000000     0.000000     0.000000     0.000     0.000000     0.000   \n",
       "appet     1.000000     1.000000     0.000000     0.000     1.000000     1.000   \n",
       "pe        0.000000     0.000000     0.000000     1.000     0.000000     1.000   \n",
       "ane       0.000000     0.000000     1.000000     1.000     0.000000     0.000   \n",
       "class     1.000000     1.000000     1.000000     1.000     1.000000     1.000   \n",
       "\n",
       "                 6            7            8         9           10       11  \n",
       "age      68.000000    24.000000    52.000000     53.00    50.000000    63.00  \n",
       "bp       70.000000    76.469072   100.000000     90.00    60.000000    70.00  \n",
       "sg        1.010000     1.015000     1.015000      1.02     1.010000     1.01  \n",
       "al        0.000000     2.000000     3.000000      2.00     2.000000     3.00  \n",
       "su        0.000000     4.000000     0.000000      0.00     4.000000     0.00  \n",
       "rbc       0.000000     0.000000     0.000000      1.00     0.000000     1.00  \n",
       "pc        0.000000     1.000000     1.000000      1.00     1.000000     1.00  \n",
       "pcc       0.000000     0.000000     1.000000      1.00     1.000000     1.00  \n",
       "ba        0.000000     0.000000     0.000000      0.00     0.000000     0.00  \n",
       "bgr     100.000000   410.000000   138.000000     70.00   490.000000   380.00  \n",
       "bu       54.000000    31.000000    60.000000    107.00    55.000000    60.00  \n",
       "sc       24.000000     1.100000     1.900000      7.20     4.000000     2.70  \n",
       "sod     104.000000   137.528754   137.528754    114.00   137.528754   131.00  \n",
       "pot       4.000000     4.627244     4.627244      3.70     4.627244     4.20  \n",
       "hemo     12.400000    12.400000    10.800000      9.50     9.400000    10.80  \n",
       "pcv      36.000000    44.000000    33.000000     29.00    28.000000    32.00  \n",
       "wc     8406.122449  6900.000000  9600.000000  12100.00  8406.122449  4500.00  \n",
       "rc        4.241636     5.000000     4.000000      3.00     4.241636     3.00  \n",
       "htn       0.000000     0.000000     1.000000      1.00     1.000000     1.00  \n",
       "dm        0.000000     1.000000     1.000000      1.00     1.000000     1.00  \n",
       "cad       0.000000     0.000000     0.000000      0.00     0.000000     0.00  \n",
       "appet     1.000000     1.000000     1.000000      0.00     1.000000     0.00  \n",
       "pe        0.000000     1.000000     0.000000      0.00     0.000000     1.00  \n",
       "ane       0.000000     0.000000     1.000000      1.00     1.000000     0.00  \n",
       "class     1.000000     1.000000     1.000000      1.00     1.000000     1.00  "
      ]
     },
     "execution_count": 7,
     "metadata": {},
     "output_type": "execute_result"
    }
   ],
   "source": [
    "# Filling the missing string data as the most repetitive (mod)\n",
    "kidney_disease=kidney_disease.apply(lambda x:x.fillna(x.value_counts().index[0]))\n",
    "\n",
    "\n",
    "features = kidney_disease.keys()\n",
    "kidney_disease.head(12).T"
   ]
  },
  {
   "cell_type": "markdown",
   "metadata": {},
   "source": [
    "Filling the missing string data as the most repetitive (mod)\n",
    "\n",
    "\n",
    "### Pre-processed final dataset"
   ]
  },
  {
   "cell_type": "code",
   "execution_count": 8,
   "metadata": {},
   "outputs": [],
   "source": [
    "dataset = kidney_disease"
   ]
  },
  {
   "cell_type": "markdown",
   "metadata": {},
   "source": [
    "## Principal component Analysis - PCA"
   ]
  },
  {
   "cell_type": "code",
   "execution_count": 9,
   "metadata": {},
   "outputs": [],
   "source": [
    "# distributing the dataset into two components X and Y \n",
    "X = dataset.iloc[:, 0:24].values \n",
    "y = dataset.iloc[:, 24].values \n",
    "\n",
    "# Splitting the X and Y into the Training set and Testing set \n",
    "from sklearn.model_selection import train_test_split \n",
    "X_train, X_test, y_train, y_test = train_test_split(X, y, test_size = 0.2, random_state = 0) "
   ]
  },
  {
   "cell_type": "markdown",
   "metadata": {},
   "source": [
    "   - 0 to 23th column taken as X \n",
    "   - Classification(Target) feature taken as y"
   ]
  },
  {
   "cell_type": "code",
   "execution_count": 10,
   "metadata": {},
   "outputs": [],
   "source": [
    "# performing preprocessing part \n",
    "from sklearn.preprocessing import StandardScaler \n",
    "sc = StandardScaler() \n",
    "\n",
    "X_train = sc.fit_transform(X_train) \n",
    "X_test = sc.transform(X_test) "
   ]
  },
  {
   "cell_type": "markdown",
   "metadata": {},
   "source": [
    "  - Normalization\n",
    "  \n",
    "Applying PCA function on training and testing set of X component "
   ]
  },
  {
   "cell_type": "code",
   "execution_count": 11,
   "metadata": {},
   "outputs": [
    {
     "data": {
      "text/plain": [
       "array([0.28935568, 0.07469401])"
      ]
     },
     "execution_count": 11,
     "metadata": {},
     "output_type": "execute_result"
    }
   ],
   "source": [
    "# Applying PCA function on training and testing set of X component \n",
    "from sklearn.decomposition import PCA \n",
    "\n",
    "pca = PCA(n_components = 2) \n",
    "\n",
    "X_train = pca.fit_transform(X_train) \n",
    "X_test = pca.transform(X_test) \n",
    "\n",
    "explained_variance = pca.explained_variance_ratio_ \n",
    "explained_variance"
   ]
  },
  {
   "cell_type": "markdown",
   "metadata": {},
   "source": [
    "### Logistic Regression"
   ]
  },
  {
   "cell_type": "code",
   "execution_count": 12,
   "metadata": {},
   "outputs": [
    {
     "data": {
      "text/plain": [
       "LogisticRegression(random_state=0)"
      ]
     },
     "execution_count": 12,
     "metadata": {},
     "output_type": "execute_result"
    }
   ],
   "source": [
    "# Fitting Logistic Regression To the training set \n",
    "from sklearn.linear_model import LogisticRegression \n",
    "\n",
    "Logistic_Regression = LogisticRegression(random_state = 0) \n",
    "Logistic_Regression.fit(X_train, y_train) "
   ]
  },
  {
   "cell_type": "code",
   "execution_count": 13,
   "metadata": {},
   "outputs": [
    {
     "data": {
      "text/plain": [
       "array([[28,  0],\n",
       "       [ 1, 51]])"
      ]
     },
     "execution_count": 13,
     "metadata": {},
     "output_type": "execute_result"
    }
   ],
   "source": [
    "# Predicting the test set result using predict function under LogisticRegression \n",
    "Log_pred = Logistic_Regression.predict(X_test) \n",
    "\n",
    "# making confusion matrix between test set of Y and predicted value. \n",
    "from sklearn.metrics import confusion_matrix \n",
    "\n",
    "LogisticRegression_confusion_matrix = confusion_matrix(y_test, Log_pred) \n",
    "LogisticRegression_confusion_matrix"
   ]
  },
  {
   "cell_type": "code",
   "execution_count": 14,
   "metadata": {},
   "outputs": [
    {
     "name": "stderr",
     "output_type": "stream",
     "text": [
      "*c* argument looks like a single numeric RGB or RGBA sequence, which should be avoided as value-mapping will have precedence in case its length matches with *x* & *y*.  Please use the *color* keyword-argument or provide a 2-D array with a single row if you intend to specify the same RGB or RGBA value for all points.\n",
      "*c* argument looks like a single numeric RGB or RGBA sequence, which should be avoided as value-mapping will have precedence in case its length matches with *x* & *y*.  Please use the *color* keyword-argument or provide a 2-D array with a single row if you intend to specify the same RGB or RGBA value for all points.\n"
     ]
    },
    {
     "data": {
      "image/png": "[encoded data removed]",
      "text/plain": [
       "<Figure size 432x288 with 1 Axes>"
      ]
     },
     "metadata": {
      "needs_background": "light"
     },
     "output_type": "display_data"
    }
   ],
   "source": [
    "# Predicting the training set \n",
    "# result through scatter plot \n",
    "from matplotlib.colors import ListedColormap \n",
    "\n",
    "X_set, y_set = X_train, y_train \n",
    "X1, X2 = np.meshgrid(np.arange(start = X_set[:, 0].min() - 1, \n",
    "                    stop = X_set[:, 0].max() + 1, step = 0.01), \n",
    "                    np.arange(start = X_set[:, 1].min() - 1, \n",
    "                    stop = X_set[:, 1].max() + 1, step = 0.01)) \n",
    "\n",
    "plt.contourf(X1, X2, Logistic_Regression.predict(np.array([X1.ravel(), \n",
    "            X2.ravel()]).T).reshape(X1.shape), alpha = 0.75, \n",
    "            cmap = ListedColormap(('aquamarine', 'white', 'yellow'))) \n",
    "\n",
    "plt.xlim(X1.min(), X1.max()) \n",
    "plt.ylim(X2.min(), X2.max()) \n",
    "\n",
    "for i, j in enumerate(np.unique(y_set)): \n",
    "    plt.scatter(X_set[y_set == j, 0], X_set[y_set == j, 1], \n",
    "                c = ListedColormap(('red', 'green', 'blue'))(i), label = j) \n",
    "\n",
    "plt.title('Logistic Regression (Training set)') \n",
    "plt.xlabel('PC1') # for Xlabel \n",
    "plt.ylabel('PC2') # for Ylabel \n",
    "plt.legend() # to show legend \n",
    "\n",
    "# show scatter plot \n",
    "plt.show() \n"
   ]
  },
  {
   "cell_type": "code",
   "execution_count": 15,
   "metadata": {},
   "outputs": [
    {
     "name": "stderr",
     "output_type": "stream",
     "text": [
      "*c* argument looks like a single numeric RGB or RGBA sequence, which should be avoided as value-mapping will have precedence in case its length matches with *x* & *y*.  Please use the *color* keyword-argument or provide a 2-D array with a single row if you intend to specify the same RGB or RGBA value for all points.\n",
      "*c* argument looks like a single numeric RGB or RGBA sequence, which should be avoided as value-mapping will have precedence in case its length matches with *x* & *y*.  Please use the *color* keyword-argument or provide a 2-D array with a single row if you intend to specify the same RGB or RGBA value for all points.\n"
     ]
    },
    {
     "data": {
      "image/png": "[encoded data removed]",
      "text/plain": [
       "<Figure size 432x288 with 1 Axes>"
      ]
     },
     "metadata": {
      "needs_background": "light"
     },
     "output_type": "display_data"
    }
   ],
   "source": [
    "# Visualising the Test set results through scatter plot \n",
    "from matplotlib.colors import ListedColormap \n",
    "\n",
    "X_set, y_set = X_test, y_test \n",
    "\n",
    "X1, X2 = np.meshgrid(np.arange(start = X_set[:, 0].min() - 1, \n",
    "                    stop = X_set[:, 0].max() + 1, step = 0.01), \n",
    "                    np.arange(start = X_set[:, 1].min() - 1, \n",
    "                    stop = X_set[:, 1].max() + 1, step = 0.01)) \n",
    "\n",
    "plt.contourf(X1, X2, Logistic_Regression.predict(np.array([X1.ravel(), \n",
    "            X2.ravel()]).T).reshape(X1.shape), alpha = 0.75, \n",
    "            cmap = ListedColormap(('aquamarine', 'white', 'yellow'))) \n",
    "\n",
    "plt.xlim(X1.min(), X1.max()) \n",
    "plt.ylim(X2.min(), X2.max()) \n",
    "\n",
    "for i, j in enumerate(np.unique(y_set)): \n",
    "    plt.scatter(X_set[y_set == j, 0], X_set[y_set == j, 1], \n",
    "                c = ListedColormap(('red', 'green', 'blue'))(i), label = j) \n",
    "\n",
    "# title for scatter plot \n",
    "plt.title('Logistic Regression (Test set)') \n",
    "plt.xlabel('PC1') # for Xlabel \n",
    "plt.ylabel('PC2') # for Ylabel \n",
    "plt.legend() \n",
    "\n",
    "# show scatter plot \n",
    "plt.show() "
   ]
  },
  {
   "cell_type": "code",
   "execution_count": 16,
   "metadata": {},
   "outputs": [
    {
     "name": "stdout",
     "output_type": "stream",
     "text": [
      "MAE:  0.0125\n",
      "MSE:  0.0125\n",
      "RMSE:  0.11180339887498948\n"
     ]
    }
   ],
   "source": [
    "from sklearn import metrics\n",
    "from sklearn.metrics import r2_score,mean_squared_error\n",
    "\n",
    "print(\"MAE: \",metrics.mean_absolute_error(y_test, Log_pred))\n",
    "print(\"MSE: \",metrics.mean_squared_error(y_test,Log_pred))\n",
    "print(\"RMSE: \",np.sqrt(metrics.mean_squared_error(y_test,Log_pred)))"
   ]
  },
  {
   "cell_type": "code",
   "execution_count": 17,
   "metadata": {},
   "outputs": [
    {
     "data": {
      "text/plain": [
       "0.9875"
      ]
     },
     "execution_count": 17,
     "metadata": {},
     "output_type": "execute_result"
    }
   ],
   "source": [
    "LogisticRegression_score = Logistic_Regression.score(X_test, y_test)\n",
    "LogisticRegression_score"
   ]
  },
  {
   "cell_type": "markdown",
   "metadata": {},
   "source": [
    "### Decision Tree Regression Model"
   ]
  },
  {
   "cell_type": "code",
   "execution_count": 18,
   "metadata": {},
   "outputs": [
    {
     "data": {
      "text/plain": [
       "DecisionTreeRegressor(random_state=0)"
      ]
     },
     "execution_count": 18,
     "metadata": {},
     "output_type": "execute_result"
    }
   ],
   "source": [
    "# Fitting the DecisionTreeRegressor model to the dataset\n",
    "from sklearn.tree import DecisionTreeRegressor\n",
    "\n",
    "DecisionTree_Regressor = DecisionTreeRegressor(random_state = 0)\n",
    "DecisionTree_Regressor.fit(X_train, y_train)"
   ]
  },
  {
   "cell_type": "code",
   "execution_count": 19,
   "metadata": {},
   "outputs": [
    {
     "name": "stdout",
     "output_type": "stream",
     "text": [
      "MAE:  0.0125\n",
      "MSE:  0.0125\n",
      "RMSE:  0.11180339887498948\n"
     ]
    }
   ],
   "source": [
    "# Predicting a new result with the Decision Tree Regression\n",
    "DT_pred = DecisionTree_Regressor.predict(X_test)\n",
    "\n",
    "print(\"MAE: \",metrics.mean_absolute_error(y_test, DT_pred))\n",
    "print(\"MSE: \",metrics.mean_squared_error(y_test, DT_pred))\n",
    "print(\"RMSE: \",np.sqrt(metrics.mean_squared_error(y_test, DT_pred)))"
   ]
  },
  {
   "cell_type": "code",
   "execution_count": 20,
   "metadata": {},
   "outputs": [
    {
     "data": {
      "text/plain": [
       "array([[28,  0],\n",
       "       [ 1, 51]])"
      ]
     },
     "execution_count": 20,
     "metadata": {},
     "output_type": "execute_result"
    }
   ],
   "source": [
    "DecisionTree_confusion_matrix = confusion_matrix(y_test, DT_pred) \n",
    "DecisionTree_confusion_matrix"
   ]
  },
  {
   "cell_type": "code",
   "execution_count": 21,
   "metadata": {},
   "outputs": [
    {
     "data": {
      "text/plain": [
       "0.945054945054945"
      ]
     },
     "execution_count": 21,
     "metadata": {},
     "output_type": "execute_result"
    }
   ],
   "source": [
    "DecisionTree_score = DecisionTree_Regressor.score(X_test, y_test)\n",
    "DecisionTree_score"
   ]
  },
  {
   "cell_type": "markdown",
   "metadata": {},
   "source": [
    "### Random Forest Regression"
   ]
  },
  {
   "cell_type": "code",
   "execution_count": 22,
   "metadata": {},
   "outputs": [
    {
     "data": {
      "text/plain": [
       "RandomForestRegressor(random_state=0)"
      ]
     },
     "execution_count": 22,
     "metadata": {},
     "output_type": "execute_result"
    }
   ],
   "source": [
    "# Fitting the RandomForestRegressor model to the dataset\n",
    "from sklearn.ensemble import RandomForestRegressor\n",
    "\n",
    "RandomForest_Regressor = RandomForestRegressor(random_state = 0)\n",
    "RandomForest_Regressor.fit(X_train, y_train)"
   ]
  },
  {
   "cell_type": "code",
   "execution_count": 23,
   "metadata": {},
   "outputs": [
    {
     "name": "stdout",
     "output_type": "stream",
     "text": [
      "MAE:  0.0125\n",
      "MSE:  0.0125\n",
      "RMSE:  0.11180339887498948\n"
     ]
    }
   ],
   "source": [
    "# Predicting a new result with the RandomForestRegressor\n",
    "RF_pred = RandomForest_Regressor.predict(X_test)\n",
    "\n",
    "print(\"MAE: \",metrics.mean_absolute_error(y_test, RF_pred))\n",
    "print(\"MSE: \",metrics.mean_squared_error(y_test, RF_pred))\n",
    "print(\"RMSE: \",np.sqrt(metrics.mean_squared_error(y_test, RF_pred)))"
   ]
  },
  {
   "cell_type": "code",
   "execution_count": 24,
   "metadata": {},
   "outputs": [
    {
     "data": {
      "text/plain": [
       "array([[28,  0],\n",
       "       [ 1, 51]])"
      ]
     },
     "execution_count": 24,
     "metadata": {},
     "output_type": "execute_result"
    }
   ],
   "source": [
    "RandomForest_confusion_matrix = confusion_matrix(y_test, RF_pred) \n",
    "RandomForest_confusion_matrix"
   ]
  },
  {
   "cell_type": "code",
   "execution_count": 25,
   "metadata": {},
   "outputs": [
    {
     "data": {
      "text/plain": [
       "0.945054945054945"
      ]
     },
     "execution_count": 25,
     "metadata": {},
     "output_type": "execute_result"
    }
   ],
   "source": [
    "RandomForest_score = RandomForest_Regressor.score(X_test, y_test)\n",
    "RandomForest_score"
   ]
  },
  {
   "cell_type": "markdown",
   "metadata": {},
   "source": [
    "### Multiple Linear Regression\n"
   ]
  },
  {
   "cell_type": "code",
   "execution_count": 26,
   "metadata": {},
   "outputs": [
    {
     "data": {
      "text/plain": [
       "LinearRegression()"
      ]
     },
     "execution_count": 26,
     "metadata": {},
     "output_type": "execute_result"
    }
   ],
   "source": [
    "from sklearn.linear_model import LinearRegression\n",
    "\n",
    "Multilinear_model=LinearRegression()\n",
    "Multilinear_model.fit(X_train,y_train)"
   ]
  },
  {
   "cell_type": "code",
   "execution_count": 27,
   "metadata": {},
   "outputs": [
    {
     "name": "stdout",
     "output_type": "stream",
     "text": [
      "MAE:  0.2644836477908399\n",
      "MSE:  0.09642933318410943\n",
      "RMSE:  0.3105307282445804\n"
     ]
    }
   ],
   "source": [
    "# Predicting a new result with the LinearRegression\n",
    "ML_pred = Multilinear_model.predict(X_test)\n",
    "\n",
    "print(\"MAE: \",metrics.mean_absolute_error(y_test, ML_pred))\n",
    "print(\"MSE: \",metrics.mean_squared_error(y_test, ML_pred))\n",
    "print(\"RMSE: \",np.sqrt(metrics.mean_squared_error(y_test, ML_pred)))"
   ]
  },
  {
   "cell_type": "code",
   "execution_count": 28,
   "metadata": {},
   "outputs": [
    {
     "data": {
      "text/plain": [
       "0.5761347991907277"
      ]
     },
     "execution_count": 28,
     "metadata": {},
     "output_type": "execute_result"
    }
   ],
   "source": [
    "Multilinear_score = Multilinear_model.score(X_test, y_test)\n",
    "Multilinear_score"
   ]
  },
  {
   "cell_type": "markdown",
   "metadata": {},
   "source": [
    "### Support Vector Regression "
   ]
  },
  {
   "cell_type": "code",
   "execution_count": 29,
   "metadata": {},
   "outputs": [
    {
     "data": {
      "text/plain": [
       "SVR()"
      ]
     },
     "execution_count": 29,
     "metadata": {},
     "output_type": "execute_result"
    }
   ],
   "source": [
    "from sklearn.svm import SVR\n",
    "\n",
    "SupportVectorRegression = SVR()\n",
    "SupportVectorRegression.fit(X_train, y_train)"
   ]
  },
  {
   "cell_type": "code",
   "execution_count": 30,
   "metadata": {},
   "outputs": [
    {
     "name": "stdout",
     "output_type": "stream",
     "text": [
      "MAE:  0.09382720300781053\n",
      "MSE:  0.02275556326645812\n",
      "RMSE:  0.1508494722114006\n"
     ]
    }
   ],
   "source": [
    "SVR_pred = SupportVectorRegression.predict(X_test)\n",
    "\n",
    "print(\"MAE: \",metrics.mean_absolute_error(y_test, SVR_pred))\n",
    "print(\"MSE: \",metrics.mean_squared_error(y_test, SVR_pred))\n",
    "print(\"RMSE: \",np.sqrt(metrics.mean_squared_error(y_test, SVR_pred)))"
   ]
  },
  {
   "cell_type": "code",
   "execution_count": 31,
   "metadata": {},
   "outputs": [
    {
     "data": {
      "text/plain": [
       "0.8999755460815028"
      ]
     },
     "execution_count": 31,
     "metadata": {},
     "output_type": "execute_result"
    }
   ],
   "source": [
    "SupportVector_score= SupportVectorRegression.score(X_test, y_test)\n",
    "SupportVector_score"
   ]
  },
  {
   "cell_type": "markdown",
   "metadata": {},
   "source": [
    "#### PCA - Accuracy over different Regression model"
   ]
  },
  {
   "cell_type": "code",
   "execution_count": 41,
   "metadata": {},
   "outputs": [
    {
     "name": "stdout",
     "output_type": "stream",
     "text": [
      "Logistic Regression        \t:  98.75\n",
      "RMSE \t\t\t\t:  0.112\n",
      "\n",
      "Decision Tree Regression \t:  94.51\n",
      "RMSE \t\t\t\t:  0.112\n",
      "\n",
      "Random Forest Regression \t:  94.51\n",
      "RMSE \t\t\t\t:  0.112\n",
      "\n",
      "Multiple Linear Regression\t:  57.61\n",
      "RMSE \t\t\t\t:  0.311\n",
      "\n",
      "Support Vector Regression\t:  90.0\n",
      "RMSE \t\t\t\t:  0.151\n"
     ]
    }
   ],
   "source": [
    "print(\"Logistic Regression        \\t: \", round(LogisticRegression_score*100, 2))\n",
    "print(\"RMSE \\t\\t\\t\\t: \", round(np.sqrt(metrics.mean_squared_error(y_test, Log_pred)), 3))\n",
    "print(\"\\nDecision Tree Regression \\t: \", round(DecisionTree_score*100, 2))\n",
    "print(\"RMSE \\t\\t\\t\\t: \", round(np.sqrt(metrics.mean_squared_error(y_test, DT_pred)), 3))\n",
    "print(\"\\nRandom Forest Regression \\t: \", round(RandomForest_score*100, 2))\n",
    "print(\"RMSE \\t\\t\\t\\t: \", round(np.sqrt(metrics.mean_squared_error(y_test, RF_pred)), 3))\n",
    "print(\"\\nMultiple Linear Regression\\t: \", round(Multilinear_score*100, 2))\n",
    "print(\"RMSE \\t\\t\\t\\t: \", round(np.sqrt(metrics.mean_squared_error(y_test, ML_pred)), 3))\n",
    "print(\"\\nSupport Vector Regression\\t: \", round(SupportVector_score*100, 2))\n",
    "print(\"RMSE \\t\\t\\t\\t: \", round(np.sqrt(metrics.mean_squared_error(y_test, SVR_pred)), 3))"
   ]
  },
  {
   "cell_type": "markdown",
   "metadata": {},
   "source": [
    "##### Principal Component Analysis (PCA)\n",
    "\n",
    "   - 400 x 24 High-dimensional space was projected to 400 x 2 lower-dimensional sub-space without losing \n",
    "    \n",
    "    \n",
    "   - The accuracy of the Individual model differs based on our Feature selections.\n",
    "   \n",
    "   \n",
    "   - Dimensionality reduction accuracy may differ from Correlation and other feature selection techniques in machine learning (Filter, Wrapper,  Embedded, Hybrid) \n",
    "   \n",
    "   \n",
    "   - Excluding Multiple-Linear Regression rest of all the Regression models having 90+ accuracy percentage.\n",
    "   \n",
    "   \n",
    "    . Logistic Regression       :  98.75             \n",
    "    . Decision Tree Regression \t:  94.51             \n",
    "    . Random Forest Regression \t:  94.51            \n",
    "    . Support Vector Regression\t:  90.0    \n",
    "    \n",
    "    \n",
    "   - Excluding Multiple-Linear Regression rest of all the Regression models having 90+ accuracy percentage.\n",
    "   \n",
    "   \n",
    "   - Logistic, Decision Tree, Random Forest Regression giving best RMSE points.\n",
    "   \n",
    "   \n",
    "   - PCA is boosting the accuracy values, n_components and dataset's are playing significant role"
   ]
  },
  {
   "cell_type": "code",
   "execution_count": null,
   "metadata": {},
   "outputs": [],
   "source": []
  }
 ],
 "metadata": {
  "kernelspec": {
   "display_name": "Python 3",
   "language": "python",
   "name": "python3"
  },
  "language_info": {
   "codemirror_mode": {
    "name": "ipython",
    "version": 3
   },
   "file_extension": ".py",
   "mimetype": "text/x-python",
   "name": "python",
   "nbconvert_exporter": "python",
   "pygments_lexer": "ipython3",
   "version": "3.8.3"
  }
 },
 "nbformat": 4,
 "nbformat_minor": 4
}
