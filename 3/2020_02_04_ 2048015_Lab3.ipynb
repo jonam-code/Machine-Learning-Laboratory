{
 "cells": [
  {
   "cell_type": "markdown",
   "metadata": {},
   "source": [
    "# MANOJ KUMAR - 2048015"
   ]
  },
  {
   "cell_type": "markdown",
   "metadata": {},
   "source": [
    "## importing the libraries"
   ]
  },
  {
   "cell_type": "code",
   "execution_count": 1,
   "metadata": {
    "execution": {
     "iopub.execute_input": "2021-01-08T12:19:42.563119Z",
     "iopub.status.busy": "2021-01-08T12:19:42.562393Z",
     "iopub.status.idle": "2021-01-08T12:19:44.092267Z",
     "shell.execute_reply": "2021-01-08T12:19:44.091521Z"
    },
    "papermill": {
     "duration": 1.580024,
     "end_time": "2021-01-08T12:19:44.092385",
     "exception": false,
     "start_time": "2021-01-08T12:19:42.512361",
     "status": "completed"
    },
    "tags": []
   },
   "outputs": [],
   "source": [
    "import numpy as np\n",
    "import pandas as pd\n",
    "import matplotlib.pyplot as plt\n",
    "import seaborn as sns\n",
    "\n",
    "from sklearn.model_selection import train_test_split, GridSearchCV\n",
    "from sklearn.preprocessing import StandardScaler\n",
    "from sklearn.metrics import accuracy_score\n",
    "from sklearn.metrics import confusion_matrix \n",
    "\n",
    "from sklearn.tree import DecisionTreeClassifier\n",
    "from sklearn.svm import SVC\n",
    "from sklearn.linear_model import LogisticRegression\n",
    "from sklearn.naive_bayes import GaussianNB\n",
    "from sklearn.neighbors import KNeighborsClassifier\n",
    "from sklearn.ensemble import RandomForestClassifier\n",
    "\n",
    "from sklearn.metrics import roc_curve, auc, confusion_matrix, classification_report,accuracy_score"
   ]
  },
  {
   "cell_type": "markdown",
   "metadata": {},
   "source": [
    "## import Dataset"
   ]
  },
  {
   "cell_type": "code",
   "execution_count": 2,
   "metadata": {
    "_cell_guid": "79c7e3d0-c299-4dcb-8224-4455121ee9b0",
    "_uuid": "d629ff2d2480ee46fbb7e2d37f6b5fab8052498a",
    "execution": {
     "iopub.execute_input": "2021-01-08T12:19:44.182791Z",
     "iopub.status.busy": "2021-01-08T12:19:44.182048Z",
     "iopub.status.idle": "2021-01-08T12:19:44.201433Z",
     "shell.execute_reply": "2021-01-08T12:19:44.201956Z"
    },
    "papermill": {
     "duration": 0.067853,
     "end_time": "2021-01-08T12:19:44.202269",
     "exception": false,
     "start_time": "2021-01-08T12:19:44.134416",
     "status": "completed"
    },
    "tags": []
   },
   "outputs": [],
   "source": [
    "dataset = pd.read_csv('kidney_disease.csv')"
   ]
  },
  {
   "cell_type": "code",
   "execution_count": 3,
   "metadata": {
    "execution": {
     "iopub.execute_input": "2021-01-08T12:19:44.289530Z",
     "iopub.status.busy": "2021-01-08T12:19:44.288776Z",
     "iopub.status.idle": "2021-01-08T12:19:44.333302Z",
     "shell.execute_reply": "2021-01-08T12:19:44.332711Z"
    },
    "papermill": {
     "duration": 0.089432,
     "end_time": "2021-01-08T12:19:44.333417",
     "exception": false,
     "start_time": "2021-01-08T12:19:44.243985",
     "status": "completed"
    },
    "tags": []
   },
   "outputs": [
    {
     "data": {
      "text/html": [
       "<div>\n",
       "<style scoped>\n",
       "    .dataframe tbody tr th:only-of-type {\n",
       "        vertical-align: middle;\n",
       "    }\n",
       "\n",
       "    .dataframe tbody tr th {\n",
       "        vertical-align: top;\n",
       "    }\n",
       "\n",
       "    .dataframe thead th {\n",
       "        text-align: right;\n",
       "    }\n",
       "</style>\n",
       "<table border=\"1\" class=\"dataframe\">\n",
       "  <thead>\n",
       "    <tr style=\"text-align: right;\">\n",
       "      <th></th>\n",
       "      <th>id</th>\n",
       "      <th>age</th>\n",
       "      <th>bp</th>\n",
       "      <th>sg</th>\n",
       "      <th>al</th>\n",
       "      <th>su</th>\n",
       "      <th>rbc</th>\n",
       "      <th>pc</th>\n",
       "      <th>pcc</th>\n",
       "      <th>ba</th>\n",
       "      <th>...</th>\n",
       "      <th>pcv</th>\n",
       "      <th>wc</th>\n",
       "      <th>rc</th>\n",
       "      <th>htn</th>\n",
       "      <th>dm</th>\n",
       "      <th>cad</th>\n",
       "      <th>appet</th>\n",
       "      <th>pe</th>\n",
       "      <th>ane</th>\n",
       "      <th>classification</th>\n",
       "    </tr>\n",
       "  </thead>\n",
       "  <tbody>\n",
       "    <tr>\n",
       "      <th>0</th>\n",
       "      <td>0</td>\n",
       "      <td>48.0</td>\n",
       "      <td>80.0</td>\n",
       "      <td>1.020</td>\n",
       "      <td>1.0</td>\n",
       "      <td>0.0</td>\n",
       "      <td>NaN</td>\n",
       "      <td>normal</td>\n",
       "      <td>notpresent</td>\n",
       "      <td>notpresent</td>\n",
       "      <td>...</td>\n",
       "      <td>44</td>\n",
       "      <td>7800</td>\n",
       "      <td>5.2</td>\n",
       "      <td>yes</td>\n",
       "      <td>yes</td>\n",
       "      <td>no</td>\n",
       "      <td>good</td>\n",
       "      <td>no</td>\n",
       "      <td>no</td>\n",
       "      <td>ckd</td>\n",
       "    </tr>\n",
       "    <tr>\n",
       "      <th>1</th>\n",
       "      <td>1</td>\n",
       "      <td>7.0</td>\n",
       "      <td>50.0</td>\n",
       "      <td>1.020</td>\n",
       "      <td>4.0</td>\n",
       "      <td>0.0</td>\n",
       "      <td>NaN</td>\n",
       "      <td>normal</td>\n",
       "      <td>notpresent</td>\n",
       "      <td>notpresent</td>\n",
       "      <td>...</td>\n",
       "      <td>38</td>\n",
       "      <td>6000</td>\n",
       "      <td>NaN</td>\n",
       "      <td>no</td>\n",
       "      <td>no</td>\n",
       "      <td>no</td>\n",
       "      <td>good</td>\n",
       "      <td>no</td>\n",
       "      <td>no</td>\n",
       "      <td>ckd</td>\n",
       "    </tr>\n",
       "    <tr>\n",
       "      <th>2</th>\n",
       "      <td>2</td>\n",
       "      <td>62.0</td>\n",
       "      <td>80.0</td>\n",
       "      <td>1.010</td>\n",
       "      <td>2.0</td>\n",
       "      <td>3.0</td>\n",
       "      <td>normal</td>\n",
       "      <td>normal</td>\n",
       "      <td>notpresent</td>\n",
       "      <td>notpresent</td>\n",
       "      <td>...</td>\n",
       "      <td>31</td>\n",
       "      <td>7500</td>\n",
       "      <td>NaN</td>\n",
       "      <td>no</td>\n",
       "      <td>yes</td>\n",
       "      <td>no</td>\n",
       "      <td>poor</td>\n",
       "      <td>no</td>\n",
       "      <td>yes</td>\n",
       "      <td>ckd</td>\n",
       "    </tr>\n",
       "    <tr>\n",
       "      <th>3</th>\n",
       "      <td>3</td>\n",
       "      <td>48.0</td>\n",
       "      <td>70.0</td>\n",
       "      <td>1.005</td>\n",
       "      <td>4.0</td>\n",
       "      <td>0.0</td>\n",
       "      <td>normal</td>\n",
       "      <td>abnormal</td>\n",
       "      <td>present</td>\n",
       "      <td>notpresent</td>\n",
       "      <td>...</td>\n",
       "      <td>32</td>\n",
       "      <td>6700</td>\n",
       "      <td>3.9</td>\n",
       "      <td>yes</td>\n",
       "      <td>no</td>\n",
       "      <td>no</td>\n",
       "      <td>poor</td>\n",
       "      <td>yes</td>\n",
       "      <td>yes</td>\n",
       "      <td>ckd</td>\n",
       "    </tr>\n",
       "    <tr>\n",
       "      <th>4</th>\n",
       "      <td>4</td>\n",
       "      <td>51.0</td>\n",
       "      <td>80.0</td>\n",
       "      <td>1.010</td>\n",
       "      <td>2.0</td>\n",
       "      <td>0.0</td>\n",
       "      <td>normal</td>\n",
       "      <td>normal</td>\n",
       "      <td>notpresent</td>\n",
       "      <td>notpresent</td>\n",
       "      <td>...</td>\n",
       "      <td>35</td>\n",
       "      <td>7300</td>\n",
       "      <td>4.6</td>\n",
       "      <td>no</td>\n",
       "      <td>no</td>\n",
       "      <td>no</td>\n",
       "      <td>good</td>\n",
       "      <td>no</td>\n",
       "      <td>no</td>\n",
       "      <td>ckd</td>\n",
       "    </tr>\n",
       "  </tbody>\n",
       "</table>\n",
       "<p>5 rows × 26 columns</p>\n",
       "</div>"
      ],
      "text/plain": [
       "   id   age    bp     sg   al   su     rbc        pc         pcc          ba  \\\n",
       "0   0  48.0  80.0  1.020  1.0  0.0     NaN    normal  notpresent  notpresent   \n",
       "1   1   7.0  50.0  1.020  4.0  0.0     NaN    normal  notpresent  notpresent   \n",
       "2   2  62.0  80.0  1.010  2.0  3.0  normal    normal  notpresent  notpresent   \n",
       "3   3  48.0  70.0  1.005  4.0  0.0  normal  abnormal     present  notpresent   \n",
       "4   4  51.0  80.0  1.010  2.0  0.0  normal    normal  notpresent  notpresent   \n",
       "\n",
       "   ...  pcv    wc   rc  htn   dm  cad appet   pe  ane classification  \n",
       "0  ...   44  7800  5.2  yes  yes   no  good   no   no            ckd  \n",
       "1  ...   38  6000  NaN   no   no   no  good   no   no            ckd  \n",
       "2  ...   31  7500  NaN   no  yes   no  poor   no  yes            ckd  \n",
       "3  ...   32  6700  3.9  yes   no   no  poor  yes  yes            ckd  \n",
       "4  ...   35  7300  4.6   no   no   no  good   no   no            ckd  \n",
       "\n",
       "[5 rows x 26 columns]"
      ]
     },
     "execution_count": 3,
     "metadata": {},
     "output_type": "execute_result"
    }
   ],
   "source": [
    "dataset.head()"
   ]
  },
  {
   "cell_type": "code",
   "execution_count": 4,
   "metadata": {
    "execution": {
     "iopub.execute_input": "2021-01-08T12:19:44.425120Z",
     "iopub.status.busy": "2021-01-08T12:19:44.424226Z",
     "iopub.status.idle": "2021-01-08T12:19:44.429118Z",
     "shell.execute_reply": "2021-01-08T12:19:44.428321Z"
    },
    "papermill": {
     "duration": 0.053252,
     "end_time": "2021-01-08T12:19:44.429237",
     "exception": false,
     "start_time": "2021-01-08T12:19:44.375985",
     "status": "completed"
    },
    "tags": []
   },
   "outputs": [
    {
     "data": {
      "text/plain": [
       "(400, 26)"
      ]
     },
     "execution_count": 4,
     "metadata": {},
     "output_type": "execute_result"
    }
   ],
   "source": [
    "dataset.shape"
   ]
  },
  {
   "cell_type": "code",
   "execution_count": 5,
   "metadata": {
    "execution": {
     "iopub.execute_input": "2021-01-08T12:19:44.524343Z",
     "iopub.status.busy": "2021-01-08T12:19:44.523542Z",
     "iopub.status.idle": "2021-01-08T12:19:44.527921Z",
     "shell.execute_reply": "2021-01-08T12:19:44.529069Z"
    },
    "papermill": {
     "duration": 0.056339,
     "end_time": "2021-01-08T12:19:44.529216",
     "exception": false,
     "start_time": "2021-01-08T12:19:44.472877",
     "status": "completed"
    },
    "tags": []
   },
   "outputs": [
    {
     "data": {
      "text/plain": [
       "id                  int64\n",
       "age               float64\n",
       "bp                float64\n",
       "sg                float64\n",
       "al                float64\n",
       "su                float64\n",
       "rbc                object\n",
       "pc                 object\n",
       "pcc                object\n",
       "ba                 object\n",
       "bgr               float64\n",
       "bu                float64\n",
       "sc                float64\n",
       "sod               float64\n",
       "pot               float64\n",
       "hemo              float64\n",
       "pcv                object\n",
       "wc                 object\n",
       "rc                 object\n",
       "htn                object\n",
       "dm                 object\n",
       "cad                object\n",
       "appet              object\n",
       "pe                 object\n",
       "ane                object\n",
       "classification     object\n",
       "dtype: object"
      ]
     },
     "execution_count": 5,
     "metadata": {},
     "output_type": "execute_result"
    }
   ],
   "source": [
    "dataset.dtypes"
   ]
  },
  {
   "cell_type": "markdown",
   "metadata": {
    "papermill": {
     "duration": 0.042996,
     "end_time": "2021-01-08T12:19:44.618039",
     "exception": false,
     "start_time": "2021-01-08T12:19:44.575043",
     "status": "completed"
    },
    "tags": []
   },
   "source": [
    "### Cleaning and preprocessing of data for training"
   ]
  },
  {
   "cell_type": "code",
   "execution_count": 6,
   "metadata": {
    "execution": {
     "iopub.execute_input": "2021-01-08T12:19:44.714009Z",
     "iopub.status.busy": "2021-01-08T12:19:44.713292Z",
     "iopub.status.idle": "2021-01-08T12:19:44.736856Z",
     "shell.execute_reply": "2021-01-08T12:19:44.736236Z"
    },
    "papermill": {
     "duration": 0.075021,
     "end_time": "2021-01-08T12:19:44.736982",
     "exception": false,
     "start_time": "2021-01-08T12:19:44.661961",
     "status": "completed"
    },
    "tags": []
   },
   "outputs": [],
   "source": [
    "dataset[['htn','dm','cad','pe','ane']]=dataset[['htn','dm','cad','pe','ane']].replace(to_replace={'yes':1,'no':0})\n",
    "dataset[['rbc','pc']] = dataset[['rbc','pc']].replace(to_replace={'abnormal':1,'normal':0})\n",
    "dataset[['pcc','ba']] = dataset[['pcc','ba']].replace(to_replace={'present':1,'notpresent':0})\n",
    "dataset[['appet']] = dataset[['appet']].replace(to_replace={'good':1,'poor':0,'no':np.nan})\n",
    "dataset['classification']=dataset['classification'].replace(to_replace={'ckd':1.0,'ckd\\t':1.0,'notckd':0.0,'no':0.0})\n",
    "dataset.rename(columns={'classification':'class'},inplace=True)"
   ]
  },
  {
   "cell_type": "code",
   "execution_count": 7,
   "metadata": {
    "execution": {
     "iopub.execute_input": "2021-01-08T12:19:44.839889Z",
     "iopub.status.busy": "2021-01-08T12:19:44.838781Z",
     "iopub.status.idle": "2021-01-08T12:19:44.843749Z",
     "shell.execute_reply": "2021-01-08T12:19:44.842994Z"
    },
    "papermill": {
     "duration": 0.063224,
     "end_time": "2021-01-08T12:19:44.843872",
     "exception": false,
     "start_time": "2021-01-08T12:19:44.780648",
     "status": "completed"
    },
    "tags": []
   },
   "outputs": [],
   "source": [
    "# Further cleaning\n",
    "dataset['pe'] = dataset['pe'].replace(to_replace='good',value=0) # Not having pedal edema is good\n",
    "dataset['appet'] = dataset['appet'].replace(to_replace='no',value=0)\n",
    "dataset['cad'] = dataset['cad'].replace(to_replace='\\tno',value=0)\n",
    "dataset['dm'] = dataset['dm'].replace(to_replace={'\\tno':0,'\\tyes':1,' yes':1, '':np.nan})\n",
    "dataset.drop('id',axis=1,inplace=True)"
   ]
  },
  {
   "cell_type": "code",
   "execution_count": 8,
   "metadata": {
    "execution": {
     "iopub.execute_input": "2021-01-08T12:19:44.960514Z",
     "iopub.status.busy": "2021-01-08T12:19:44.947071Z",
     "iopub.status.idle": "2021-01-08T12:19:44.965803Z",
     "shell.execute_reply": "2021-01-08T12:19:44.965104Z"
    },
    "papermill": {
     "duration": 0.078108,
     "end_time": "2021-01-08T12:19:44.965929",
     "exception": false,
     "start_time": "2021-01-08T12:19:44.887821",
     "status": "completed"
    },
    "tags": []
   },
   "outputs": [
    {
     "data": {
      "text/html": [
       "<div>\n",
       "<style scoped>\n",
       "    .dataframe tbody tr th:only-of-type {\n",
       "        vertical-align: middle;\n",
       "    }\n",
       "\n",
       "    .dataframe tbody tr th {\n",
       "        vertical-align: top;\n",
       "    }\n",
       "\n",
       "    .dataframe thead th {\n",
       "        text-align: right;\n",
       "    }\n",
       "</style>\n",
       "<table border=\"1\" class=\"dataframe\">\n",
       "  <thead>\n",
       "    <tr style=\"text-align: right;\">\n",
       "      <th></th>\n",
       "      <th>age</th>\n",
       "      <th>bp</th>\n",
       "      <th>sg</th>\n",
       "      <th>al</th>\n",
       "      <th>su</th>\n",
       "      <th>rbc</th>\n",
       "      <th>pc</th>\n",
       "      <th>pcc</th>\n",
       "      <th>ba</th>\n",
       "      <th>bgr</th>\n",
       "      <th>...</th>\n",
       "      <th>pcv</th>\n",
       "      <th>wc</th>\n",
       "      <th>rc</th>\n",
       "      <th>htn</th>\n",
       "      <th>dm</th>\n",
       "      <th>cad</th>\n",
       "      <th>appet</th>\n",
       "      <th>pe</th>\n",
       "      <th>ane</th>\n",
       "      <th>class</th>\n",
       "    </tr>\n",
       "  </thead>\n",
       "  <tbody>\n",
       "    <tr>\n",
       "      <th>0</th>\n",
       "      <td>48.0</td>\n",
       "      <td>80.0</td>\n",
       "      <td>1.020</td>\n",
       "      <td>1.0</td>\n",
       "      <td>0.0</td>\n",
       "      <td>NaN</td>\n",
       "      <td>0.0</td>\n",
       "      <td>0.0</td>\n",
       "      <td>0.0</td>\n",
       "      <td>121.0</td>\n",
       "      <td>...</td>\n",
       "      <td>44</td>\n",
       "      <td>7800</td>\n",
       "      <td>5.2</td>\n",
       "      <td>1.0</td>\n",
       "      <td>1.0</td>\n",
       "      <td>0.0</td>\n",
       "      <td>1.0</td>\n",
       "      <td>0.0</td>\n",
       "      <td>0.0</td>\n",
       "      <td>1.0</td>\n",
       "    </tr>\n",
       "    <tr>\n",
       "      <th>1</th>\n",
       "      <td>7.0</td>\n",
       "      <td>50.0</td>\n",
       "      <td>1.020</td>\n",
       "      <td>4.0</td>\n",
       "      <td>0.0</td>\n",
       "      <td>NaN</td>\n",
       "      <td>0.0</td>\n",
       "      <td>0.0</td>\n",
       "      <td>0.0</td>\n",
       "      <td>NaN</td>\n",
       "      <td>...</td>\n",
       "      <td>38</td>\n",
       "      <td>6000</td>\n",
       "      <td>NaN</td>\n",
       "      <td>0.0</td>\n",
       "      <td>0.0</td>\n",
       "      <td>0.0</td>\n",
       "      <td>1.0</td>\n",
       "      <td>0.0</td>\n",
       "      <td>0.0</td>\n",
       "      <td>1.0</td>\n",
       "    </tr>\n",
       "    <tr>\n",
       "      <th>2</th>\n",
       "      <td>62.0</td>\n",
       "      <td>80.0</td>\n",
       "      <td>1.010</td>\n",
       "      <td>2.0</td>\n",
       "      <td>3.0</td>\n",
       "      <td>0.0</td>\n",
       "      <td>0.0</td>\n",
       "      <td>0.0</td>\n",
       "      <td>0.0</td>\n",
       "      <td>423.0</td>\n",
       "      <td>...</td>\n",
       "      <td>31</td>\n",
       "      <td>7500</td>\n",
       "      <td>NaN</td>\n",
       "      <td>0.0</td>\n",
       "      <td>1.0</td>\n",
       "      <td>0.0</td>\n",
       "      <td>0.0</td>\n",
       "      <td>0.0</td>\n",
       "      <td>1.0</td>\n",
       "      <td>1.0</td>\n",
       "    </tr>\n",
       "    <tr>\n",
       "      <th>3</th>\n",
       "      <td>48.0</td>\n",
       "      <td>70.0</td>\n",
       "      <td>1.005</td>\n",
       "      <td>4.0</td>\n",
       "      <td>0.0</td>\n",
       "      <td>0.0</td>\n",
       "      <td>1.0</td>\n",
       "      <td>1.0</td>\n",
       "      <td>0.0</td>\n",
       "      <td>117.0</td>\n",
       "      <td>...</td>\n",
       "      <td>32</td>\n",
       "      <td>6700</td>\n",
       "      <td>3.9</td>\n",
       "      <td>1.0</td>\n",
       "      <td>0.0</td>\n",
       "      <td>0.0</td>\n",
       "      <td>0.0</td>\n",
       "      <td>1.0</td>\n",
       "      <td>1.0</td>\n",
       "      <td>1.0</td>\n",
       "    </tr>\n",
       "    <tr>\n",
       "      <th>4</th>\n",
       "      <td>51.0</td>\n",
       "      <td>80.0</td>\n",
       "      <td>1.010</td>\n",
       "      <td>2.0</td>\n",
       "      <td>0.0</td>\n",
       "      <td>0.0</td>\n",
       "      <td>0.0</td>\n",
       "      <td>0.0</td>\n",
       "      <td>0.0</td>\n",
       "      <td>106.0</td>\n",
       "      <td>...</td>\n",
       "      <td>35</td>\n",
       "      <td>7300</td>\n",
       "      <td>4.6</td>\n",
       "      <td>0.0</td>\n",
       "      <td>0.0</td>\n",
       "      <td>0.0</td>\n",
       "      <td>1.0</td>\n",
       "      <td>0.0</td>\n",
       "      <td>0.0</td>\n",
       "      <td>1.0</td>\n",
       "    </tr>\n",
       "  </tbody>\n",
       "</table>\n",
       "<p>5 rows × 25 columns</p>\n",
       "</div>"
      ],
      "text/plain": [
       "    age    bp     sg   al   su  rbc   pc  pcc   ba    bgr  ...  pcv    wc  \\\n",
       "0  48.0  80.0  1.020  1.0  0.0  NaN  0.0  0.0  0.0  121.0  ...   44  7800   \n",
       "1   7.0  50.0  1.020  4.0  0.0  NaN  0.0  0.0  0.0    NaN  ...   38  6000   \n",
       "2  62.0  80.0  1.010  2.0  3.0  0.0  0.0  0.0  0.0  423.0  ...   31  7500   \n",
       "3  48.0  70.0  1.005  4.0  0.0  0.0  1.0  1.0  0.0  117.0  ...   32  6700   \n",
       "4  51.0  80.0  1.010  2.0  0.0  0.0  0.0  0.0  0.0  106.0  ...   35  7300   \n",
       "\n",
       "    rc  htn   dm  cad appet   pe  ane  class  \n",
       "0  5.2  1.0  1.0  0.0   1.0  0.0  0.0    1.0  \n",
       "1  NaN  0.0  0.0  0.0   1.0  0.0  0.0    1.0  \n",
       "2  NaN  0.0  1.0  0.0   0.0  0.0  1.0    1.0  \n",
       "3  3.9  1.0  0.0  0.0   0.0  1.0  1.0    1.0  \n",
       "4  4.6  0.0  0.0  0.0   1.0  0.0  0.0    1.0  \n",
       "\n",
       "[5 rows x 25 columns]"
      ]
     },
     "execution_count": 8,
     "metadata": {},
     "output_type": "execute_result"
    }
   ],
   "source": [
    "dataset.head()"
   ]
  },
  {
   "cell_type": "code",
   "execution_count": 9,
   "metadata": {
    "execution": {
     "iopub.execute_input": "2021-01-08T12:19:45.062192Z",
     "iopub.status.busy": "2021-01-08T12:19:45.061189Z",
     "iopub.status.idle": "2021-01-08T12:19:45.072430Z",
     "shell.execute_reply": "2021-01-08T12:19:45.071739Z"
    },
    "papermill": {
     "duration": 0.062224,
     "end_time": "2021-01-08T12:19:45.072551",
     "exception": false,
     "start_time": "2021-01-08T12:19:45.010327",
     "status": "completed"
    },
    "tags": []
   },
   "outputs": [],
   "source": [
    "# '?' character remove process in the dataset\n",
    "for i in ['rc','wc','pcv']:\n",
    "    dataset[i] = dataset[i].str.extract('(\\d+)').astype(float)"
   ]
  },
  {
   "cell_type": "code",
   "execution_count": 10,
   "metadata": {
    "execution": {
     "iopub.execute_input": "2021-01-08T12:19:45.173757Z",
     "iopub.status.busy": "2021-01-08T12:19:45.172721Z",
     "iopub.status.idle": "2021-01-08T12:19:45.176909Z",
     "shell.execute_reply": "2021-01-08T12:19:45.176191Z"
    },
    "papermill": {
     "duration": 0.059537,
     "end_time": "2021-01-08T12:19:45.177038",
     "exception": false,
     "start_time": "2021-01-08T12:19:45.117501",
     "status": "completed"
    },
    "tags": []
   },
   "outputs": [],
   "source": [
    "# Filling missing numeric data in the dataset with mean\n",
    "for i in ['age','bp','sg','al','su','bgr','bu','sc','sod','pot','hemo','rc','wc','pcv']:\n",
    "    dataset[i].fillna(dataset[i].mean(),inplace=True)"
   ]
  },
  {
   "cell_type": "code",
   "execution_count": 11,
   "metadata": {
    "execution": {
     "iopub.execute_input": "2021-01-08T12:19:45.276180Z",
     "iopub.status.busy": "2021-01-08T12:19:45.275368Z",
     "iopub.status.idle": "2021-01-08T12:19:45.280345Z",
     "shell.execute_reply": "2021-01-08T12:19:45.279683Z"
    },
    "papermill": {
     "duration": 0.058258,
     "end_time": "2021-01-08T12:19:45.280463",
     "exception": false,
     "start_time": "2021-01-08T12:19:45.222205",
     "status": "completed"
    },
    "tags": []
   },
   "outputs": [
    {
     "data": {
      "text/plain": [
       "age        0\n",
       "bp         0\n",
       "sg         0\n",
       "al         0\n",
       "su         0\n",
       "rbc      152\n",
       "pc        65\n",
       "pcc        4\n",
       "ba         4\n",
       "bgr        0\n",
       "bu         0\n",
       "sc         0\n",
       "sod        0\n",
       "pot        0\n",
       "hemo       0\n",
       "pcv        0\n",
       "wc         0\n",
       "rc         0\n",
       "htn        2\n",
       "dm         2\n",
       "cad        2\n",
       "appet      1\n",
       "pe         1\n",
       "ane        1\n",
       "class      0\n",
       "dtype: int64"
      ]
     },
     "execution_count": 11,
     "metadata": {},
     "output_type": "execute_result"
    }
   ],
   "source": [
    "dataset.isnull().sum()"
   ]
  },
  {
   "cell_type": "code",
   "execution_count": 12,
   "metadata": {
    "execution": {
     "iopub.execute_input": "2021-01-08T12:19:45.378079Z",
     "iopub.status.busy": "2021-01-08T12:19:45.376178Z",
     "iopub.status.idle": "2021-01-08T12:19:45.403845Z",
     "shell.execute_reply": "2021-01-08T12:19:45.402425Z"
    },
    "papermill": {
     "duration": 0.078274,
     "end_time": "2021-01-08T12:19:45.403975",
     "exception": false,
     "start_time": "2021-01-08T12:19:45.325701",
     "status": "completed"
    },
    "tags": []
   },
   "outputs": [],
   "source": [
    "dataset = dataset.dropna(axis=1) "
   ]
  },
  {
   "cell_type": "code",
   "execution_count": 13,
   "metadata": {
    "execution": {
     "iopub.execute_input": "2021-01-08T12:19:45.500370Z",
     "iopub.status.busy": "2021-01-08T12:19:45.499559Z",
     "iopub.status.idle": "2021-01-08T12:19:45.503601Z",
     "shell.execute_reply": "2021-01-08T12:19:45.502954Z"
    },
    "papermill": {
     "duration": 0.054529,
     "end_time": "2021-01-08T12:19:45.503715",
     "exception": false,
     "start_time": "2021-01-08T12:19:45.449186",
     "status": "completed"
    },
    "tags": []
   },
   "outputs": [
    {
     "data": {
      "text/plain": [
       "(400, 15)"
      ]
     },
     "execution_count": 13,
     "metadata": {},
     "output_type": "execute_result"
    }
   ],
   "source": [
    "dataset.shape"
   ]
  },
  {
   "cell_type": "code",
   "execution_count": 14,
   "metadata": {
    "execution": {
     "iopub.execute_input": "2021-01-08T12:19:45.611672Z",
     "iopub.status.busy": "2021-01-08T12:19:45.610376Z",
     "iopub.status.idle": "2021-01-08T12:19:45.618365Z",
     "shell.execute_reply": "2021-01-08T12:19:45.619387Z"
    },
    "papermill": {
     "duration": 0.069893,
     "end_time": "2021-01-08T12:19:45.619650",
     "exception": false,
     "start_time": "2021-01-08T12:19:45.549757",
     "status": "completed"
    },
    "tags": []
   },
   "outputs": [
    {
     "data": {
      "text/plain": [
       "age      0\n",
       "bp       0\n",
       "sg       0\n",
       "al       0\n",
       "su       0\n",
       "bgr      0\n",
       "bu       0\n",
       "sc       0\n",
       "sod      0\n",
       "pot      0\n",
       "hemo     0\n",
       "pcv      0\n",
       "wc       0\n",
       "rc       0\n",
       "class    0\n",
       "dtype: int64"
      ]
     },
     "execution_count": 14,
     "metadata": {},
     "output_type": "execute_result"
    }
   ],
   "source": [
    "dataset.isnull().sum()"
   ]
  },
  {
   "cell_type": "code",
   "execution_count": 15,
   "metadata": {
    "execution": {
     "iopub.execute_input": "2021-01-08T12:19:45.757675Z",
     "iopub.status.busy": "2021-01-08T12:19:45.756849Z",
     "iopub.status.idle": "2021-01-08T12:19:45.760298Z",
     "shell.execute_reply": "2021-01-08T12:19:45.760831Z"
    },
    "papermill": {
     "duration": 0.079233,
     "end_time": "2021-01-08T12:19:45.760976",
     "exception": false,
     "start_time": "2021-01-08T12:19:45.681743",
     "status": "completed"
    },
    "tags": []
   },
   "outputs": [
    {
     "data": {
      "text/html": [
       "<div>\n",
       "<style scoped>\n",
       "    .dataframe tbody tr th:only-of-type {\n",
       "        vertical-align: middle;\n",
       "    }\n",
       "\n",
       "    .dataframe tbody tr th {\n",
       "        vertical-align: top;\n",
       "    }\n",
       "\n",
       "    .dataframe thead th {\n",
       "        text-align: right;\n",
       "    }\n",
       "</style>\n",
       "<table border=\"1\" class=\"dataframe\">\n",
       "  <thead>\n",
       "    <tr style=\"text-align: right;\">\n",
       "      <th></th>\n",
       "      <th>age</th>\n",
       "      <th>bp</th>\n",
       "      <th>sg</th>\n",
       "      <th>al</th>\n",
       "      <th>su</th>\n",
       "      <th>bgr</th>\n",
       "      <th>bu</th>\n",
       "      <th>sc</th>\n",
       "      <th>sod</th>\n",
       "      <th>pot</th>\n",
       "      <th>hemo</th>\n",
       "      <th>pcv</th>\n",
       "      <th>wc</th>\n",
       "      <th>rc</th>\n",
       "      <th>class</th>\n",
       "    </tr>\n",
       "  </thead>\n",
       "  <tbody>\n",
       "    <tr>\n",
       "      <th>0</th>\n",
       "      <td>48.0</td>\n",
       "      <td>80.0</td>\n",
       "      <td>1.020</td>\n",
       "      <td>1.0</td>\n",
       "      <td>0.0</td>\n",
       "      <td>121.000000</td>\n",
       "      <td>36.0</td>\n",
       "      <td>1.2</td>\n",
       "      <td>137.528754</td>\n",
       "      <td>4.627244</td>\n",
       "      <td>15.4</td>\n",
       "      <td>44.0</td>\n",
       "      <td>7800.0</td>\n",
       "      <td>5.000000</td>\n",
       "      <td>1.0</td>\n",
       "    </tr>\n",
       "    <tr>\n",
       "      <th>1</th>\n",
       "      <td>7.0</td>\n",
       "      <td>50.0</td>\n",
       "      <td>1.020</td>\n",
       "      <td>4.0</td>\n",
       "      <td>0.0</td>\n",
       "      <td>148.036517</td>\n",
       "      <td>18.0</td>\n",
       "      <td>0.8</td>\n",
       "      <td>137.528754</td>\n",
       "      <td>4.627244</td>\n",
       "      <td>11.3</td>\n",
       "      <td>38.0</td>\n",
       "      <td>6000.0</td>\n",
       "      <td>4.241636</td>\n",
       "      <td>1.0</td>\n",
       "    </tr>\n",
       "    <tr>\n",
       "      <th>2</th>\n",
       "      <td>62.0</td>\n",
       "      <td>80.0</td>\n",
       "      <td>1.010</td>\n",
       "      <td>2.0</td>\n",
       "      <td>3.0</td>\n",
       "      <td>423.000000</td>\n",
       "      <td>53.0</td>\n",
       "      <td>1.8</td>\n",
       "      <td>137.528754</td>\n",
       "      <td>4.627244</td>\n",
       "      <td>9.6</td>\n",
       "      <td>31.0</td>\n",
       "      <td>7500.0</td>\n",
       "      <td>4.241636</td>\n",
       "      <td>1.0</td>\n",
       "    </tr>\n",
       "    <tr>\n",
       "      <th>3</th>\n",
       "      <td>48.0</td>\n",
       "      <td>70.0</td>\n",
       "      <td>1.005</td>\n",
       "      <td>4.0</td>\n",
       "      <td>0.0</td>\n",
       "      <td>117.000000</td>\n",
       "      <td>56.0</td>\n",
       "      <td>3.8</td>\n",
       "      <td>111.000000</td>\n",
       "      <td>2.500000</td>\n",
       "      <td>11.2</td>\n",
       "      <td>32.0</td>\n",
       "      <td>6700.0</td>\n",
       "      <td>3.000000</td>\n",
       "      <td>1.0</td>\n",
       "    </tr>\n",
       "    <tr>\n",
       "      <th>4</th>\n",
       "      <td>51.0</td>\n",
       "      <td>80.0</td>\n",
       "      <td>1.010</td>\n",
       "      <td>2.0</td>\n",
       "      <td>0.0</td>\n",
       "      <td>106.000000</td>\n",
       "      <td>26.0</td>\n",
       "      <td>1.4</td>\n",
       "      <td>137.528754</td>\n",
       "      <td>4.627244</td>\n",
       "      <td>11.6</td>\n",
       "      <td>35.0</td>\n",
       "      <td>7300.0</td>\n",
       "      <td>4.000000</td>\n",
       "      <td>1.0</td>\n",
       "    </tr>\n",
       "  </tbody>\n",
       "</table>\n",
       "</div>"
      ],
      "text/plain": [
       "    age    bp     sg   al   su         bgr    bu   sc         sod       pot  \\\n",
       "0  48.0  80.0  1.020  1.0  0.0  121.000000  36.0  1.2  137.528754  4.627244   \n",
       "1   7.0  50.0  1.020  4.0  0.0  148.036517  18.0  0.8  137.528754  4.627244   \n",
       "2  62.0  80.0  1.010  2.0  3.0  423.000000  53.0  1.8  137.528754  4.627244   \n",
       "3  48.0  70.0  1.005  4.0  0.0  117.000000  56.0  3.8  111.000000  2.500000   \n",
       "4  51.0  80.0  1.010  2.0  0.0  106.000000  26.0  1.4  137.528754  4.627244   \n",
       "\n",
       "   hemo   pcv      wc        rc  class  \n",
       "0  15.4  44.0  7800.0  5.000000    1.0  \n",
       "1  11.3  38.0  6000.0  4.241636    1.0  \n",
       "2   9.6  31.0  7500.0  4.241636    1.0  \n",
       "3  11.2  32.0  6700.0  3.000000    1.0  \n",
       "4  11.6  35.0  7300.0  4.000000    1.0  "
      ]
     },
     "execution_count": 15,
     "metadata": {},
     "output_type": "execute_result"
    }
   ],
   "source": [
    "dataset.head()"
   ]
  },
  {
   "cell_type": "code",
   "execution_count": 16,
   "metadata": {
    "execution": {
     "iopub.execute_input": "2021-01-08T12:19:45.862911Z",
     "iopub.status.busy": "2021-01-08T12:19:45.862044Z",
     "iopub.status.idle": "2021-01-08T12:19:45.868562Z",
     "shell.execute_reply": "2021-01-08T12:19:45.867979Z"
    },
    "papermill": {
     "duration": 0.058984,
     "end_time": "2021-01-08T12:19:45.868700",
     "exception": false,
     "start_time": "2021-01-08T12:19:45.809716",
     "status": "completed"
    },
    "tags": []
   },
   "outputs": [],
   "source": [
    "#Data preprocessing\n",
    "X = dataset.iloc[:,:-1].values\n",
    "y = dataset.iloc[:,-1].values"
   ]
  },
  {
   "cell_type": "code",
   "execution_count": 17,
   "metadata": {
    "execution": {
     "iopub.execute_input": "2021-01-08T12:19:45.967555Z",
     "iopub.status.busy": "2021-01-08T12:19:45.966452Z",
     "iopub.status.idle": "2021-01-08T12:19:45.972116Z",
     "shell.execute_reply": "2021-01-08T12:19:45.972664Z"
    },
    "papermill": {
     "duration": 0.0566,
     "end_time": "2021-01-08T12:19:45.972844",
     "exception": false,
     "start_time": "2021-01-08T12:19:45.916244",
     "status": "completed"
    },
    "tags": []
   },
   "outputs": [],
   "source": [
    "# Feature Scaling\n",
    "sc = StandardScaler()\n",
    "X = sc.fit_transform(X)"
   ]
  },
  {
   "cell_type": "code",
   "execution_count": 18,
   "metadata": {
    "execution": {
     "iopub.execute_input": "2021-01-08T12:19:46.072349Z",
     "iopub.status.busy": "2021-01-08T12:19:46.071285Z",
     "iopub.status.idle": "2021-01-08T12:19:46.077162Z",
     "shell.execute_reply": "2021-01-08T12:19:46.077692Z"
    },
    "papermill": {
     "duration": 0.058117,
     "end_time": "2021-01-08T12:19:46.077846",
     "exception": false,
     "start_time": "2021-01-08T12:19:46.019729",
     "status": "completed"
    },
    "tags": []
   },
   "outputs": [],
   "source": [
    "#Splitting the dataset in to training and testing set\n",
    "X_train , X_test , y_train , y_test   = train_test_split(X,y,test_size = 0.2 , random_state=123)  "
   ]
  },
  {
   "cell_type": "markdown",
   "metadata": {
    "papermill": {
     "duration": 0.048392,
     "end_time": "2021-01-08T12:19:46.174085",
     "exception": false,
     "start_time": "2021-01-08T12:19:46.125693",
     "status": "completed"
    },
    "tags": []
   },
   "source": [
    "## Logistic Regression\n"
   ]
  },
  {
   "cell_type": "code",
   "execution_count": 19,
   "metadata": {
    "execution": {
     "iopub.execute_input": "2021-01-08T12:19:46.277934Z",
     "iopub.status.busy": "2021-01-08T12:19:46.276894Z",
     "iopub.status.idle": "2021-01-08T12:19:46.327526Z",
     "shell.execute_reply": "2021-01-08T12:19:46.326942Z"
    },
    "papermill": {
     "duration": 0.102156,
     "end_time": "2021-01-08T12:19:46.327670",
     "exception": false,
     "start_time": "2021-01-08T12:19:46.225514",
     "status": "completed"
    },
    "tags": []
   },
   "outputs": [
    {
     "data": {
      "text/plain": [
       "LogisticRegression(random_state=0)"
      ]
     },
     "execution_count": 19,
     "metadata": {},
     "output_type": "execute_result"
    }
   ],
   "source": [
    "# Training the Logistic Regression model on the Training set\n",
    "lg = LogisticRegression(random_state = 0)\n",
    "lg.fit(X_train, y_train)"
   ]
  },
  {
   "cell_type": "code",
   "execution_count": 20,
   "metadata": {
    "execution": {
     "iopub.execute_input": "2021-01-08T12:19:46.429490Z",
     "iopub.status.busy": "2021-01-08T12:19:46.428784Z",
     "iopub.status.idle": "2021-01-08T12:19:46.434977Z",
     "shell.execute_reply": "2021-01-08T12:19:46.435486Z"
    },
    "papermill": {
     "duration": 0.059103,
     "end_time": "2021-01-08T12:19:46.435707",
     "exception": false,
     "start_time": "2021-01-08T12:19:46.376604",
     "status": "completed"
    },
    "tags": []
   },
   "outputs": [],
   "source": [
    "#predictin the test result\n",
    "y_pred_lg = lg.predict(X_test) "
   ]
  },
  {
   "cell_type": "code",
   "execution_count": 21,
   "metadata": {
    "execution": {
     "iopub.execute_input": "2021-01-08T12:19:46.543722Z",
     "iopub.status.busy": "2021-01-08T12:19:46.543039Z",
     "iopub.status.idle": "2021-01-08T12:19:46.547601Z",
     "shell.execute_reply": "2021-01-08T12:19:46.546893Z"
    },
    "papermill": {
     "duration": 0.062067,
     "end_time": "2021-01-08T12:19:46.547741",
     "exception": false,
     "start_time": "2021-01-08T12:19:46.485674",
     "status": "completed"
    },
    "tags": []
   },
   "outputs": [
    {
     "data": {
      "text/plain": [
       "0.9875"
      ]
     },
     "execution_count": 21,
     "metadata": {},
     "output_type": "execute_result"
    }
   ],
   "source": [
    "#calculate accuracy\n",
    "score_lg = accuracy_score(y_pred_lg,y_test)\n",
    "score_lg"
   ]
  },
  {
   "cell_type": "code",
   "execution_count": 22,
   "metadata": {
    "execution": {
     "iopub.execute_input": "2021-01-08T12:19:46.654454Z",
     "iopub.status.busy": "2021-01-08T12:19:46.653490Z",
     "iopub.status.idle": "2021-01-08T12:19:46.660164Z",
     "shell.execute_reply": "2021-01-08T12:19:46.659546Z"
    },
    "papermill": {
     "duration": 0.062388,
     "end_time": "2021-01-08T12:19:46.660281",
     "exception": false,
     "start_time": "2021-01-08T12:19:46.597893",
     "status": "completed"
    },
    "tags": []
   },
   "outputs": [
    {
     "name": "stdout",
     "output_type": "stream",
     "text": [
      "train score - 0.984375\n",
      "test score - 0.9875\n"
     ]
    }
   ],
   "source": [
    "print(\"train score - \" + str(lg.score(X_train, y_train)))\n",
    "print(\"test score - \" + str(lg.score(X_test, y_test)))"
   ]
  },
  {
   "cell_type": "code",
   "execution_count": 23,
   "metadata": {
    "execution": {
     "iopub.execute_input": "2021-01-08T12:19:46.772689Z",
     "iopub.status.busy": "2021-01-08T12:19:46.771911Z",
     "iopub.status.idle": "2021-01-08T12:19:47.020497Z",
     "shell.execute_reply": "2021-01-08T12:19:47.019940Z"
    },
    "papermill": {
     "duration": 0.308933,
     "end_time": "2021-01-08T12:19:47.020647",
     "exception": false,
     "start_time": "2021-01-08T12:19:46.711714",
     "status": "completed"
    },
    "tags": []
   },
   "outputs": [
    {
     "data": {
      "image/png": "[encoded data removed]",
      "text/plain": [
       "<Figure size 432x288 with 2 Axes>"
      ]
     },
     "metadata": {},
     "output_type": "display_data"
    }
   ],
   "source": [
    "#Making the Confusion Matrix\n",
    "from sklearn.metrics import confusion_matrix\n",
    "cm_lg = confusion_matrix(y_test,y_pred_lg)\n",
    "sns.set(font_scale=1.4) # for label size\n",
    "sns.heatmap(cm_lg, annot=True, annot_kws={\"size\": 16}) # font size\n",
    "\n",
    "plt.show()"
   ]
  },
  {
   "cell_type": "code",
   "execution_count": 24,
   "metadata": {
    "execution": {
     "iopub.execute_input": "2021-01-08T12:19:47.128322Z",
     "iopub.status.busy": "2021-01-08T12:19:47.127178Z",
     "iopub.status.idle": "2021-01-08T12:19:47.137354Z",
     "shell.execute_reply": "2021-01-08T12:19:47.137947Z"
    },
    "papermill": {
     "duration": 0.066826,
     "end_time": "2021-01-08T12:19:47.138112",
     "exception": false,
     "start_time": "2021-01-08T12:19:47.071286",
     "status": "completed"
    },
    "tags": []
   },
   "outputs": [
    {
     "name": "stdout",
     "output_type": "stream",
     "text": [
      "              precision    recall  f1-score   support\n",
      "\n",
      "         0.0       0.96      1.00      0.98        27\n",
      "         1.0       1.00      0.98      0.99        53\n",
      "\n",
      "    accuracy                           0.99        80\n",
      "   macro avg       0.98      0.99      0.99        80\n",
      "weighted avg       0.99      0.99      0.99        80\n",
      "\n"
     ]
    }
   ],
   "source": [
    "print(classification_report(y_test, y_pred_lg))"
   ]
  },
  {
   "cell_type": "markdown",
   "metadata": {
    "papermill": {
     "duration": 0.051622,
     "end_time": "2021-01-08T12:19:47.241598",
     "exception": false,
     "start_time": "2021-01-08T12:19:47.189976",
     "status": "completed"
    },
    "tags": []
   },
   "source": [
    "## Decision Tree Classifier"
   ]
  },
  {
   "cell_type": "code",
   "execution_count": 25,
   "metadata": {
    "execution": {
     "iopub.execute_input": "2021-01-08T12:19:47.352835Z",
     "iopub.status.busy": "2021-01-08T12:19:47.352089Z",
     "iopub.status.idle": "2021-01-08T12:19:47.357782Z",
     "shell.execute_reply": "2021-01-08T12:19:47.358323Z"
    },
    "papermill": {
     "duration": 0.065789,
     "end_time": "2021-01-08T12:19:47.358469",
     "exception": false,
     "start_time": "2021-01-08T12:19:47.292680",
     "status": "completed"
    },
    "tags": []
   },
   "outputs": [
    {
     "data": {
      "text/plain": [
       "DecisionTreeClassifier(criterion='entropy', random_state=0)"
      ]
     },
     "execution_count": 25,
     "metadata": {},
     "output_type": "execute_result"
    }
   ],
   "source": [
    "#fitting Decision Tree to the training set \n",
    "dtc = DecisionTreeClassifier(criterion='entropy',random_state=0)\n",
    "dtc.fit(X_train,y_train)"
   ]
  },
  {
   "cell_type": "code",
   "execution_count": 26,
   "metadata": {
    "execution": {
     "iopub.execute_input": "2021-01-08T12:19:47.465045Z",
     "iopub.status.busy": "2021-01-08T12:19:47.464382Z",
     "iopub.status.idle": "2021-01-08T12:19:47.469126Z",
     "shell.execute_reply": "2021-01-08T12:19:47.469729Z"
    },
    "papermill": {
     "duration": 0.059567,
     "end_time": "2021-01-08T12:19:47.469888",
     "exception": false,
     "start_time": "2021-01-08T12:19:47.410321",
     "status": "completed"
    },
    "tags": []
   },
   "outputs": [],
   "source": [
    "#predictin the test result\n",
    "y_pred_dtc = dtc.predict(X_test) "
   ]
  },
  {
   "cell_type": "code",
   "execution_count": 27,
   "metadata": {
    "execution": {
     "iopub.execute_input": "2021-01-08T12:19:47.577459Z",
     "iopub.status.busy": "2021-01-08T12:19:47.576809Z",
     "iopub.status.idle": "2021-01-08T12:19:47.585230Z",
     "shell.execute_reply": "2021-01-08T12:19:47.584479Z"
    },
    "papermill": {
     "duration": 0.064017,
     "end_time": "2021-01-08T12:19:47.585346",
     "exception": false,
     "start_time": "2021-01-08T12:19:47.521329",
     "status": "completed"
    },
    "tags": []
   },
   "outputs": [
    {
     "data": {
      "text/plain": [
       "0.925"
      ]
     },
     "execution_count": 27,
     "metadata": {},
     "output_type": "execute_result"
    }
   ],
   "source": [
    "#calculate accuracy\n",
    "score_dtc = accuracy_score(y_pred_dtc,y_test)\n",
    "score_dtc"
   ]
  },
  {
   "cell_type": "code",
   "execution_count": 28,
   "metadata": {
    "execution": {
     "iopub.execute_input": "2021-01-08T12:19:47.696523Z",
     "iopub.status.busy": "2021-01-08T12:19:47.695439Z",
     "iopub.status.idle": "2021-01-08T12:19:47.702650Z",
     "shell.execute_reply": "2021-01-08T12:19:47.702047Z"
    },
    "papermill": {
     "duration": 0.065418,
     "end_time": "2021-01-08T12:19:47.702780",
     "exception": false,
     "start_time": "2021-01-08T12:19:47.637362",
     "status": "completed"
    },
    "tags": []
   },
   "outputs": [
    {
     "name": "stdout",
     "output_type": "stream",
     "text": [
      "train score - 1.0\n",
      "test score - 0.925\n"
     ]
    }
   ],
   "source": [
    "print(\"train score - \" + str(dtc.score(X_train, y_train)))\n",
    "print(\"test score - \" + str(dtc.score(X_test, y_test)))"
   ]
  },
  {
   "cell_type": "code",
   "execution_count": 29,
   "metadata": {
    "execution": {
     "iopub.execute_input": "2021-01-08T12:19:47.819907Z",
     "iopub.status.busy": "2021-01-08T12:19:47.819214Z",
     "iopub.status.idle": "2021-01-08T12:19:48.005028Z",
     "shell.execute_reply": "2021-01-08T12:19:48.005545Z"
    },
    "papermill": {
     "duration": 0.249683,
     "end_time": "2021-01-08T12:19:48.005730",
     "exception": false,
     "start_time": "2021-01-08T12:19:47.756047",
     "status": "completed"
    },
    "tags": []
   },
   "outputs": [
    {
     "data": {
      "image/png": "[encoded data removed]",
      "text/plain": [
       "<Figure size 432x288 with 2 Axes>"
      ]
     },
     "metadata": {},
     "output_type": "display_data"
    }
   ],
   "source": [
    "#Making the Confusion Matrix\n",
    "cm_dtc = confusion_matrix(y_test,y_pred_dtc)\n",
    "\n",
    "sns.set(font_scale=1.4) # for label size\n",
    "sns.heatmap(cm_dtc, annot=True, annot_kws={\"size\": 16}) # font size\n",
    "\n",
    "plt.show()"
   ]
  },
  {
   "cell_type": "code",
   "execution_count": 30,
   "metadata": {
    "execution": {
     "iopub.execute_input": "2021-01-08T12:19:48.116804Z",
     "iopub.status.busy": "2021-01-08T12:19:48.116085Z",
     "iopub.status.idle": "2021-01-08T12:19:48.126587Z",
     "shell.execute_reply": "2021-01-08T12:19:48.127359Z"
    },
    "papermill": {
     "duration": 0.068534,
     "end_time": "2021-01-08T12:19:48.127561",
     "exception": false,
     "start_time": "2021-01-08T12:19:48.059027",
     "status": "completed"
    },
    "tags": []
   },
   "outputs": [
    {
     "name": "stdout",
     "output_type": "stream",
     "text": [
      "              precision    recall  f1-score   support\n",
      "\n",
      "         0.0       0.89      0.89      0.89        27\n",
      "         1.0       0.94      0.94      0.94        53\n",
      "\n",
      "    accuracy                           0.93        80\n",
      "   macro avg       0.92      0.92      0.92        80\n",
      "weighted avg       0.93      0.93      0.93        80\n",
      "\n"
     ]
    }
   ],
   "source": [
    "print(classification_report(y_test, y_pred_dtc))"
   ]
  },
  {
   "cell_type": "markdown",
   "metadata": {
    "papermill": {
     "duration": 0.05324,
     "end_time": "2021-01-08T12:19:48.235415",
     "exception": false,
     "start_time": "2021-01-08T12:19:48.182175",
     "status": "completed"
    },
    "tags": []
   },
   "source": [
    "## K Nearest Neighbors Classifier"
   ]
  },
  {
   "cell_type": "code",
   "execution_count": 31,
   "metadata": {
    "execution": {
     "iopub.execute_input": "2021-01-08T12:19:48.346889Z",
     "iopub.status.busy": "2021-01-08T12:19:48.346164Z",
     "iopub.status.idle": "2021-01-08T12:19:48.356843Z",
     "shell.execute_reply": "2021-01-08T12:19:48.356197Z"
    },
    "papermill": {
     "duration": 0.067744,
     "end_time": "2021-01-08T12:19:48.356960",
     "exception": false,
     "start_time": "2021-01-08T12:19:48.289216",
     "status": "completed"
    },
    "tags": []
   },
   "outputs": [
    {
     "data": {
      "text/plain": [
       "KNeighborsClassifier()"
      ]
     },
     "execution_count": 31,
     "metadata": {},
     "output_type": "execute_result"
    }
   ],
   "source": [
    "#fitting KNN to the training set\n",
    "knn= KNeighborsClassifier(n_neighbors=5 , metric='minkowski',p=2  )\n",
    "knn.fit(X_train,y_train)"
   ]
  },
  {
   "cell_type": "code",
   "execution_count": 32,
   "metadata": {
    "execution": {
     "iopub.execute_input": "2021-01-08T12:19:48.472276Z",
     "iopub.status.busy": "2021-01-08T12:19:48.471544Z",
     "iopub.status.idle": "2021-01-08T12:19:48.479774Z",
     "shell.execute_reply": "2021-01-08T12:19:48.479040Z"
    },
    "papermill": {
     "duration": 0.068613,
     "end_time": "2021-01-08T12:19:48.479900",
     "exception": false,
     "start_time": "2021-01-08T12:19:48.411287",
     "status": "completed"
    },
    "tags": []
   },
   "outputs": [],
   "source": [
    "#predictin the test result\n",
    "y_pred_knn = knn.predict(X_test) "
   ]
  },
  {
   "cell_type": "code",
   "execution_count": 33,
   "metadata": {
    "execution": {
     "iopub.execute_input": "2021-01-08T12:19:48.597061Z",
     "iopub.status.busy": "2021-01-08T12:19:48.595872Z",
     "iopub.status.idle": "2021-01-08T12:19:48.599630Z",
     "shell.execute_reply": "2021-01-08T12:19:48.600141Z"
    },
    "papermill": {
     "duration": 0.066011,
     "end_time": "2021-01-08T12:19:48.600282",
     "exception": false,
     "start_time": "2021-01-08T12:19:48.534271",
     "status": "completed"
    },
    "tags": []
   },
   "outputs": [
    {
     "data": {
      "text/plain": [
       "0.9875"
      ]
     },
     "execution_count": 33,
     "metadata": {},
     "output_type": "execute_result"
    }
   ],
   "source": [
    "#calculate accuracy\n",
    "score_dtc = accuracy_score(y_pred_knn,y_test)\n",
    "score_dtc"
   ]
  },
  {
   "cell_type": "code",
   "execution_count": 34,
   "metadata": {
    "execution": {
     "iopub.execute_input": "2021-01-08T12:19:48.713795Z",
     "iopub.status.busy": "2021-01-08T12:19:48.713097Z",
     "iopub.status.idle": "2021-01-08T12:19:48.741879Z",
     "shell.execute_reply": "2021-01-08T12:19:48.741266Z"
    },
    "papermill": {
     "duration": 0.086737,
     "end_time": "2021-01-08T12:19:48.741996",
     "exception": false,
     "start_time": "2021-01-08T12:19:48.655259",
     "status": "completed"
    },
    "tags": []
   },
   "outputs": [
    {
     "name": "stdout",
     "output_type": "stream",
     "text": [
      "train score - 0.971875\n",
      "test score - 0.9875\n"
     ]
    }
   ],
   "source": [
    "print(\"train score - \" + str(knn.score(X_train, y_train)))\n",
    "print(\"test score - \" + str(knn.score(X_test, y_test)))"
   ]
  },
  {
   "cell_type": "code",
   "execution_count": 35,
   "metadata": {
    "execution": {
     "iopub.execute_input": "2021-01-08T12:19:48.959382Z",
     "iopub.status.busy": "2021-01-08T12:19:48.956965Z",
     "iopub.status.idle": "2021-01-08T12:19:49.147388Z",
     "shell.execute_reply": "2021-01-08T12:19:49.146695Z"
    },
    "papermill": {
     "duration": 0.349002,
     "end_time": "2021-01-08T12:19:49.147516",
     "exception": false,
     "start_time": "2021-01-08T12:19:48.798514",
     "status": "completed"
    },
    "tags": []
   },
   "outputs": [
    {
     "data": {
      "image/png": "[encoded data removed]",
      "text/plain": [
       "<Figure size 432x288 with 2 Axes>"
      ]
     },
     "metadata": {},
     "output_type": "display_data"
    }
   ],
   "source": [
    "#Making the Confusion Matrix\n",
    "cm_knn = confusion_matrix(y_test,y_pred_knn)\n",
    "\n",
    "sns.set(font_scale=1.4) # for label size\n",
    "sns.heatmap(cm_knn, annot=True, annot_kws={\"size\": 16}) # font size\n",
    "\n",
    "plt.show()"
   ]
  },
  {
   "cell_type": "code",
   "execution_count": 36,
   "metadata": {
    "execution": {
     "iopub.execute_input": "2021-01-08T12:19:49.267828Z",
     "iopub.status.busy": "2021-01-08T12:19:49.266332Z",
     "iopub.status.idle": "2021-01-08T12:19:49.276508Z",
     "shell.execute_reply": "2021-01-08T12:19:49.275944Z"
    },
    "papermill": {
     "duration": 0.073272,
     "end_time": "2021-01-08T12:19:49.276651",
     "exception": false,
     "start_time": "2021-01-08T12:19:49.203379",
     "status": "completed"
    },
    "tags": []
   },
   "outputs": [
    {
     "name": "stdout",
     "output_type": "stream",
     "text": [
      "              precision    recall  f1-score   support\n",
      "\n",
      "         0.0       0.96      1.00      0.98        27\n",
      "         1.0       1.00      0.98      0.99        53\n",
      "\n",
      "    accuracy                           0.99        80\n",
      "   macro avg       0.98      0.99      0.99        80\n",
      "weighted avg       0.99      0.99      0.99        80\n",
      "\n"
     ]
    }
   ],
   "source": [
    "print(classification_report(y_test, y_pred_knn))"
   ]
  },
  {
   "cell_type": "markdown",
   "metadata": {
    "papermill": {
     "duration": 0.056275,
     "end_time": "2021-01-08T12:19:49.390635",
     "exception": false,
     "start_time": "2021-01-08T12:19:49.334360",
     "status": "completed"
    },
    "tags": []
   },
   "source": [
    "## Support Vector Machine"
   ]
  },
  {
   "cell_type": "code",
   "execution_count": 37,
   "metadata": {
    "execution": {
     "iopub.execute_input": "2021-01-08T12:19:49.510701Z",
     "iopub.status.busy": "2021-01-08T12:19:49.509951Z",
     "iopub.status.idle": "2021-01-08T12:19:49.517357Z",
     "shell.execute_reply": "2021-01-08T12:19:49.516766Z"
    },
    "papermill": {
     "duration": 0.070209,
     "end_time": "2021-01-08T12:19:49.517483",
     "exception": false,
     "start_time": "2021-01-08T12:19:49.447274",
     "status": "completed"
    },
    "tags": []
   },
   "outputs": [
    {
     "data": {
      "text/plain": [
       "SVC(kernel='linear', random_state=0)"
      ]
     },
     "execution_count": 37,
     "metadata": {},
     "output_type": "execute_result"
    }
   ],
   "source": [
    "#fitting SVM to the training set\n",
    "svm = SVC(kernel='linear', random_state=0)\n",
    "svm.fit(X_train,y_train)"
   ]
  },
  {
   "cell_type": "code",
   "execution_count": 38,
   "metadata": {
    "execution": {
     "iopub.execute_input": "2021-01-08T12:19:49.638488Z",
     "iopub.status.busy": "2021-01-08T12:19:49.637697Z",
     "iopub.status.idle": "2021-01-08T12:19:49.640962Z",
     "shell.execute_reply": "2021-01-08T12:19:49.640325Z"
    },
    "papermill": {
     "duration": 0.065313,
     "end_time": "2021-01-08T12:19:49.641097",
     "exception": false,
     "start_time": "2021-01-08T12:19:49.575784",
     "status": "completed"
    },
    "tags": []
   },
   "outputs": [],
   "source": [
    "#predictin the test result\n",
    "y_pred_svm = svm.predict(X_test) "
   ]
  },
  {
   "cell_type": "code",
   "execution_count": 39,
   "metadata": {
    "execution": {
     "iopub.execute_input": "2021-01-08T12:19:49.764895Z",
     "iopub.status.busy": "2021-01-08T12:19:49.763780Z",
     "iopub.status.idle": "2021-01-08T12:19:49.768819Z",
     "shell.execute_reply": "2021-01-08T12:19:49.768236Z"
    },
    "papermill": {
     "duration": 0.068628,
     "end_time": "2021-01-08T12:19:49.768952",
     "exception": false,
     "start_time": "2021-01-08T12:19:49.700324",
     "status": "completed"
    },
    "tags": []
   },
   "outputs": [
    {
     "data": {
      "text/plain": [
       "0.975"
      ]
     },
     "execution_count": 39,
     "metadata": {},
     "output_type": "execute_result"
    }
   ],
   "source": [
    "score_svm = accuracy_score(y_pred_svm,y_test)\n",
    "score_svm"
   ]
  },
  {
   "cell_type": "code",
   "execution_count": 40,
   "metadata": {
    "execution": {
     "iopub.execute_input": "2021-01-08T12:19:49.890911Z",
     "iopub.status.busy": "2021-01-08T12:19:49.890166Z",
     "iopub.status.idle": "2021-01-08T12:19:49.896773Z",
     "shell.execute_reply": "2021-01-08T12:19:49.896167Z"
    },
    "papermill": {
     "duration": 0.069628,
     "end_time": "2021-01-08T12:19:49.896911",
     "exception": false,
     "start_time": "2021-01-08T12:19:49.827283",
     "status": "completed"
    },
    "tags": []
   },
   "outputs": [
    {
     "name": "stdout",
     "output_type": "stream",
     "text": [
      "train score - 0.984375\n",
      "test score - 0.975\n"
     ]
    }
   ],
   "source": [
    "print(\"train score - \" + str(svm.score(X_train, y_train)))\n",
    "print(\"test score - \" + str(svm.score(X_test, y_test)))"
   ]
  },
  {
   "cell_type": "code",
   "execution_count": 41,
   "metadata": {
    "execution": {
     "iopub.execute_input": "2021-01-08T12:19:50.036714Z",
     "iopub.status.busy": "2021-01-08T12:19:50.032083Z",
     "iopub.status.idle": "2021-01-08T12:19:50.225223Z",
     "shell.execute_reply": "2021-01-08T12:19:50.224492Z"
    },
    "papermill": {
     "duration": 0.268955,
     "end_time": "2021-01-08T12:19:50.225343",
     "exception": false,
     "start_time": "2021-01-08T12:19:49.956388",
     "status": "completed"
    },
    "tags": []
   },
   "outputs": [
    {
     "data": {
      "image/png": "[encoded data removed]",
      "text/plain": [
       "<Figure size 432x288 with 2 Axes>"
      ]
     },
     "metadata": {},
     "output_type": "display_data"
    }
   ],
   "source": [
    "#Making the Confusion Matrix\n",
    "cm_svm = confusion_matrix(y_test,y_pred_svm)\n",
    "\n",
    "sns.set(font_scale=1.4) # for label size\n",
    "sns.heatmap(cm_svm, annot=True, annot_kws={\"size\": 16}) # font size\n",
    "\n",
    "plt.show()"
   ]
  },
  {
   "cell_type": "code",
   "execution_count": 42,
   "metadata": {
    "execution": {
     "iopub.execute_input": "2021-01-08T12:19:50.350301Z",
     "iopub.status.busy": "2021-01-08T12:19:50.349114Z",
     "iopub.status.idle": "2021-01-08T12:19:50.361022Z",
     "shell.execute_reply": "2021-01-08T12:19:50.360147Z"
    },
    "papermill": {
     "duration": 0.077164,
     "end_time": "2021-01-08T12:19:50.361192",
     "exception": false,
     "start_time": "2021-01-08T12:19:50.284028",
     "status": "completed"
    },
    "tags": []
   },
   "outputs": [
    {
     "name": "stdout",
     "output_type": "stream",
     "text": [
      "              precision    recall  f1-score   support\n",
      "\n",
      "         0.0       0.93      1.00      0.96        27\n",
      "         1.0       1.00      0.96      0.98        53\n",
      "\n",
      "    accuracy                           0.97        80\n",
      "   macro avg       0.97      0.98      0.97        80\n",
      "weighted avg       0.98      0.97      0.98        80\n",
      "\n"
     ]
    }
   ],
   "source": [
    "print(classification_report(y_test, y_pred_svm))"
   ]
  },
  {
   "cell_type": "markdown",
   "metadata": {
    "papermill": {
     "duration": 0.060123,
     "end_time": "2021-01-08T12:19:50.482135",
     "exception": false,
     "start_time": "2021-01-08T12:19:50.422012",
     "status": "completed"
    },
    "tags": []
   },
   "source": [
    "## kernal SVM"
   ]
  },
  {
   "cell_type": "code",
   "execution_count": 43,
   "metadata": {
    "execution": {
     "iopub.execute_input": "2021-01-08T12:19:50.610318Z",
     "iopub.status.busy": "2021-01-08T12:19:50.609567Z",
     "iopub.status.idle": "2021-01-08T12:19:50.617175Z",
     "shell.execute_reply": "2021-01-08T12:19:50.616489Z"
    },
    "papermill": {
     "duration": 0.074922,
     "end_time": "2021-01-08T12:19:50.617306",
     "exception": false,
     "start_time": "2021-01-08T12:19:50.542384",
     "status": "completed"
    },
    "tags": []
   },
   "outputs": [
    {
     "data": {
      "text/plain": [
       "SVC(random_state=0)"
      ]
     },
     "execution_count": 43,
     "metadata": {},
     "output_type": "execute_result"
    }
   ],
   "source": [
    "#fitting kernal SVM to the training set\n",
    "ksvm = SVC(kernel='rbf', random_state=0 )\n",
    "ksvm.fit(X_train,y_train)"
   ]
  },
  {
   "cell_type": "code",
   "execution_count": 44,
   "metadata": {
    "execution": {
     "iopub.execute_input": "2021-01-08T12:19:50.745962Z",
     "iopub.status.busy": "2021-01-08T12:19:50.745072Z",
     "iopub.status.idle": "2021-01-08T12:19:50.748262Z",
     "shell.execute_reply": "2021-01-08T12:19:50.747700Z"
    },
    "papermill": {
     "duration": 0.069755,
     "end_time": "2021-01-08T12:19:50.748375",
     "exception": false,
     "start_time": "2021-01-08T12:19:50.678620",
     "status": "completed"
    },
    "tags": []
   },
   "outputs": [],
   "source": [
    "#predictin the test result\n",
    "y_pred_ksvm = ksvm.predict(X_test) "
   ]
  },
  {
   "cell_type": "code",
   "execution_count": 45,
   "metadata": {
    "execution": {
     "iopub.execute_input": "2021-01-08T12:19:50.876328Z",
     "iopub.status.busy": "2021-01-08T12:19:50.875417Z",
     "iopub.status.idle": "2021-01-08T12:19:50.879476Z",
     "shell.execute_reply": "2021-01-08T12:19:50.878879Z"
    },
    "papermill": {
     "duration": 0.070587,
     "end_time": "2021-01-08T12:19:50.879614",
     "exception": false,
     "start_time": "2021-01-08T12:19:50.809027",
     "status": "completed"
    },
    "tags": []
   },
   "outputs": [
    {
     "data": {
      "text/plain": [
       "1.0"
      ]
     },
     "execution_count": 45,
     "metadata": {},
     "output_type": "execute_result"
    }
   ],
   "source": [
    "#calculate accuracy\n",
    "score_ksvm = accuracy_score(y_pred_ksvm,y_test)\n",
    "score_ksvm"
   ]
  },
  {
   "cell_type": "code",
   "execution_count": 46,
   "metadata": {
    "execution": {
     "iopub.execute_input": "2021-01-08T12:19:51.007712Z",
     "iopub.status.busy": "2021-01-08T12:19:51.006959Z",
     "iopub.status.idle": "2021-01-08T12:19:51.015443Z",
     "shell.execute_reply": "2021-01-08T12:19:51.015981Z"
    },
    "papermill": {
     "duration": 0.074149,
     "end_time": "2021-01-08T12:19:51.016149",
     "exception": false,
     "start_time": "2021-01-08T12:19:50.942000",
     "status": "completed"
    },
    "tags": []
   },
   "outputs": [
    {
     "name": "stdout",
     "output_type": "stream",
     "text": [
      "train score - 0.9875\n",
      "test score - 1.0\n"
     ]
    }
   ],
   "source": [
    "print(\"train score - \" + str(ksvm.score(X_train, y_train)))\n",
    "print(\"test score - \" + str(ksvm.score(X_test, y_test)))"
   ]
  },
  {
   "cell_type": "code",
   "execution_count": 47,
   "metadata": {
    "execution": {
     "iopub.execute_input": "2021-01-08T12:19:51.149721Z",
     "iopub.status.busy": "2021-01-08T12:19:51.148974Z",
     "iopub.status.idle": "2021-01-08T12:19:51.339039Z",
     "shell.execute_reply": "2021-01-08T12:19:51.339668Z"
    },
    "papermill": {
     "duration": 0.262225,
     "end_time": "2021-01-08T12:19:51.339841",
     "exception": false,
     "start_time": "2021-01-08T12:19:51.077616",
     "status": "completed"
    },
    "tags": []
   },
   "outputs": [
    {
     "data": {
      "image/png": "[encoded data removed]",
      "text/plain": [
       "<Figure size 432x288 with 2 Axes>"
      ]
     },
     "metadata": {},
     "output_type": "display_data"
    }
   ],
   "source": [
    "#Making the Confusion Matrix\n",
    "cm_ksvm = confusion_matrix(y_test,y_pred_ksvm)\n",
    "sns.set(font_scale=1.4) # for label size\n",
    "sns.heatmap(cm_ksvm, annot=True, annot_kws={\"size\": 16}) # font size\n",
    "\n",
    "plt.show()"
   ]
  },
  {
   "cell_type": "code",
   "execution_count": 48,
   "metadata": {
    "execution": {
     "iopub.execute_input": "2021-01-08T12:19:51.468737Z",
     "iopub.status.busy": "2021-01-08T12:19:51.467994Z",
     "iopub.status.idle": "2021-01-08T12:19:51.478337Z",
     "shell.execute_reply": "2021-01-08T12:19:51.479398Z"
    },
    "papermill": {
     "duration": 0.077167,
     "end_time": "2021-01-08T12:19:51.479723",
     "exception": false,
     "start_time": "2021-01-08T12:19:51.402556",
     "status": "completed"
    },
    "tags": []
   },
   "outputs": [
    {
     "name": "stdout",
     "output_type": "stream",
     "text": [
      "              precision    recall  f1-score   support\n",
      "\n",
      "         0.0       1.00      1.00      1.00        27\n",
      "         1.0       1.00      1.00      1.00        53\n",
      "\n",
      "    accuracy                           1.00        80\n",
      "   macro avg       1.00      1.00      1.00        80\n",
      "weighted avg       1.00      1.00      1.00        80\n",
      "\n"
     ]
    }
   ],
   "source": [
    "print(classification_report(y_test, y_pred_ksvm))"
   ]
  },
  {
   "cell_type": "markdown",
   "metadata": {
    "papermill": {
     "duration": 0.06191,
     "end_time": "2021-01-08T12:19:51.605515",
     "exception": false,
     "start_time": "2021-01-08T12:19:51.543605",
     "status": "completed"
    },
    "tags": []
   },
   "source": [
    "## Random Forest classification"
   ]
  },
  {
   "cell_type": "code",
   "execution_count": 49,
   "metadata": {
    "execution": {
     "iopub.execute_input": "2021-01-08T12:19:51.734288Z",
     "iopub.status.busy": "2021-01-08T12:19:51.733526Z",
     "iopub.status.idle": "2021-01-08T12:19:51.763745Z",
     "shell.execute_reply": "2021-01-08T12:19:51.764313Z"
    },
    "papermill": {
     "duration": 0.096733,
     "end_time": "2021-01-08T12:19:51.764465",
     "exception": false,
     "start_time": "2021-01-08T12:19:51.667732",
     "status": "completed"
    },
    "tags": []
   },
   "outputs": [
    {
     "data": {
      "text/plain": [
       "RandomForestClassifier(criterion='entropy', n_estimators=10, random_state=0)"
      ]
     },
     "execution_count": 49,
     "metadata": {},
     "output_type": "execute_result"
    }
   ],
   "source": [
    "#fitting Random Forest classification to the training set \n",
    "rfc = RandomForestClassifier(n_estimators=10 , criterion='entropy',random_state=0)\n",
    "rfc.fit(X_train,y_train)"
   ]
  },
  {
   "cell_type": "code",
   "execution_count": 50,
   "metadata": {
    "execution": {
     "iopub.execute_input": "2021-01-08T12:19:51.896431Z",
     "iopub.status.busy": "2021-01-08T12:19:51.895640Z",
     "iopub.status.idle": "2021-01-08T12:19:51.901471Z",
     "shell.execute_reply": "2021-01-08T12:19:51.901987Z"
    },
    "papermill": {
     "duration": 0.073152,
     "end_time": "2021-01-08T12:19:51.902142",
     "exception": false,
     "start_time": "2021-01-08T12:19:51.828990",
     "status": "completed"
    },
    "tags": []
   },
   "outputs": [],
   "source": [
    "#predictin the test result\n",
    "y_pred_rfc = rfc.predict(X_test) "
   ]
  },
  {
   "cell_type": "code",
   "execution_count": 51,
   "metadata": {
    "execution": {
     "iopub.execute_input": "2021-01-08T12:19:52.035146Z",
     "iopub.status.busy": "2021-01-08T12:19:52.033871Z",
     "iopub.status.idle": "2021-01-08T12:19:52.039478Z",
     "shell.execute_reply": "2021-01-08T12:19:52.040156Z"
    },
    "papermill": {
     "duration": 0.074439,
     "end_time": "2021-01-08T12:19:52.040308",
     "exception": false,
     "start_time": "2021-01-08T12:19:51.965869",
     "status": "completed"
    },
    "tags": []
   },
   "outputs": [
    {
     "data": {
      "text/plain": [
       "1.0"
      ]
     },
     "execution_count": 51,
     "metadata": {},
     "output_type": "execute_result"
    }
   ],
   "source": [
    "#calculate accuracy\n",
    "score_rfc = accuracy_score(y_pred_rfc,y_test)\n",
    "score_rfc"
   ]
  },
  {
   "cell_type": "code",
   "execution_count": 52,
   "metadata": {
    "execution": {
     "iopub.execute_input": "2021-01-08T12:19:52.173396Z",
     "iopub.status.busy": "2021-01-08T12:19:52.172449Z",
     "iopub.status.idle": "2021-01-08T12:19:52.184547Z",
     "shell.execute_reply": "2021-01-08T12:19:52.185060Z"
    },
    "papermill": {
     "duration": 0.079201,
     "end_time": "2021-01-08T12:19:52.185213",
     "exception": false,
     "start_time": "2021-01-08T12:19:52.106012",
     "status": "completed"
    },
    "tags": []
   },
   "outputs": [
    {
     "name": "stdout",
     "output_type": "stream",
     "text": [
      "train score - 1.0\n",
      "test score - 1.0\n"
     ]
    }
   ],
   "source": [
    "print(\"train score - \" + str(rfc.score(X_train, y_train)))\n",
    "print(\"test score - \" + str(rfc.score(X_test, y_test)))"
   ]
  },
  {
   "cell_type": "code",
   "execution_count": 53,
   "metadata": {
    "execution": {
     "iopub.execute_input": "2021-01-08T12:19:52.321084Z",
     "iopub.status.busy": "2021-01-08T12:19:52.320375Z",
     "iopub.status.idle": "2021-01-08T12:19:52.518000Z",
     "shell.execute_reply": "2021-01-08T12:19:52.518486Z"
    },
    "papermill": {
     "duration": 0.269038,
     "end_time": "2021-01-08T12:19:52.518658",
     "exception": false,
     "start_time": "2021-01-08T12:19:52.249620",
     "status": "completed"
    },
    "tags": []
   },
   "outputs": [
    {
     "data": {
      "image/png": "[encoded data removed]",
      "text/plain": [
       "<Figure size 432x288 with 2 Axes>"
      ]
     },
     "metadata": {},
     "output_type": "display_data"
    }
   ],
   "source": [
    "#Making the Confusion Matrix\n",
    "cm = confusion_matrix(y_test,y_pred_rfc)\n",
    "\n",
    "sns.set(font_scale=1.4) # for label size\n",
    "sns.heatmap(cm, annot=True, annot_kws={\"size\": 16}) # font size\n",
    "\n",
    "plt.show()"
   ]
  },
  {
   "cell_type": "code",
   "execution_count": 54,
   "metadata": {
    "execution": {
     "iopub.execute_input": "2021-01-08T12:19:52.658134Z",
     "iopub.status.busy": "2021-01-08T12:19:52.657412Z",
     "iopub.status.idle": "2021-01-08T12:19:52.669397Z",
     "shell.execute_reply": "2021-01-08T12:19:52.668805Z"
    },
    "papermill": {
     "duration": 0.084791,
     "end_time": "2021-01-08T12:19:52.669517",
     "exception": false,
     "start_time": "2021-01-08T12:19:52.584726",
     "status": "completed"
    },
    "tags": []
   },
   "outputs": [
    {
     "name": "stdout",
     "output_type": "stream",
     "text": [
      "              precision    recall  f1-score   support\n",
      "\n",
      "         0.0       1.00      1.00      1.00        27\n",
      "         1.0       1.00      1.00      1.00        53\n",
      "\n",
      "    accuracy                           1.00        80\n",
      "   macro avg       1.00      1.00      1.00        80\n",
      "weighted avg       1.00      1.00      1.00        80\n",
      "\n"
     ]
    }
   ],
   "source": [
    "print(classification_report(y_test, y_pred_rfc))"
   ]
  },
  {
   "cell_type": "markdown",
   "metadata": {
    "papermill": {
     "duration": 0.065518,
     "end_time": "2021-01-08T12:19:52.801702",
     "exception": false,
     "start_time": "2021-01-08T12:19:52.736184",
     "status": "completed"
    },
    "tags": []
   },
   "source": [
    "## Kernal Navie Bayes"
   ]
  },
  {
   "cell_type": "code",
   "execution_count": 55,
   "metadata": {
    "execution": {
     "iopub.execute_input": "2021-01-08T12:19:52.938966Z",
     "iopub.status.busy": "2021-01-08T12:19:52.938110Z",
     "iopub.status.idle": "2021-01-08T12:19:52.946423Z",
     "shell.execute_reply": "2021-01-08T12:19:52.947220Z"
    },
    "papermill": {
     "duration": 0.07879,
     "end_time": "2021-01-08T12:19:52.947394",
     "exception": false,
     "start_time": "2021-01-08T12:19:52.868604",
     "status": "completed"
    },
    "tags": []
   },
   "outputs": [
    {
     "data": {
      "text/plain": [
       "GaussianNB()"
      ]
     },
     "execution_count": 55,
     "metadata": {},
     "output_type": "execute_result"
    }
   ],
   "source": [
    "#fitting kernal Navie bayes to the training set \n",
    "knb = GaussianNB()\n",
    "knb.fit(X_train,y_train)"
   ]
  },
  {
   "cell_type": "code",
   "execution_count": 56,
   "metadata": {
    "execution": {
     "iopub.execute_input": "2021-01-08T12:19:53.084611Z",
     "iopub.status.busy": "2021-01-08T12:19:53.083904Z",
     "iopub.status.idle": "2021-01-08T12:19:53.089177Z",
     "shell.execute_reply": "2021-01-08T12:19:53.089811Z"
    },
    "papermill": {
     "duration": 0.075856,
     "end_time": "2021-01-08T12:19:53.089975",
     "exception": false,
     "start_time": "2021-01-08T12:19:53.014119",
     "status": "completed"
    },
    "tags": []
   },
   "outputs": [],
   "source": [
    "#predictin the test result\n",
    "y_pred_knb = knb.predict(X_test) "
   ]
  },
  {
   "cell_type": "code",
   "execution_count": 57,
   "metadata": {
    "execution": {
     "iopub.execute_input": "2021-01-08T12:19:53.230045Z",
     "iopub.status.busy": "2021-01-08T12:19:53.229352Z",
     "iopub.status.idle": "2021-01-08T12:19:53.235373Z",
     "shell.execute_reply": "2021-01-08T12:19:53.235881Z"
    },
    "papermill": {
     "duration": 0.0765,
     "end_time": "2021-01-08T12:19:53.236044",
     "exception": false,
     "start_time": "2021-01-08T12:19:53.159544",
     "status": "completed"
    },
    "tags": []
   },
   "outputs": [
    {
     "data": {
      "text/plain": [
       "0.9"
      ]
     },
     "execution_count": 57,
     "metadata": {},
     "output_type": "execute_result"
    }
   ],
   "source": [
    "#calculate accuracy\n",
    "score_knb = accuracy_score(y_pred_knb,y_test)\n",
    "score_knb"
   ]
  },
  {
   "cell_type": "code",
   "execution_count": 58,
   "metadata": {
    "execution": {
     "iopub.execute_input": "2021-01-08T12:19:53.372789Z",
     "iopub.status.busy": "2021-01-08T12:19:53.372076Z",
     "iopub.status.idle": "2021-01-08T12:19:53.380948Z",
     "shell.execute_reply": "2021-01-08T12:19:53.380252Z"
    },
    "papermill": {
     "duration": 0.078364,
     "end_time": "2021-01-08T12:19:53.381079",
     "exception": false,
     "start_time": "2021-01-08T12:19:53.302715",
     "status": "completed"
    },
    "tags": []
   },
   "outputs": [
    {
     "name": "stdout",
     "output_type": "stream",
     "text": [
      "train score - 0.959375\n",
      "test score - 0.9\n"
     ]
    }
   ],
   "source": [
    "print(\"train score - \" + str(knb.score(X_train, y_train)))\n",
    "print(\"test score - \" + str(knb.score(X_test, y_test)))"
   ]
  },
  {
   "cell_type": "code",
   "execution_count": 59,
   "metadata": {
    "execution": {
     "iopub.execute_input": "2021-01-08T12:19:53.536498Z",
     "iopub.status.busy": "2021-01-08T12:19:53.535312Z",
     "iopub.status.idle": "2021-01-08T12:19:53.732246Z",
     "shell.execute_reply": "2021-01-08T12:19:53.731626Z"
    },
    "papermill": {
     "duration": 0.284279,
     "end_time": "2021-01-08T12:19:53.732370",
     "exception": false,
     "start_time": "2021-01-08T12:19:53.448091",
     "status": "completed"
    },
    "tags": []
   },
   "outputs": [
    {
     "data": {
      "image/png": "[encoded data removed]",
      "text/plain": [
       "<Figure size 432x288 with 2 Axes>"
      ]
     },
     "metadata": {},
     "output_type": "display_data"
    }
   ],
   "source": [
    "#Making the Confusion Matrix\n",
    "cm_knb = confusion_matrix(y_test,y_pred_knb)\n",
    "\n",
    "sns.set(font_scale=1.4) # for label size\n",
    "sns.heatmap(cm_knb, annot=True, annot_kws={\"size\": 16}) # font size\n",
    "\n",
    "plt.show()"
   ]
  },
  {
   "cell_type": "code",
   "execution_count": 60,
   "metadata": {
    "execution": {
     "iopub.execute_input": "2021-01-08T12:19:53.878560Z",
     "iopub.status.busy": "2021-01-08T12:19:53.877736Z",
     "iopub.status.idle": "2021-01-08T12:19:53.887685Z",
     "shell.execute_reply": "2021-01-08T12:19:53.886967Z"
    },
    "papermill": {
     "duration": 0.086947,
     "end_time": "2021-01-08T12:19:53.887821",
     "exception": false,
     "start_time": "2021-01-08T12:19:53.800874",
     "status": "completed"
    },
    "tags": []
   },
   "outputs": [
    {
     "name": "stdout",
     "output_type": "stream",
     "text": [
      "              precision    recall  f1-score   support\n",
      "\n",
      "         0.0       0.83      0.89      0.86        27\n",
      "         1.0       0.94      0.91      0.92        53\n",
      "\n",
      "    accuracy                           0.90        80\n",
      "   macro avg       0.88      0.90      0.89        80\n",
      "weighted avg       0.90      0.90      0.90        80\n",
      "\n"
     ]
    }
   ],
   "source": [
    "print(classification_report(y_test, y_pred_knb))"
   ]
  },
  {
   "cell_type": "code",
   "execution_count": null,
   "metadata": {},
   "outputs": [],
   "source": []
  }
 ],
 "metadata": {
  "kernelspec": {
   "display_name": "Python 3",
   "language": "python",
   "name": "python3"
  },
  "language_info": {
   "codemirror_mode": {
    "name": "ipython",
    "version": 3
   },
   "file_extension": ".py",
   "mimetype": "text/x-python",
   "name": "python",
   "nbconvert_exporter": "python",
   "pygments_lexer": "ipython3",
   "version": "3.8.3"
  },
  "papermill": {
   "duration": 17.065472,
   "end_time": "2021-01-08T12:19:54.066115",
   "environment_variables": {},
   "exception": null,
   "input_path": "__notebook__.ipynb",
   "output_path": "__notebook__.ipynb",
   "parameters": {},
   "start_time": "2021-01-08T12:19:37.000643",
   "version": "2.1.0"
  }
 },
 "nbformat": 4,
 "nbformat_minor": 4
}
