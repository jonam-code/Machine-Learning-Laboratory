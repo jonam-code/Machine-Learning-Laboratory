{
 "cells": [
  {
   "cell_type": "markdown",
   "metadata": {},
   "source": [
    "<div><h2><b><center>MANOJ KUMAR - 2048015</b></h2></div>\n",
    "<div><h3><b><center>Lab 11: Clustering (Distance based methods)</b></h3></div>"
   ]
  },
  {
   "cell_type": "code",
   "execution_count": 1,
   "metadata": {
    "_cell_guid": "79c7e3d0-c299-4dcb-8224-4455121ee9b0",
    "_uuid": "d629ff2d2480ee46fbb7e2d37f6b5fab8052498a",
    "execution": {
     "iopub.execute_input": "2021-01-16T13:44:16.000508Z",
     "iopub.status.busy": "2021-01-16T13:44:15.9999Z",
     "iopub.status.idle": "2021-01-16T13:44:16.004056Z",
     "shell.execute_reply": "2021-01-16T13:44:16.004523Z"
    },
    "papermill": {
     "duration": 0.034112,
     "end_time": "2021-01-16T13:44:16.004695",
     "exception": false,
     "start_time": "2021-01-16T13:44:15.970583",
     "status": "completed"
    },
    "tags": []
   },
   "outputs": [],
   "source": [
    "import numpy as np\n",
    "import pandas as pd\n",
    "import matplotlib.pyplot as plt\n",
    "import seaborn as sns\n",
    "import math\n",
    "import warnings\n",
    "warnings.filterwarnings(action='ignore')"
   ]
  },
  {
   "cell_type": "markdown",
   "metadata": {},
   "source": [
    "# Pre-processing"
   ]
  },
  {
   "cell_type": "code",
   "execution_count": 2,
   "metadata": {
    "execution": {
     "iopub.execute_input": "2021-01-16T13:44:16.070424Z",
     "iopub.status.busy": "2021-01-16T13:44:16.069752Z",
     "iopub.status.idle": "2021-01-16T13:44:16.088839Z",
     "shell.execute_reply": "2021-01-16T13:44:16.088227Z"
    },
    "papermill": {
     "duration": 0.05947,
     "end_time": "2021-01-16T13:44:16.088945",
     "exception": false,
     "start_time": "2021-01-16T13:44:16.029475",
     "status": "completed"
    },
    "tags": []
   },
   "outputs": [],
   "source": [
    "data=pd.read_csv(\"kidney_disease.csv\")"
   ]
  },
  {
   "cell_type": "code",
   "execution_count": 3,
   "metadata": {
    "execution": {
     "iopub.execute_input": "2021-01-16T13:44:16.141181Z",
     "iopub.status.busy": "2021-01-16T13:44:16.14029Z",
     "iopub.status.idle": "2021-01-16T13:44:16.180864Z",
     "shell.execute_reply": "2021-01-16T13:44:16.180277Z"
    },
    "papermill": {
     "duration": 0.067694,
     "end_time": "2021-01-16T13:44:16.180988",
     "exception": false,
     "start_time": "2021-01-16T13:44:16.113294",
     "status": "completed"
    },
    "tags": []
   },
   "outputs": [
    {
     "data": {
      "text/html": [
       "<div>\n",
       "<style scoped>\n",
       "    .dataframe tbody tr th:only-of-type {\n",
       "        vertical-align: middle;\n",
       "    }\n",
       "\n",
       "    .dataframe tbody tr th {\n",
       "        vertical-align: top;\n",
       "    }\n",
       "\n",
       "    .dataframe thead th {\n",
       "        text-align: right;\n",
       "    }\n",
       "</style>\n",
       "<table border=\"1\" class=\"dataframe\">\n",
       "  <thead>\n",
       "    <tr style=\"text-align: right;\">\n",
       "      <th></th>\n",
       "      <th>id</th>\n",
       "      <th>age</th>\n",
       "      <th>bp</th>\n",
       "      <th>sg</th>\n",
       "      <th>al</th>\n",
       "      <th>su</th>\n",
       "      <th>rbc</th>\n",
       "      <th>pc</th>\n",
       "      <th>pcc</th>\n",
       "      <th>ba</th>\n",
       "      <th>...</th>\n",
       "      <th>pcv</th>\n",
       "      <th>wc</th>\n",
       "      <th>rc</th>\n",
       "      <th>htn</th>\n",
       "      <th>dm</th>\n",
       "      <th>cad</th>\n",
       "      <th>appet</th>\n",
       "      <th>pe</th>\n",
       "      <th>ane</th>\n",
       "      <th>classification</th>\n",
       "    </tr>\n",
       "  </thead>\n",
       "  <tbody>\n",
       "    <tr>\n",
       "      <th>0</th>\n",
       "      <td>0</td>\n",
       "      <td>48.0</td>\n",
       "      <td>80.0</td>\n",
       "      <td>1.020</td>\n",
       "      <td>1.0</td>\n",
       "      <td>0.0</td>\n",
       "      <td>NaN</td>\n",
       "      <td>normal</td>\n",
       "      <td>notpresent</td>\n",
       "      <td>notpresent</td>\n",
       "      <td>...</td>\n",
       "      <td>44</td>\n",
       "      <td>7800</td>\n",
       "      <td>5.2</td>\n",
       "      <td>yes</td>\n",
       "      <td>yes</td>\n",
       "      <td>no</td>\n",
       "      <td>good</td>\n",
       "      <td>no</td>\n",
       "      <td>no</td>\n",
       "      <td>ckd</td>\n",
       "    </tr>\n",
       "    <tr>\n",
       "      <th>1</th>\n",
       "      <td>1</td>\n",
       "      <td>7.0</td>\n",
       "      <td>50.0</td>\n",
       "      <td>1.020</td>\n",
       "      <td>4.0</td>\n",
       "      <td>0.0</td>\n",
       "      <td>NaN</td>\n",
       "      <td>normal</td>\n",
       "      <td>notpresent</td>\n",
       "      <td>notpresent</td>\n",
       "      <td>...</td>\n",
       "      <td>38</td>\n",
       "      <td>6000</td>\n",
       "      <td>NaN</td>\n",
       "      <td>no</td>\n",
       "      <td>no</td>\n",
       "      <td>no</td>\n",
       "      <td>good</td>\n",
       "      <td>no</td>\n",
       "      <td>no</td>\n",
       "      <td>ckd</td>\n",
       "    </tr>\n",
       "    <tr>\n",
       "      <th>2</th>\n",
       "      <td>2</td>\n",
       "      <td>62.0</td>\n",
       "      <td>80.0</td>\n",
       "      <td>1.010</td>\n",
       "      <td>2.0</td>\n",
       "      <td>3.0</td>\n",
       "      <td>normal</td>\n",
       "      <td>normal</td>\n",
       "      <td>notpresent</td>\n",
       "      <td>notpresent</td>\n",
       "      <td>...</td>\n",
       "      <td>31</td>\n",
       "      <td>7500</td>\n",
       "      <td>NaN</td>\n",
       "      <td>no</td>\n",
       "      <td>yes</td>\n",
       "      <td>no</td>\n",
       "      <td>poor</td>\n",
       "      <td>no</td>\n",
       "      <td>yes</td>\n",
       "      <td>ckd</td>\n",
       "    </tr>\n",
       "    <tr>\n",
       "      <th>3</th>\n",
       "      <td>3</td>\n",
       "      <td>48.0</td>\n",
       "      <td>70.0</td>\n",
       "      <td>1.005</td>\n",
       "      <td>4.0</td>\n",
       "      <td>0.0</td>\n",
       "      <td>normal</td>\n",
       "      <td>abnormal</td>\n",
       "      <td>present</td>\n",
       "      <td>notpresent</td>\n",
       "      <td>...</td>\n",
       "      <td>32</td>\n",
       "      <td>6700</td>\n",
       "      <td>3.9</td>\n",
       "      <td>yes</td>\n",
       "      <td>no</td>\n",
       "      <td>no</td>\n",
       "      <td>poor</td>\n",
       "      <td>yes</td>\n",
       "      <td>yes</td>\n",
       "      <td>ckd</td>\n",
       "    </tr>\n",
       "    <tr>\n",
       "      <th>4</th>\n",
       "      <td>4</td>\n",
       "      <td>51.0</td>\n",
       "      <td>80.0</td>\n",
       "      <td>1.010</td>\n",
       "      <td>2.0</td>\n",
       "      <td>0.0</td>\n",
       "      <td>normal</td>\n",
       "      <td>normal</td>\n",
       "      <td>notpresent</td>\n",
       "      <td>notpresent</td>\n",
       "      <td>...</td>\n",
       "      <td>35</td>\n",
       "      <td>7300</td>\n",
       "      <td>4.6</td>\n",
       "      <td>no</td>\n",
       "      <td>no</td>\n",
       "      <td>no</td>\n",
       "      <td>good</td>\n",
       "      <td>no</td>\n",
       "      <td>no</td>\n",
       "      <td>ckd</td>\n",
       "    </tr>\n",
       "    <tr>\n",
       "      <th>5</th>\n",
       "      <td>5</td>\n",
       "      <td>60.0</td>\n",
       "      <td>90.0</td>\n",
       "      <td>1.015</td>\n",
       "      <td>3.0</td>\n",
       "      <td>0.0</td>\n",
       "      <td>NaN</td>\n",
       "      <td>NaN</td>\n",
       "      <td>notpresent</td>\n",
       "      <td>notpresent</td>\n",
       "      <td>...</td>\n",
       "      <td>39</td>\n",
       "      <td>7800</td>\n",
       "      <td>4.4</td>\n",
       "      <td>yes</td>\n",
       "      <td>yes</td>\n",
       "      <td>no</td>\n",
       "      <td>good</td>\n",
       "      <td>yes</td>\n",
       "      <td>no</td>\n",
       "      <td>ckd</td>\n",
       "    </tr>\n",
       "    <tr>\n",
       "      <th>6</th>\n",
       "      <td>6</td>\n",
       "      <td>68.0</td>\n",
       "      <td>70.0</td>\n",
       "      <td>1.010</td>\n",
       "      <td>0.0</td>\n",
       "      <td>0.0</td>\n",
       "      <td>NaN</td>\n",
       "      <td>normal</td>\n",
       "      <td>notpresent</td>\n",
       "      <td>notpresent</td>\n",
       "      <td>...</td>\n",
       "      <td>36</td>\n",
       "      <td>NaN</td>\n",
       "      <td>NaN</td>\n",
       "      <td>no</td>\n",
       "      <td>no</td>\n",
       "      <td>no</td>\n",
       "      <td>good</td>\n",
       "      <td>no</td>\n",
       "      <td>no</td>\n",
       "      <td>ckd</td>\n",
       "    </tr>\n",
       "    <tr>\n",
       "      <th>7</th>\n",
       "      <td>7</td>\n",
       "      <td>24.0</td>\n",
       "      <td>NaN</td>\n",
       "      <td>1.015</td>\n",
       "      <td>2.0</td>\n",
       "      <td>4.0</td>\n",
       "      <td>normal</td>\n",
       "      <td>abnormal</td>\n",
       "      <td>notpresent</td>\n",
       "      <td>notpresent</td>\n",
       "      <td>...</td>\n",
       "      <td>44</td>\n",
       "      <td>6900</td>\n",
       "      <td>5</td>\n",
       "      <td>no</td>\n",
       "      <td>yes</td>\n",
       "      <td>no</td>\n",
       "      <td>good</td>\n",
       "      <td>yes</td>\n",
       "      <td>no</td>\n",
       "      <td>ckd</td>\n",
       "    </tr>\n",
       "    <tr>\n",
       "      <th>8</th>\n",
       "      <td>8</td>\n",
       "      <td>52.0</td>\n",
       "      <td>100.0</td>\n",
       "      <td>1.015</td>\n",
       "      <td>3.0</td>\n",
       "      <td>0.0</td>\n",
       "      <td>normal</td>\n",
       "      <td>abnormal</td>\n",
       "      <td>present</td>\n",
       "      <td>notpresent</td>\n",
       "      <td>...</td>\n",
       "      <td>33</td>\n",
       "      <td>9600</td>\n",
       "      <td>4.0</td>\n",
       "      <td>yes</td>\n",
       "      <td>yes</td>\n",
       "      <td>no</td>\n",
       "      <td>good</td>\n",
       "      <td>no</td>\n",
       "      <td>yes</td>\n",
       "      <td>ckd</td>\n",
       "    </tr>\n",
       "    <tr>\n",
       "      <th>9</th>\n",
       "      <td>9</td>\n",
       "      <td>53.0</td>\n",
       "      <td>90.0</td>\n",
       "      <td>1.020</td>\n",
       "      <td>2.0</td>\n",
       "      <td>0.0</td>\n",
       "      <td>abnormal</td>\n",
       "      <td>abnormal</td>\n",
       "      <td>present</td>\n",
       "      <td>notpresent</td>\n",
       "      <td>...</td>\n",
       "      <td>29</td>\n",
       "      <td>12100</td>\n",
       "      <td>3.7</td>\n",
       "      <td>yes</td>\n",
       "      <td>yes</td>\n",
       "      <td>no</td>\n",
       "      <td>poor</td>\n",
       "      <td>no</td>\n",
       "      <td>yes</td>\n",
       "      <td>ckd</td>\n",
       "    </tr>\n",
       "  </tbody>\n",
       "</table>\n",
       "<p>10 rows × 26 columns</p>\n",
       "</div>"
      ],
      "text/plain": [
       "   id   age     bp     sg   al   su       rbc        pc         pcc  \\\n",
       "0   0  48.0   80.0  1.020  1.0  0.0       NaN    normal  notpresent   \n",
       "1   1   7.0   50.0  1.020  4.0  0.0       NaN    normal  notpresent   \n",
       "2   2  62.0   80.0  1.010  2.0  3.0    normal    normal  notpresent   \n",
       "3   3  48.0   70.0  1.005  4.0  0.0    normal  abnormal     present   \n",
       "4   4  51.0   80.0  1.010  2.0  0.0    normal    normal  notpresent   \n",
       "5   5  60.0   90.0  1.015  3.0  0.0       NaN       NaN  notpresent   \n",
       "6   6  68.0   70.0  1.010  0.0  0.0       NaN    normal  notpresent   \n",
       "7   7  24.0    NaN  1.015  2.0  4.0    normal  abnormal  notpresent   \n",
       "8   8  52.0  100.0  1.015  3.0  0.0    normal  abnormal     present   \n",
       "9   9  53.0   90.0  1.020  2.0  0.0  abnormal  abnormal     present   \n",
       "\n",
       "           ba  ...  pcv     wc   rc  htn   dm  cad appet   pe  ane  \\\n",
       "0  notpresent  ...   44   7800  5.2  yes  yes   no  good   no   no   \n",
       "1  notpresent  ...   38   6000  NaN   no   no   no  good   no   no   \n",
       "2  notpresent  ...   31   7500  NaN   no  yes   no  poor   no  yes   \n",
       "3  notpresent  ...   32   6700  3.9  yes   no   no  poor  yes  yes   \n",
       "4  notpresent  ...   35   7300  4.6   no   no   no  good   no   no   \n",
       "5  notpresent  ...   39   7800  4.4  yes  yes   no  good  yes   no   \n",
       "6  notpresent  ...   36    NaN  NaN   no   no   no  good   no   no   \n",
       "7  notpresent  ...   44   6900    5   no  yes   no  good  yes   no   \n",
       "8  notpresent  ...   33   9600  4.0  yes  yes   no  good   no  yes   \n",
       "9  notpresent  ...   29  12100  3.7  yes  yes   no  poor   no  yes   \n",
       "\n",
       "  classification  \n",
       "0            ckd  \n",
       "1            ckd  \n",
       "2            ckd  \n",
       "3            ckd  \n",
       "4            ckd  \n",
       "5            ckd  \n",
       "6            ckd  \n",
       "7            ckd  \n",
       "8            ckd  \n",
       "9            ckd  \n",
       "\n",
       "[10 rows x 26 columns]"
      ]
     },
     "execution_count": 3,
     "metadata": {},
     "output_type": "execute_result"
    }
   ],
   "source": [
    "data.head(10)"
   ]
  },
  {
   "cell_type": "code",
   "execution_count": 4,
   "metadata": {
    "execution": {
     "iopub.execute_input": "2021-01-16T13:44:16.237333Z",
     "iopub.status.busy": "2021-01-16T13:44:16.236693Z",
     "iopub.status.idle": "2021-01-16T13:44:16.241203Z",
     "shell.execute_reply": "2021-01-16T13:44:16.240589Z"
    },
    "papermill": {
     "duration": 0.034504,
     "end_time": "2021-01-16T13:44:16.241311",
     "exception": false,
     "start_time": "2021-01-16T13:44:16.206807",
     "status": "completed"
    },
    "tags": []
   },
   "outputs": [
    {
     "data": {
      "text/plain": [
       "Index(['id', 'age', 'bp', 'sg', 'al', 'su', 'rbc', 'pc', 'pcc', 'ba', 'bgr',\n",
       "       'bu', 'sc', 'sod', 'pot', 'hemo', 'pcv', 'wc', 'rc', 'htn', 'dm', 'cad',\n",
       "       'appet', 'pe', 'ane', 'classification'],\n",
       "      dtype='object')"
      ]
     },
     "execution_count": 4,
     "metadata": {},
     "output_type": "execute_result"
    }
   ],
   "source": [
    "data.columns"
   ]
  },
  {
   "cell_type": "code",
   "execution_count": 5,
   "metadata": {},
   "outputs": [
    {
     "name": "stdout",
     "output_type": "stream",
     "text": [
      "<class 'pandas.core.frame.DataFrame'>\n",
      "RangeIndex: 400 entries, 0 to 399\n",
      "Data columns (total 26 columns):\n",
      " #   Column          Non-Null Count  Dtype  \n",
      "---  ------          --------------  -----  \n",
      " 0   id              400 non-null    int64  \n",
      " 1   age             391 non-null    float64\n",
      " 2   bp              388 non-null    float64\n",
      " 3   sg              353 non-null    float64\n",
      " 4   al              354 non-null    float64\n",
      " 5   su              351 non-null    float64\n",
      " 6   rbc             248 non-null    object \n",
      " 7   pc              335 non-null    object \n",
      " 8   pcc             396 non-null    object \n",
      " 9   ba              396 non-null    object \n",
      " 10  bgr             356 non-null    float64\n",
      " 11  bu              381 non-null    float64\n",
      " 12  sc              383 non-null    float64\n",
      " 13  sod             313 non-null    float64\n",
      " 14  pot             312 non-null    float64\n",
      " 15  hemo            348 non-null    float64\n",
      " 16  pcv             330 non-null    object \n",
      " 17  wc              295 non-null    object \n",
      " 18  rc              270 non-null    object \n",
      " 19  htn             398 non-null    object \n",
      " 20  dm              398 non-null    object \n",
      " 21  cad             398 non-null    object \n",
      " 22  appet           399 non-null    object \n",
      " 23  pe              399 non-null    object \n",
      " 24  ane             399 non-null    object \n",
      " 25  classification  400 non-null    object \n",
      "dtypes: float64(11), int64(1), object(14)\n",
      "memory usage: 81.4+ KB\n"
     ]
    }
   ],
   "source": [
    "data.info()"
   ]
  },
  {
   "cell_type": "code",
   "execution_count": 6,
   "metadata": {},
   "outputs": [
    {
     "data": {
      "text/html": [
       "<div>\n",
       "<style scoped>\n",
       "    .dataframe tbody tr th:only-of-type {\n",
       "        vertical-align: middle;\n",
       "    }\n",
       "\n",
       "    .dataframe tbody tr th {\n",
       "        vertical-align: top;\n",
       "    }\n",
       "\n",
       "    .dataframe thead th {\n",
       "        text-align: right;\n",
       "    }\n",
       "</style>\n",
       "<table border=\"1\" class=\"dataframe\">\n",
       "  <thead>\n",
       "    <tr style=\"text-align: right;\">\n",
       "      <th></th>\n",
       "      <th>id</th>\n",
       "      <th>age</th>\n",
       "      <th>bp</th>\n",
       "      <th>sg</th>\n",
       "      <th>al</th>\n",
       "      <th>su</th>\n",
       "      <th>bgr</th>\n",
       "      <th>bu</th>\n",
       "      <th>sc</th>\n",
       "      <th>sod</th>\n",
       "      <th>pot</th>\n",
       "      <th>hemo</th>\n",
       "    </tr>\n",
       "  </thead>\n",
       "  <tbody>\n",
       "    <tr>\n",
       "      <th>count</th>\n",
       "      <td>400.000000</td>\n",
       "      <td>391.000000</td>\n",
       "      <td>388.000000</td>\n",
       "      <td>353.000000</td>\n",
       "      <td>354.000000</td>\n",
       "      <td>351.000000</td>\n",
       "      <td>356.000000</td>\n",
       "      <td>381.000000</td>\n",
       "      <td>383.000000</td>\n",
       "      <td>313.000000</td>\n",
       "      <td>312.000000</td>\n",
       "      <td>348.000000</td>\n",
       "    </tr>\n",
       "    <tr>\n",
       "      <th>mean</th>\n",
       "      <td>199.500000</td>\n",
       "      <td>51.483376</td>\n",
       "      <td>76.469072</td>\n",
       "      <td>1.017408</td>\n",
       "      <td>1.016949</td>\n",
       "      <td>0.450142</td>\n",
       "      <td>148.036517</td>\n",
       "      <td>57.425722</td>\n",
       "      <td>3.072454</td>\n",
       "      <td>137.528754</td>\n",
       "      <td>4.627244</td>\n",
       "      <td>12.526437</td>\n",
       "    </tr>\n",
       "    <tr>\n",
       "      <th>std</th>\n",
       "      <td>115.614301</td>\n",
       "      <td>17.169714</td>\n",
       "      <td>13.683637</td>\n",
       "      <td>0.005717</td>\n",
       "      <td>1.352679</td>\n",
       "      <td>1.099191</td>\n",
       "      <td>79.281714</td>\n",
       "      <td>50.503006</td>\n",
       "      <td>5.741126</td>\n",
       "      <td>10.408752</td>\n",
       "      <td>3.193904</td>\n",
       "      <td>2.912587</td>\n",
       "    </tr>\n",
       "    <tr>\n",
       "      <th>min</th>\n",
       "      <td>0.000000</td>\n",
       "      <td>2.000000</td>\n",
       "      <td>50.000000</td>\n",
       "      <td>1.005000</td>\n",
       "      <td>0.000000</td>\n",
       "      <td>0.000000</td>\n",
       "      <td>22.000000</td>\n",
       "      <td>1.500000</td>\n",
       "      <td>0.400000</td>\n",
       "      <td>4.500000</td>\n",
       "      <td>2.500000</td>\n",
       "      <td>3.100000</td>\n",
       "    </tr>\n",
       "    <tr>\n",
       "      <th>25%</th>\n",
       "      <td>99.750000</td>\n",
       "      <td>42.000000</td>\n",
       "      <td>70.000000</td>\n",
       "      <td>1.010000</td>\n",
       "      <td>0.000000</td>\n",
       "      <td>0.000000</td>\n",
       "      <td>99.000000</td>\n",
       "      <td>27.000000</td>\n",
       "      <td>0.900000</td>\n",
       "      <td>135.000000</td>\n",
       "      <td>3.800000</td>\n",
       "      <td>10.300000</td>\n",
       "    </tr>\n",
       "    <tr>\n",
       "      <th>50%</th>\n",
       "      <td>199.500000</td>\n",
       "      <td>55.000000</td>\n",
       "      <td>80.000000</td>\n",
       "      <td>1.020000</td>\n",
       "      <td>0.000000</td>\n",
       "      <td>0.000000</td>\n",
       "      <td>121.000000</td>\n",
       "      <td>42.000000</td>\n",
       "      <td>1.300000</td>\n",
       "      <td>138.000000</td>\n",
       "      <td>4.400000</td>\n",
       "      <td>12.650000</td>\n",
       "    </tr>\n",
       "    <tr>\n",
       "      <th>75%</th>\n",
       "      <td>299.250000</td>\n",
       "      <td>64.500000</td>\n",
       "      <td>80.000000</td>\n",
       "      <td>1.020000</td>\n",
       "      <td>2.000000</td>\n",
       "      <td>0.000000</td>\n",
       "      <td>163.000000</td>\n",
       "      <td>66.000000</td>\n",
       "      <td>2.800000</td>\n",
       "      <td>142.000000</td>\n",
       "      <td>4.900000</td>\n",
       "      <td>15.000000</td>\n",
       "    </tr>\n",
       "    <tr>\n",
       "      <th>max</th>\n",
       "      <td>399.000000</td>\n",
       "      <td>90.000000</td>\n",
       "      <td>180.000000</td>\n",
       "      <td>1.025000</td>\n",
       "      <td>5.000000</td>\n",
       "      <td>5.000000</td>\n",
       "      <td>490.000000</td>\n",
       "      <td>391.000000</td>\n",
       "      <td>76.000000</td>\n",
       "      <td>163.000000</td>\n",
       "      <td>47.000000</td>\n",
       "      <td>17.800000</td>\n",
       "    </tr>\n",
       "  </tbody>\n",
       "</table>\n",
       "</div>"
      ],
      "text/plain": [
       "               id         age          bp          sg          al          su  \\\n",
       "count  400.000000  391.000000  388.000000  353.000000  354.000000  351.000000   \n",
       "mean   199.500000   51.483376   76.469072    1.017408    1.016949    0.450142   \n",
       "std    115.614301   17.169714   13.683637    0.005717    1.352679    1.099191   \n",
       "min      0.000000    2.000000   50.000000    1.005000    0.000000    0.000000   \n",
       "25%     99.750000   42.000000   70.000000    1.010000    0.000000    0.000000   \n",
       "50%    199.500000   55.000000   80.000000    1.020000    0.000000    0.000000   \n",
       "75%    299.250000   64.500000   80.000000    1.020000    2.000000    0.000000   \n",
       "max    399.000000   90.000000  180.000000    1.025000    5.000000    5.000000   \n",
       "\n",
       "              bgr          bu          sc         sod         pot        hemo  \n",
       "count  356.000000  381.000000  383.000000  313.000000  312.000000  348.000000  \n",
       "mean   148.036517   57.425722    3.072454  137.528754    4.627244   12.526437  \n",
       "std     79.281714   50.503006    5.741126   10.408752    3.193904    2.912587  \n",
       "min     22.000000    1.500000    0.400000    4.500000    2.500000    3.100000  \n",
       "25%     99.000000   27.000000    0.900000  135.000000    3.800000   10.300000  \n",
       "50%    121.000000   42.000000    1.300000  138.000000    4.400000   12.650000  \n",
       "75%    163.000000   66.000000    2.800000  142.000000    4.900000   15.000000  \n",
       "max    490.000000  391.000000   76.000000  163.000000   47.000000   17.800000  "
      ]
     },
     "execution_count": 6,
     "metadata": {},
     "output_type": "execute_result"
    }
   ],
   "source": [
    "data.describe()"
   ]
  },
  {
   "cell_type": "markdown",
   "metadata": {},
   "source": [
    "### Data Cleaning"
   ]
  },
  {
   "cell_type": "code",
   "execution_count": 7,
   "metadata": {
    "execution": {
     "iopub.execute_input": "2021-01-16T13:44:17.775887Z",
     "iopub.status.busy": "2021-01-16T13:44:17.775346Z",
     "iopub.status.idle": "2021-01-16T13:44:17.781179Z",
     "shell.execute_reply": "2021-01-16T13:44:17.781628Z"
    },
    "papermill": {
     "duration": 0.035786,
     "end_time": "2021-01-16T13:44:17.781754",
     "exception": false,
     "start_time": "2021-01-16T13:44:17.745968",
     "status": "completed"
    },
    "tags": []
   },
   "outputs": [],
   "source": [
    "for i in range(data.shape[0]):\n",
    "    if data.iloc[i,25]=='ckd\\t':\n",
    "        data.iloc[i,25]='ckd'\n",
    "    if data.iloc[i,20] in [' yes','\\tyes']:\n",
    "        data.iloc[i,20]='yes'\n",
    "    if data.iloc[i,20]=='\\tno':\n",
    "        data.iloc[i,20]='no'\n",
    "    if data.iloc[i,21]=='\\tno':\n",
    "        data.iloc[i,21]='no'\n",
    "    if data.iloc[i,16]=='\\t?':\n",
    "        data.iloc[i,16]=np.nan\n",
    "    if data.iloc[i,16]=='\\t43':\n",
    "        data.iloc[i,16]='43'\n",
    "    if data.iloc[i,17]=='\\t?':\n",
    "        data.iloc[i,17]=np.nan\n",
    "    if data.iloc[i,17]=='\\t6200':\n",
    "        data.iloc[i,17]= '6200'\n",
    "    if data.iloc[i,17]=='\\t8400':\n",
    "        data.iloc[i,17]= '6200'\n",
    "    if data.iloc[i,18]=='\\t?':\n",
    "        data.iloc[i,18]=np.nan\n",
    "    if data.iloc[i,25]=='ckd':\n",
    "        data.iloc[i,25]='yes'\n",
    "    if data.iloc[i,25]=='notckd':\n",
    "        data.iloc[i,25]='no'"
   ]
  },
  {
   "cell_type": "code",
   "execution_count": 8,
   "metadata": {
    "execution": {
     "iopub.execute_input": "2021-01-16T13:44:18.490593Z",
     "iopub.status.busy": "2021-01-16T13:44:18.489884Z",
     "iopub.status.idle": "2021-01-16T13:44:18.49439Z",
     "shell.execute_reply": "2021-01-16T13:44:18.493733Z"
    },
    "papermill": {
     "duration": 0.060416,
     "end_time": "2021-01-16T13:44:18.494505",
     "exception": false,
     "start_time": "2021-01-16T13:44:18.434089",
     "status": "completed"
    },
    "tags": []
   },
   "outputs": [
    {
     "data": {
      "text/html": [
       "<div>\n",
       "<style scoped>\n",
       "    .dataframe tbody tr th:only-of-type {\n",
       "        vertical-align: middle;\n",
       "    }\n",
       "\n",
       "    .dataframe tbody tr th {\n",
       "        vertical-align: top;\n",
       "    }\n",
       "\n",
       "    .dataframe thead th {\n",
       "        text-align: right;\n",
       "    }\n",
       "</style>\n",
       "<table border=\"1\" class=\"dataframe\">\n",
       "  <thead>\n",
       "    <tr style=\"text-align: right;\">\n",
       "      <th></th>\n",
       "      <th>age</th>\n",
       "      <th>bp</th>\n",
       "      <th>sg</th>\n",
       "      <th>al</th>\n",
       "      <th>su</th>\n",
       "      <th>rbc</th>\n",
       "      <th>pc</th>\n",
       "      <th>pcc</th>\n",
       "      <th>ba</th>\n",
       "      <th>bgr</th>\n",
       "      <th>...</th>\n",
       "      <th>pcv</th>\n",
       "      <th>wc</th>\n",
       "      <th>rc</th>\n",
       "      <th>htn</th>\n",
       "      <th>dm</th>\n",
       "      <th>cad</th>\n",
       "      <th>appet</th>\n",
       "      <th>pe</th>\n",
       "      <th>ane</th>\n",
       "      <th>classification</th>\n",
       "    </tr>\n",
       "  </thead>\n",
       "  <tbody>\n",
       "    <tr>\n",
       "      <th>0</th>\n",
       "      <td>48.0</td>\n",
       "      <td>80.0</td>\n",
       "      <td>1.020</td>\n",
       "      <td>1.0</td>\n",
       "      <td>0.0</td>\n",
       "      <td>NaN</td>\n",
       "      <td>normal</td>\n",
       "      <td>notpresent</td>\n",
       "      <td>notpresent</td>\n",
       "      <td>121.0</td>\n",
       "      <td>...</td>\n",
       "      <td>44</td>\n",
       "      <td>7800</td>\n",
       "      <td>5.2</td>\n",
       "      <td>yes</td>\n",
       "      <td>yes</td>\n",
       "      <td>no</td>\n",
       "      <td>good</td>\n",
       "      <td>no</td>\n",
       "      <td>no</td>\n",
       "      <td>yes</td>\n",
       "    </tr>\n",
       "    <tr>\n",
       "      <th>1</th>\n",
       "      <td>7.0</td>\n",
       "      <td>50.0</td>\n",
       "      <td>1.020</td>\n",
       "      <td>4.0</td>\n",
       "      <td>0.0</td>\n",
       "      <td>NaN</td>\n",
       "      <td>normal</td>\n",
       "      <td>notpresent</td>\n",
       "      <td>notpresent</td>\n",
       "      <td>NaN</td>\n",
       "      <td>...</td>\n",
       "      <td>38</td>\n",
       "      <td>6000</td>\n",
       "      <td>NaN</td>\n",
       "      <td>no</td>\n",
       "      <td>no</td>\n",
       "      <td>no</td>\n",
       "      <td>good</td>\n",
       "      <td>no</td>\n",
       "      <td>no</td>\n",
       "      <td>yes</td>\n",
       "    </tr>\n",
       "    <tr>\n",
       "      <th>2</th>\n",
       "      <td>62.0</td>\n",
       "      <td>80.0</td>\n",
       "      <td>1.010</td>\n",
       "      <td>2.0</td>\n",
       "      <td>3.0</td>\n",
       "      <td>normal</td>\n",
       "      <td>normal</td>\n",
       "      <td>notpresent</td>\n",
       "      <td>notpresent</td>\n",
       "      <td>423.0</td>\n",
       "      <td>...</td>\n",
       "      <td>31</td>\n",
       "      <td>7500</td>\n",
       "      <td>NaN</td>\n",
       "      <td>no</td>\n",
       "      <td>yes</td>\n",
       "      <td>no</td>\n",
       "      <td>poor</td>\n",
       "      <td>no</td>\n",
       "      <td>yes</td>\n",
       "      <td>yes</td>\n",
       "    </tr>\n",
       "    <tr>\n",
       "      <th>3</th>\n",
       "      <td>48.0</td>\n",
       "      <td>70.0</td>\n",
       "      <td>1.005</td>\n",
       "      <td>4.0</td>\n",
       "      <td>0.0</td>\n",
       "      <td>normal</td>\n",
       "      <td>abnormal</td>\n",
       "      <td>present</td>\n",
       "      <td>notpresent</td>\n",
       "      <td>117.0</td>\n",
       "      <td>...</td>\n",
       "      <td>32</td>\n",
       "      <td>6700</td>\n",
       "      <td>3.9</td>\n",
       "      <td>yes</td>\n",
       "      <td>no</td>\n",
       "      <td>no</td>\n",
       "      <td>poor</td>\n",
       "      <td>yes</td>\n",
       "      <td>yes</td>\n",
       "      <td>yes</td>\n",
       "    </tr>\n",
       "    <tr>\n",
       "      <th>4</th>\n",
       "      <td>51.0</td>\n",
       "      <td>80.0</td>\n",
       "      <td>1.010</td>\n",
       "      <td>2.0</td>\n",
       "      <td>0.0</td>\n",
       "      <td>normal</td>\n",
       "      <td>normal</td>\n",
       "      <td>notpresent</td>\n",
       "      <td>notpresent</td>\n",
       "      <td>106.0</td>\n",
       "      <td>...</td>\n",
       "      <td>35</td>\n",
       "      <td>7300</td>\n",
       "      <td>4.6</td>\n",
       "      <td>no</td>\n",
       "      <td>no</td>\n",
       "      <td>no</td>\n",
       "      <td>good</td>\n",
       "      <td>no</td>\n",
       "      <td>no</td>\n",
       "      <td>yes</td>\n",
       "    </tr>\n",
       "  </tbody>\n",
       "</table>\n",
       "<p>5 rows × 25 columns</p>\n",
       "</div>"
      ],
      "text/plain": [
       "    age    bp     sg   al   su     rbc        pc         pcc          ba  \\\n",
       "0  48.0  80.0  1.020  1.0  0.0     NaN    normal  notpresent  notpresent   \n",
       "1   7.0  50.0  1.020  4.0  0.0     NaN    normal  notpresent  notpresent   \n",
       "2  62.0  80.0  1.010  2.0  3.0  normal    normal  notpresent  notpresent   \n",
       "3  48.0  70.0  1.005  4.0  0.0  normal  abnormal     present  notpresent   \n",
       "4  51.0  80.0  1.010  2.0  0.0  normal    normal  notpresent  notpresent   \n",
       "\n",
       "     bgr  ...  pcv    wc   rc  htn   dm cad appet   pe  ane classification  \n",
       "0  121.0  ...   44  7800  5.2  yes  yes  no  good   no   no            yes  \n",
       "1    NaN  ...   38  6000  NaN   no   no  no  good   no   no            yes  \n",
       "2  423.0  ...   31  7500  NaN   no  yes  no  poor   no  yes            yes  \n",
       "3  117.0  ...   32  6700  3.9  yes   no  no  poor  yes  yes            yes  \n",
       "4  106.0  ...   35  7300  4.6   no   no  no  good   no   no            yes  \n",
       "\n",
       "[5 rows x 25 columns]"
      ]
     },
     "execution_count": 8,
     "metadata": {},
     "output_type": "execute_result"
    }
   ],
   "source": [
    "data.drop('id',axis=1,inplace=True)\n",
    "data.head()"
   ]
  },
  {
   "cell_type": "code",
   "execution_count": 9,
   "metadata": {},
   "outputs": [],
   "source": [
    "feature_names=['Age (yrs)','Blood Pressure (mm/Hg)','Specific Gravity','Albumin','Sugar','Red Blood Cells',\n",
    "               'Pus Cells','Pus Cell Clumps','Bacteria','Blood Glucose Random (mgs/dL)','Blood Urea (mgs/dL)',\n",
    "               'Serum Creatinine (mgs/dL)','Sodium (mEq/L)','Potassium (mEq/L)','Hemoglobin (gms)','Packed Cell Volume',\n",
    "               'White Blood Cells (cells/cmm)','Red Blood Cells (millions/cmm)','Hypertension','Diabetes Mellitus',\n",
    "               'Coronary Artery Disease','Appetite','Pedal Edema','Anemia','Chronic Kidney Disease']\n",
    "data.columns=feature_names"
   ]
  },
  {
   "cell_type": "code",
   "execution_count": 10,
   "metadata": {
    "execution": {
     "iopub.execute_input": "2021-01-16T13:44:17.840523Z",
     "iopub.status.busy": "2021-01-16T13:44:17.839942Z",
     "iopub.status.idle": "2021-01-16T13:44:17.842989Z",
     "shell.execute_reply": "2021-01-16T13:44:17.842526Z"
    },
    "papermill": {
     "duration": 0.035033,
     "end_time": "2021-01-16T13:44:17.843085",
     "exception": false,
     "start_time": "2021-01-16T13:44:17.808052",
     "status": "completed"
    },
    "tags": []
   },
   "outputs": [],
   "source": [
    "mistyped=['Packed Cell Volume','White Blood Cells (cells/cmm)','Red Blood Cells (millions/cmm)']\n",
    "numeric=[]\n",
    "for i in data.columns:\n",
    "    if data[i].dtype=='float64':\n",
    "        numeric.append(i)\n",
    "numeric=numeric+mistyped"
   ]
  },
  {
   "cell_type": "code",
   "execution_count": 11,
   "metadata": {
    "execution": {
     "iopub.execute_input": "2021-01-16T13:44:18.19323Z",
     "iopub.status.busy": "2021-01-16T13:44:18.192622Z",
     "iopub.status.idle": "2021-01-16T13:44:18.203159Z",
     "shell.execute_reply": "2021-01-16T13:44:18.203638Z"
    },
    "papermill": {
     "duration": 0.04043,
     "end_time": "2021-01-16T13:44:18.203798",
     "exception": false,
     "start_time": "2021-01-16T13:44:18.163368",
     "status": "completed"
    },
    "tags": []
   },
   "outputs": [],
   "source": [
    "for col in mistyped:\n",
    "        data[col]=data[col].astype('float')"
   ]
  },
  {
   "cell_type": "code",
   "execution_count": 12,
   "metadata": {
    "execution": {
     "iopub.execute_input": "2021-01-16T13:44:18.260904Z",
     "iopub.status.busy": "2021-01-16T13:44:18.260342Z",
     "iopub.status.idle": "2021-01-16T13:44:18.269217Z",
     "shell.execute_reply": "2021-01-16T13:44:18.268598Z"
    },
    "papermill": {
     "duration": 0.038603,
     "end_time": "2021-01-16T13:44:18.269335",
     "exception": false,
     "start_time": "2021-01-16T13:44:18.230732",
     "status": "completed"
    },
    "tags": []
   },
   "outputs": [
    {
     "name": "stdout",
     "output_type": "stream",
     "text": [
      "[44. 38. 31. 32. 35. 39. 36. 33. 29. 28. nan 16. 24. 37. 30. 34. 40. 45.\n",
      " 27. 48. 52. 14. 22. 18. 42. 17. 46. 23. 19. 25. 41. 26. 15. 21. 43. 20.\n",
      " 47.  9. 49. 50. 53. 51. 54.]\n",
      "[ 7800.  6000.  7500.  6700.  7300.    nan  6900.  9600. 12100.  4500.\n",
      " 12200. 11000.  3800. 11400.  5300.  9200.  6200.  8300.  8400. 10300.\n",
      "  9800.  9100.  7900.  6400.  8600. 18900. 21600.  4300.  8500. 11300.\n",
      "  7200.  7700. 14600.  6300.  7100. 11800.  9400.  5500.  5800. 13200.\n",
      " 12500.  5600.  7000. 11900. 10400. 10700. 12700.  6800.  6500. 13600.\n",
      " 10200.  9000. 14900.  8200. 15200.  5000. 16300. 12400. 10500.  4200.\n",
      "  4700. 10900.  8100.  9500.  2200. 12800. 11200. 19100. 12300. 16700.\n",
      "  2600. 26400.  8800.  7400.  4900.  8000. 12000. 15700.  4100.  5700.\n",
      " 11500.  5400. 10800.  9900.  5200.  5900.  9300.  9700.  5100.  6600.]\n",
      "[5.2 nan 3.9 4.6 4.4 5.  4.  3.7 3.8 3.4 2.6 2.8 4.3 3.2 3.6 4.1 4.9 2.5\n",
      " 4.2 4.5 3.1 4.7 3.5 6.  2.1 5.6 2.3 2.9 2.7 8.  3.3 3.  2.4 4.8 5.4 6.1\n",
      " 6.2 6.3 5.1 5.8 5.5 5.3 6.4 5.7 5.9 6.5]\n"
     ]
    }
   ],
   "source": [
    "print(data['Packed Cell Volume'].unique())\n",
    "print(data['White Blood Cells (cells/cmm)'].unique())\n",
    "print(data['Red Blood Cells (millions/cmm)'].unique())"
   ]
  },
  {
   "cell_type": "code",
   "execution_count": 13,
   "metadata": {
    "execution": {
     "iopub.execute_input": "2021-01-16T13:44:18.330473Z",
     "iopub.status.busy": "2021-01-16T13:44:18.329176Z",
     "iopub.status.idle": "2021-01-16T13:44:18.342963Z",
     "shell.execute_reply": "2021-01-16T13:44:18.342404Z"
    },
    "papermill": {
     "duration": 0.045833,
     "end_time": "2021-01-16T13:44:18.343065",
     "exception": false,
     "start_time": "2021-01-16T13:44:18.297232",
     "status": "completed"
    },
    "tags": []
   },
   "outputs": [
    {
     "name": "stdout",
     "output_type": "stream",
     "text": [
      "<class 'pandas.core.frame.DataFrame'>\n",
      "RangeIndex: 400 entries, 0 to 399\n",
      "Data columns (total 25 columns):\n",
      " #   Column                          Non-Null Count  Dtype  \n",
      "---  ------                          --------------  -----  \n",
      " 0   Age (yrs)                       391 non-null    float64\n",
      " 1   Blood Pressure (mm/Hg)          388 non-null    float64\n",
      " 2   Specific Gravity                353 non-null    float64\n",
      " 3   Albumin                         354 non-null    float64\n",
      " 4   Sugar                           351 non-null    float64\n",
      " 5   Red Blood Cells                 248 non-null    object \n",
      " 6   Pus Cells                       335 non-null    object \n",
      " 7   Pus Cell Clumps                 396 non-null    object \n",
      " 8   Bacteria                        396 non-null    object \n",
      " 9   Blood Glucose Random (mgs/dL)   356 non-null    float64\n",
      " 10  Blood Urea (mgs/dL)             381 non-null    float64\n",
      " 11  Serum Creatinine (mgs/dL)       383 non-null    float64\n",
      " 12  Sodium (mEq/L)                  313 non-null    float64\n",
      " 13  Potassium (mEq/L)               312 non-null    float64\n",
      " 14  Hemoglobin (gms)                348 non-null    float64\n",
      " 15  Packed Cell Volume              329 non-null    float64\n",
      " 16  White Blood Cells (cells/cmm)   294 non-null    float64\n",
      " 17  Red Blood Cells (millions/cmm)  269 non-null    float64\n",
      " 18  Hypertension                    398 non-null    object \n",
      " 19  Diabetes Mellitus               398 non-null    object \n",
      " 20  Coronary Artery Disease         398 non-null    object \n",
      " 21  Appetite                        399 non-null    object \n",
      " 22  Pedal Edema                     399 non-null    object \n",
      " 23  Anemia                          399 non-null    object \n",
      " 24  Chronic Kidney Disease          400 non-null    object \n",
      "dtypes: float64(14), object(11)\n",
      "memory usage: 78.2+ KB\n"
     ]
    }
   ],
   "source": [
    "data.info()"
   ]
  },
  {
   "cell_type": "code",
   "execution_count": 14,
   "metadata": {},
   "outputs": [],
   "source": [
    "categoricals=[]\n",
    "for col in data.columns:\n",
    "    if not col in numeric:\n",
    "        categoricals.append(col)\n",
    "categoricals.remove('Chronic Kidney Disease')"
   ]
  },
  {
   "cell_type": "code",
   "execution_count": 15,
   "metadata": {},
   "outputs": [
    {
     "data": {
      "text/plain": [
       "['Red Blood Cells',\n",
       " 'Pus Cells',\n",
       " 'Pus Cell Clumps',\n",
       " 'Bacteria',\n",
       " 'Hypertension',\n",
       " 'Diabetes Mellitus',\n",
       " 'Coronary Artery Disease',\n",
       " 'Appetite',\n",
       " 'Pedal Edema',\n",
       " 'Anemia']"
      ]
     },
     "execution_count": 15,
     "metadata": {},
     "output_type": "execute_result"
    }
   ],
   "source": [
    "categoricals"
   ]
  },
  {
   "cell_type": "markdown",
   "metadata": {},
   "source": [
    "### Missing values."
   ]
  },
  {
   "cell_type": "code",
   "execution_count": 17,
   "metadata": {},
   "outputs": [
    {
     "data": {
      "image/png": "[encoded data removed]",
      "text/plain": [
       "<Figure size 1440x720 with 1 Axes>"
      ]
     },
     "metadata": {
      "needs_background": "light"
     },
     "output_type": "display_data"
    }
   ],
   "source": [
    "d=((data.isnull().sum()/data.shape[0])).sort_values(ascending=False)\n",
    "d.plot(kind='bar',\n",
    "       color=sns.cubehelix_palette(start=2,\n",
    "                                    rot=0.15,\n",
    "                                    dark=0.15,\n",
    "                                    light=0.95,\n",
    "                                    reverse=True,\n",
    "                                    n_colors=24),\n",
    "        figsize=(20,10))\n",
    "plt.title(\"Proportions of Missing Values\",fontsize=30)\n",
    "plt.show()"
   ]
  },
  {
   "cell_type": "markdown",
   "metadata": {},
   "source": [
    "### One-Hot Encoding"
   ]
  },
  {
   "cell_type": "code",
   "execution_count": 18,
   "metadata": {
    "execution": {
     "iopub.execute_input": "2021-01-16T13:44:18.57064Z",
     "iopub.status.busy": "2021-01-16T13:44:18.567799Z",
     "iopub.status.idle": "2021-01-16T13:44:18.593466Z",
     "shell.execute_reply": "2021-01-16T13:44:18.592908Z"
    },
    "papermill": {
     "duration": 0.070483,
     "end_time": "2021-01-16T13:44:18.593579",
     "exception": false,
     "start_time": "2021-01-16T13:44:18.523096",
     "status": "completed"
    },
    "tags": []
   },
   "outputs": [
    {
     "data": {
      "text/html": [
       "<div>\n",
       "<style scoped>\n",
       "    .dataframe tbody tr th:only-of-type {\n",
       "        vertical-align: middle;\n",
       "    }\n",
       "\n",
       "    .dataframe tbody tr th {\n",
       "        vertical-align: top;\n",
       "    }\n",
       "\n",
       "    .dataframe thead th {\n",
       "        text-align: right;\n",
       "    }\n",
       "</style>\n",
       "<table border=\"1\" class=\"dataframe\">\n",
       "  <thead>\n",
       "    <tr style=\"text-align: right;\">\n",
       "      <th></th>\n",
       "      <th>Age (yrs)</th>\n",
       "      <th>Blood Pressure (mm/Hg)</th>\n",
       "      <th>Specific Gravity</th>\n",
       "      <th>Albumin</th>\n",
       "      <th>Sugar</th>\n",
       "      <th>Blood Glucose Random (mgs/dL)</th>\n",
       "      <th>Blood Urea (mgs/dL)</th>\n",
       "      <th>Serum Creatinine (mgs/dL)</th>\n",
       "      <th>Sodium (mEq/L)</th>\n",
       "      <th>Potassium (mEq/L)</th>\n",
       "      <th>...</th>\n",
       "      <th>Pus Cells: normal</th>\n",
       "      <th>Pus Cell Clumps: present</th>\n",
       "      <th>Bacteria: present</th>\n",
       "      <th>Hypertension: yes</th>\n",
       "      <th>Diabetes Mellitus: yes</th>\n",
       "      <th>Coronary Artery Disease: yes</th>\n",
       "      <th>Appetite: poor</th>\n",
       "      <th>Pedal Edema: yes</th>\n",
       "      <th>Anemia: yes</th>\n",
       "      <th>Chronic Kidney Disease: yes</th>\n",
       "    </tr>\n",
       "  </thead>\n",
       "  <tbody>\n",
       "    <tr>\n",
       "      <th>0</th>\n",
       "      <td>48.0</td>\n",
       "      <td>80.0</td>\n",
       "      <td>1.020</td>\n",
       "      <td>1.0</td>\n",
       "      <td>0.0</td>\n",
       "      <td>121.0</td>\n",
       "      <td>36.0</td>\n",
       "      <td>1.2</td>\n",
       "      <td>NaN</td>\n",
       "      <td>NaN</td>\n",
       "      <td>...</td>\n",
       "      <td>1</td>\n",
       "      <td>0</td>\n",
       "      <td>0</td>\n",
       "      <td>1</td>\n",
       "      <td>1</td>\n",
       "      <td>0</td>\n",
       "      <td>0</td>\n",
       "      <td>0</td>\n",
       "      <td>0</td>\n",
       "      <td>1</td>\n",
       "    </tr>\n",
       "    <tr>\n",
       "      <th>1</th>\n",
       "      <td>7.0</td>\n",
       "      <td>50.0</td>\n",
       "      <td>1.020</td>\n",
       "      <td>4.0</td>\n",
       "      <td>0.0</td>\n",
       "      <td>NaN</td>\n",
       "      <td>18.0</td>\n",
       "      <td>0.8</td>\n",
       "      <td>NaN</td>\n",
       "      <td>NaN</td>\n",
       "      <td>...</td>\n",
       "      <td>1</td>\n",
       "      <td>0</td>\n",
       "      <td>0</td>\n",
       "      <td>0</td>\n",
       "      <td>0</td>\n",
       "      <td>0</td>\n",
       "      <td>0</td>\n",
       "      <td>0</td>\n",
       "      <td>0</td>\n",
       "      <td>1</td>\n",
       "    </tr>\n",
       "    <tr>\n",
       "      <th>2</th>\n",
       "      <td>62.0</td>\n",
       "      <td>80.0</td>\n",
       "      <td>1.010</td>\n",
       "      <td>2.0</td>\n",
       "      <td>3.0</td>\n",
       "      <td>423.0</td>\n",
       "      <td>53.0</td>\n",
       "      <td>1.8</td>\n",
       "      <td>NaN</td>\n",
       "      <td>NaN</td>\n",
       "      <td>...</td>\n",
       "      <td>1</td>\n",
       "      <td>0</td>\n",
       "      <td>0</td>\n",
       "      <td>0</td>\n",
       "      <td>1</td>\n",
       "      <td>0</td>\n",
       "      <td>1</td>\n",
       "      <td>0</td>\n",
       "      <td>1</td>\n",
       "      <td>1</td>\n",
       "    </tr>\n",
       "    <tr>\n",
       "      <th>3</th>\n",
       "      <td>48.0</td>\n",
       "      <td>70.0</td>\n",
       "      <td>1.005</td>\n",
       "      <td>4.0</td>\n",
       "      <td>0.0</td>\n",
       "      <td>117.0</td>\n",
       "      <td>56.0</td>\n",
       "      <td>3.8</td>\n",
       "      <td>111.0</td>\n",
       "      <td>2.5</td>\n",
       "      <td>...</td>\n",
       "      <td>0</td>\n",
       "      <td>1</td>\n",
       "      <td>0</td>\n",
       "      <td>1</td>\n",
       "      <td>0</td>\n",
       "      <td>0</td>\n",
       "      <td>1</td>\n",
       "      <td>1</td>\n",
       "      <td>1</td>\n",
       "      <td>1</td>\n",
       "    </tr>\n",
       "    <tr>\n",
       "      <th>4</th>\n",
       "      <td>51.0</td>\n",
       "      <td>80.0</td>\n",
       "      <td>1.010</td>\n",
       "      <td>2.0</td>\n",
       "      <td>0.0</td>\n",
       "      <td>106.0</td>\n",
       "      <td>26.0</td>\n",
       "      <td>1.4</td>\n",
       "      <td>NaN</td>\n",
       "      <td>NaN</td>\n",
       "      <td>...</td>\n",
       "      <td>1</td>\n",
       "      <td>0</td>\n",
       "      <td>0</td>\n",
       "      <td>0</td>\n",
       "      <td>0</td>\n",
       "      <td>0</td>\n",
       "      <td>0</td>\n",
       "      <td>0</td>\n",
       "      <td>0</td>\n",
       "      <td>1</td>\n",
       "    </tr>\n",
       "  </tbody>\n",
       "</table>\n",
       "<p>5 rows × 25 columns</p>\n",
       "</div>"
      ],
      "text/plain": [
       "   Age (yrs)  Blood Pressure (mm/Hg)  Specific Gravity  Albumin  Sugar  \\\n",
       "0       48.0                    80.0             1.020      1.0    0.0   \n",
       "1        7.0                    50.0             1.020      4.0    0.0   \n",
       "2       62.0                    80.0             1.010      2.0    3.0   \n",
       "3       48.0                    70.0             1.005      4.0    0.0   \n",
       "4       51.0                    80.0             1.010      2.0    0.0   \n",
       "\n",
       "   Blood Glucose Random (mgs/dL)  Blood Urea (mgs/dL)  \\\n",
       "0                          121.0                 36.0   \n",
       "1                            NaN                 18.0   \n",
       "2                          423.0                 53.0   \n",
       "3                          117.0                 56.0   \n",
       "4                          106.0                 26.0   \n",
       "\n",
       "   Serum Creatinine (mgs/dL)  Sodium (mEq/L)  Potassium (mEq/L)  ...  \\\n",
       "0                        1.2             NaN                NaN  ...   \n",
       "1                        0.8             NaN                NaN  ...   \n",
       "2                        1.8             NaN                NaN  ...   \n",
       "3                        3.8           111.0                2.5  ...   \n",
       "4                        1.4             NaN                NaN  ...   \n",
       "\n",
       "   Pus Cells: normal  Pus Cell Clumps: present  Bacteria: present  \\\n",
       "0                  1                         0                  0   \n",
       "1                  1                         0                  0   \n",
       "2                  1                         0                  0   \n",
       "3                  0                         1                  0   \n",
       "4                  1                         0                  0   \n",
       "\n",
       "   Hypertension: yes  Diabetes Mellitus: yes  Coronary Artery Disease: yes  \\\n",
       "0                  1                       1                             0   \n",
       "1                  0                       0                             0   \n",
       "2                  0                       1                             0   \n",
       "3                  1                       0                             0   \n",
       "4                  0                       0                             0   \n",
       "\n",
       "   Appetite: poor  Pedal Edema: yes  Anemia: yes  Chronic Kidney Disease: yes  \n",
       "0               0                 0            0                            1  \n",
       "1               0                 0            0                            1  \n",
       "2               1                 0            1                            1  \n",
       "3               1                 1            1                            1  \n",
       "4               0                 0            0                            1  \n",
       "\n",
       "[5 rows x 25 columns]"
      ]
     },
     "execution_count": 18,
     "metadata": {},
     "output_type": "execute_result"
    }
   ],
   "source": [
    "onehotdata=pd.get_dummies(data,drop_first=True,prefix_sep=': ')\n",
    "onehotdata.head()"
   ]
  },
  {
   "cell_type": "code",
   "execution_count": 19,
   "metadata": {},
   "outputs": [],
   "source": [
    "names={}\n",
    "for name in data.columns:\n",
    "    for ohname in onehotdata.columns:\n",
    "        if name+': ' in ohname and name in categoricals:\n",
    "            names[name]=ohname\n",
    "            for i in range(400):\n",
    "                if type(data.loc[i,name])!=str:\n",
    "                    if math.isnan(data.loc[i,name]):\n",
    "                        onehotdata.loc[i,ohname]=data.loc[i,name]"
   ]
  },
  {
   "cell_type": "code",
   "execution_count": 20,
   "metadata": {},
   "outputs": [],
   "source": [
    "test_oh_dt=pd.DataFrame(columns=data.columns)\n",
    "for col in test_oh_dt.columns:\n",
    "    if col in categoricals:\n",
    "        test_oh_dt[col]=onehotdata[names[col]]\n",
    "    elif col=='Chronic Kidney Disease':\n",
    "        test_oh_dt[col]=onehotdata['Chronic Kidney Disease: yes']\n",
    "    else:\n",
    "        test_oh_dt[col]=onehotdata[col]"
   ]
  },
  {
   "cell_type": "code",
   "execution_count": 21,
   "metadata": {},
   "outputs": [
    {
     "data": {
      "text/plain": [
       "Age (yrs)                         0\n",
       "Blood Pressure (mm/Hg)            0\n",
       "Specific Gravity                  0\n",
       "Albumin                           0\n",
       "Sugar                             0\n",
       "Red Blood Cells                   0\n",
       "Pus Cells                         0\n",
       "Pus Cell Clumps                   0\n",
       "Bacteria                          0\n",
       "Blood Glucose Random (mgs/dL)     0\n",
       "Blood Urea (mgs/dL)               0\n",
       "Serum Creatinine (mgs/dL)         0\n",
       "Sodium (mEq/L)                    0\n",
       "Potassium (mEq/L)                 0\n",
       "Hemoglobin (gms)                  0\n",
       "Packed Cell Volume                0\n",
       "White Blood Cells (cells/cmm)     0\n",
       "Red Blood Cells (millions/cmm)    0\n",
       "Hypertension                      0\n",
       "Diabetes Mellitus                 0\n",
       "Coronary Artery Disease           0\n",
       "Appetite                          0\n",
       "Pedal Edema                       0\n",
       "Anemia                            0\n",
       "Chronic Kidney Disease            0\n",
       "dtype: int64"
      ]
     },
     "execution_count": 21,
     "metadata": {},
     "output_type": "execute_result"
    }
   ],
   "source": [
    "((pd.isna(data)==pd.isna(test_oh_dt))==False).sum()"
   ]
  },
  {
   "cell_type": "code",
   "execution_count": 22,
   "metadata": {},
   "outputs": [],
   "source": [
    "onehotdata = onehotdata.dropna()"
   ]
  },
  {
   "cell_type": "markdown",
   "metadata": {},
   "source": [
    "# Clustering & Prediction"
   ]
  },
  {
   "cell_type": "markdown",
   "metadata": {},
   "source": [
    "## Prediction Using K-Means Clustering"
   ]
  },
  {
   "cell_type": "code",
   "execution_count": 23,
   "metadata": {},
   "outputs": [],
   "source": [
    "X=onehotdata.drop(\"Chronic Kidney Disease: yes\",axis=1,inplace=False)\n",
    "Y=onehotdata[\"Chronic Kidney Disease: yes\"]"
   ]
  },
  {
   "cell_type": "code",
   "execution_count": 24,
   "metadata": {},
   "outputs": [],
   "source": [
    "from sklearn.preprocessing import StandardScaler\n",
    "SS=StandardScaler()\n",
    "full_scaled_data=SS.fit_transform(onehotdata)\n",
    "scaled_data=SS.fit_transform(X)"
   ]
  },
  {
   "cell_type": "code",
   "execution_count": 30,
   "metadata": {},
   "outputs": [],
   "source": [
    "from sklearn.cluster import KMeans\n",
    "\n",
    "kmeans=KMeans(n_clusters=3)"
   ]
  },
  {
   "cell_type": "code",
   "execution_count": 31,
   "metadata": {},
   "outputs": [
    {
     "name": "stdout",
     "output_type": "stream",
     "text": [
      "CPU times: user 26.2 ms, sys: 2.54 ms, total: 28.8 ms\n",
      "Wall time: 26.6 ms\n"
     ]
    },
    {
     "data": {
      "text/plain": [
       "KMeans(n_clusters=3)"
      ]
     },
     "execution_count": 31,
     "metadata": {},
     "output_type": "execute_result"
    }
   ],
   "source": [
    "%%time \n",
    "kmeans.fit(scaled_data)"
   ]
  },
  {
   "cell_type": "code",
   "execution_count": 32,
   "metadata": {},
   "outputs": [
    {
     "data": {
      "text/plain": [
       "array([[-0.15445122, -0.16911787,  0.44876369, -0.47738467, -0.30195563,\n",
       "        -0.3444883 , -0.39088907, -0.40536639,  0.35967669, -0.09187447,\n",
       "         0.46935585,  0.46813602, -0.19709218,  0.42880966,  0.30611133,\n",
       "         0.43108347, -0.28248028, -0.28669109, -0.4830789 , -0.44227194,\n",
       "        -0.2735506 , -0.36971698, -0.38069349, -0.33567254],\n",
       "       [ 0.28311864,  0.85088089, -1.21099636,  1.60533398,  0.26815332,\n",
       "         0.41453793,  2.02100866,  2.05534435, -1.68943784,  0.68198116,\n",
       "        -1.88535474, -1.90282977,  0.4341898 , -1.68806717, -0.75229095,\n",
       "        -1.65322933,  1.13717038,  0.15739903,  1.48031053,  0.76829252,\n",
       "         0.41983435,  1.43880572,  1.03459055,  2.58912131],\n",
       "       [ 0.65338713,  0.27757948, -1.58403357,  1.42835634,  1.50838427,\n",
       "         1.63292623,  0.5975972 ,  0.65252918, -0.68765519, -0.02708304,\n",
       "        -1.15579387, -1.13467697,  0.77475407, -1.08381033, -1.14021015,\n",
       "        -1.12500564,  0.69360656,  1.51081654,  1.56210423,  1.90531716,\n",
       "         1.2232804 ,  0.94792099,  1.33786571, -0.17782653]])"
      ]
     },
     "execution_count": 32,
     "metadata": {},
     "output_type": "execute_result"
    }
   ],
   "source": [
    "kmeans.cluster_centers_"
   ]
  },
  {
   "cell_type": "markdown",
   "metadata": {},
   "source": [
    "#### Evaluation Metrics"
   ]
  },
  {
   "cell_type": "code",
   "execution_count": 33,
   "metadata": {},
   "outputs": [],
   "source": [
    "from sklearn.metrics import classification_report,confusion_matrix,r2_score"
   ]
  },
  {
   "cell_type": "code",
   "execution_count": 34,
   "metadata": {},
   "outputs": [
    {
     "name": "stdout",
     "output_type": "stream",
     "text": [
      "[[115   0   0]\n",
      " [  5  17  21]\n",
      " [  0   0   0]]\n",
      "              precision    recall  f1-score   support\n",
      "\n",
      "           0       0.96      1.00      0.98       115\n",
      "           1       1.00      0.40      0.57        43\n",
      "           2       0.00      0.00      0.00         0\n",
      "\n",
      "    accuracy                           0.84       158\n",
      "   macro avg       0.65      0.47      0.52       158\n",
      "weighted avg       0.97      0.84      0.87       158\n",
      "\n"
     ]
    }
   ],
   "source": [
    "print(confusion_matrix(onehotdata['Chronic Kidney Disease: yes'],kmeans.labels_)) \n",
    "print(classification_report(onehotdata['Chronic Kidney Disease: yes'],kmeans.labels_))"
   ]
  },
  {
   "cell_type": "markdown",
   "metadata": {},
   "source": [
    "### Advantages\n",
    "- Relatively simple to implement.\n",
    "- Scales to large data sets.\n",
    "- Guarantees convergence.\n",
    "- Can warm-start the positions of centroids\n",
    "- Easily adapts to new examples.\n",
    "- Generalizes to clusters of different shapes and sizes, such as elliptical clusters.\n",
    "\n",
    "\n",
    "### Disadvantages\n",
    "- Choosing k manually.\n",
    "- Being dependent on initial values. Clustering data of varying sizes and density.\n",
    "- Clustering outliers.\n",
    "- Scaling with number of dimensions."
   ]
  },
  {
   "cell_type": "markdown",
   "metadata": {},
   "source": [
    "## Prediction Using  K-Median Clustering"
   ]
  },
  {
   "cell_type": "code",
   "execution_count": 35,
   "metadata": {},
   "outputs": [],
   "source": [
    "from sklearn.metrics import classification_report,confusion_matrix,r2_score"
   ]
  },
  {
   "cell_type": "code",
   "execution_count": 36,
   "metadata": {},
   "outputs": [],
   "source": [
    "from sklearn_extra.cluster import KMedoids"
   ]
  },
  {
   "cell_type": "code",
   "execution_count": 37,
   "metadata": {},
   "outputs": [],
   "source": [
    "kmedoids = KMedoids(n_clusters=4)"
   ]
  },
  {
   "cell_type": "code",
   "execution_count": 38,
   "metadata": {},
   "outputs": [
    {
     "name": "stdout",
     "output_type": "stream",
     "text": [
      "CPU times: user 23.9 ms, sys: 2.82 ms, total: 26.7 ms\n",
      "Wall time: 9.23 ms\n"
     ]
    },
    {
     "data": {
      "text/plain": [
       "KMedoids(n_clusters=4)"
      ]
     },
     "execution_count": 38,
     "metadata": {},
     "output_type": "execute_result"
    }
   ],
   "source": [
    "%%time\n",
    "kmedoids.fit(onehotdata.drop('Chronic Kidney Disease: yes',axis=1))"
   ]
  },
  {
   "cell_type": "code",
   "execution_count": 39,
   "metadata": {},
   "outputs": [
    {
     "data": {
      "text/plain": [
       "array([[4.900e+01, 8.000e+01, 1.020e+00, 0.000e+00, 0.000e+00, 1.220e+02,\n",
       "        3.200e+01, 1.200e+00, 1.390e+02, 3.900e+00, 1.700e+01, 4.100e+01,\n",
       "        5.600e+03, 4.900e+00, 1.000e+00, 1.000e+00, 0.000e+00, 0.000e+00,\n",
       "        0.000e+00, 0.000e+00, 0.000e+00, 0.000e+00, 0.000e+00, 0.000e+00],\n",
       "       [5.000e+01, 9.000e+01, 1.010e+00, 2.000e+00, 0.000e+00, 1.280e+02,\n",
       "        2.080e+02, 9.200e+00, 1.340e+02, 4.800e+00, 8.200e+00, 2.200e+01,\n",
       "        1.630e+04, 2.700e+00, 1.000e+00, 0.000e+00, 1.000e+00, 1.000e+00,\n",
       "        0.000e+00, 0.000e+00, 0.000e+00, 1.000e+00, 1.000e+00, 1.000e+00],\n",
       "       [4.100e+01, 8.000e+01, 1.025e+00, 0.000e+00, 0.000e+00, 1.120e+02,\n",
       "        4.800e+01, 7.000e-01, 1.400e+02, 5.000e+00, 1.700e+01, 5.200e+01,\n",
       "        7.200e+03, 5.800e+00, 1.000e+00, 1.000e+00, 0.000e+00, 0.000e+00,\n",
       "        0.000e+00, 0.000e+00, 0.000e+00, 0.000e+00, 0.000e+00, 0.000e+00],\n",
       "       [7.100e+01, 7.000e+01, 1.020e+00, 0.000e+00, 0.000e+00, 8.100e+01,\n",
       "        1.800e+01, 8.000e-01, 1.450e+02, 5.000e+00, 1.470e+01, 4.400e+01,\n",
       "        9.800e+03, 6.000e+00, 1.000e+00, 1.000e+00, 0.000e+00, 0.000e+00,\n",
       "        0.000e+00, 0.000e+00, 0.000e+00, 0.000e+00, 0.000e+00, 0.000e+00]])"
      ]
     },
     "execution_count": 39,
     "metadata": {},
     "output_type": "execute_result"
    }
   ],
   "source": [
    "kmedoids.cluster_centers_"
   ]
  },
  {
   "cell_type": "markdown",
   "metadata": {},
   "source": [
    "#### Evaluation Metrics"
   ]
  },
  {
   "cell_type": "code",
   "execution_count": 40,
   "metadata": {},
   "outputs": [
    {
     "name": "stdout",
     "output_type": "stream",
     "text": [
      "[[30  0 46 39]\n",
      " [ 8 10  9 16]\n",
      " [ 0  0  0  0]\n",
      " [ 0  0  0  0]]\n",
      "              precision    recall  f1-score   support\n",
      "\n",
      "           0       0.79      0.26      0.39       115\n",
      "           1       1.00      0.23      0.38        43\n",
      "           2       0.00      0.00      0.00         0\n",
      "           3       0.00      0.00      0.00         0\n",
      "\n",
      "    accuracy                           0.25       158\n",
      "   macro avg       0.45      0.12      0.19       158\n",
      "weighted avg       0.85      0.25      0.39       158\n",
      "\n"
     ]
    }
   ],
   "source": [
    "print(confusion_matrix(onehotdata['Chronic Kidney Disease: yes'],kmedoids.labels_)) \n",
    "print(classification_report(onehotdata['Chronic Kidney Disease: yes'],kmedoids.labels_))"
   ]
  },
  {
   "cell_type": "markdown",
   "metadata": {},
   "source": [
    "#### Advantages-\n",
    "\n",
    "- It is simple to understand and easy to implement.\n",
    "- K-Medoid Algorithm is fast and converges in a fixed number of steps. \n",
    "- PAM is less sensitive to outliers than other partitioning algorithms.\n",
    "\n",
    "\n",
    "#### Disadvantages-\n",
    "- The main disadvantage of K-Medoid algorithms is that it is not suitable for clustering non- spherical (arbitrary shaped) groups of objects. This is because it relies on minimizing the distances between the non-medoid objects and the medoid (the cluster centre) – briefly, it uses compactness as clustering criteria instead of connectivity.\n",
    "- It may obtain different results for different runs on the same dataset because the first k medoids are chosen randomly."
   ]
  },
  {
   "cell_type": "markdown",
   "metadata": {},
   "source": [
    "## Prediction Using K-Modes Clustering"
   ]
  },
  {
   "cell_type": "code",
   "execution_count": 41,
   "metadata": {},
   "outputs": [],
   "source": [
    "from kmodes.kmodes import KModes\n",
    "from sklearn.metrics import classification_report,confusion_matrix,r2_score"
   ]
  },
  {
   "cell_type": "code",
   "execution_count": 42,
   "metadata": {},
   "outputs": [
    {
     "data": {
      "text/plain": [
       "KModes(n_clusters=4)"
      ]
     },
     "execution_count": 42,
     "metadata": {},
     "output_type": "execute_result"
    }
   ],
   "source": [
    "k_modes = KModes(n_clusters=4)\n",
    "k_modes.fit(scaled_data)"
   ]
  },
  {
   "cell_type": "code",
   "execution_count": 43,
   "metadata": {},
   "outputs": [
    {
     "data": {
      "text/plain": [
       "array([[-1.07115104,  0.53405643,  0.93524509, -0.56612206, -0.31223331,\n",
       "        -0.48416245, -0.13918779, -0.32224658, -0.51543862,  0.10483588,\n",
       "         0.4568837 , -0.1011118 , -0.40421196, -0.38555186,  0.35856858,\n",
       "         0.47413732, -0.31180478, -0.28669109, -0.52363494, -0.46409548,\n",
       "        -0.2735506 , -0.36971698, -0.38069349, -0.33567254],\n",
       "       [-0.23043868, -1.2612822 ,  0.02309247, -0.56612206, -0.31223331,\n",
       "        -0.34513196, -0.5413454 , -0.55041861,  1.49375468, -0.32802308,\n",
       "        -0.03040017,  0.22941919,  0.81288363, -0.09031506,  0.35856858,\n",
       "         0.47413732, -0.31180478, -0.28669109, -0.52363494, -0.46409548,\n",
       "        -0.2735506 , -0.36971698, -0.38069349, -0.33567254],\n",
       "       [-0.10109832, -0.36361289, -1.80121276,  2.2734743 , -0.31223331,\n",
       "        -0.20610146,  1.53294122,  1.01418961, -0.3814924 ,  0.07597862,\n",
       "        -1.94472966, -1.75376677, -1.10884624, -1.46808681,  0.35856858,\n",
       "        -2.10909361, -0.31180478, -0.28669109,  1.90972742,  2.15472902,\n",
       "        -0.2735506 , -0.36971698,  2.62678511, -0.33567254],\n",
       "       [ 0.67494385,  1.43172574, -1.80121276,  0.85367612, -0.31223331,\n",
       "        -0.94759743,  1.1519498 ,  0.16669349, -1.0512235 ,  0.04712135,\n",
       "        -2.08395362, -2.19447476, -1.2689904 , -0.77920093, -2.78886676,\n",
       "        -2.10909361, -0.31180478, -0.28669109,  1.90972742,  2.15472902,\n",
       "        -0.2735506 ,  2.70477161, -0.38069349, -0.33567254]])"
      ]
     },
     "execution_count": 43,
     "metadata": {},
     "output_type": "execute_result"
    }
   ],
   "source": [
    "k_modes.cluster_centroids_"
   ]
  },
  {
   "cell_type": "markdown",
   "metadata": {},
   "source": [
    "#### Evaluation Metrics"
   ]
  },
  {
   "cell_type": "code",
   "execution_count": 44,
   "metadata": {},
   "outputs": [],
   "source": [
    "from sklearn.metrics import classification_report,confusion_matrix,r2_score"
   ]
  },
  {
   "cell_type": "code",
   "execution_count": 45,
   "metadata": {},
   "outputs": [
    {
     "name": "stdout",
     "output_type": "stream",
     "text": [
      "[[79 36  0  0]\n",
      " [ 3  5 22 13]\n",
      " [ 0  0  0  0]\n",
      " [ 0  0  0  0]]\n",
      "              precision    recall  f1-score   support\n",
      "\n",
      "           0       0.96      0.69      0.80       115\n",
      "           1       0.12      0.12      0.12        43\n",
      "           2       0.00      0.00      0.00         0\n",
      "           3       0.00      0.00      0.00         0\n",
      "\n",
      "    accuracy                           0.53       158\n",
      "   macro avg       0.27      0.20      0.23       158\n",
      "weighted avg       0.73      0.53      0.62       158\n",
      "\n"
     ]
    }
   ],
   "source": [
    "print(confusion_matrix(onehotdata['Chronic Kidney Disease: yes'],k_modes.labels_)) \n",
    "print(classification_report(onehotdata['Chronic Kidney Disease: yes'],k_modes.labels_))"
   ]
  },
  {
   "cell_type": "markdown",
   "metadata": {},
   "source": [
    "#### Advantages\n",
    "\n",
    "- K-Modes extensively used When the dataset contains categorical data exclusively\n",
    "\n",
    "#### Disadvantages\n",
    "\n",
    "- K-Modes fail when Data types are mixed\n",
    "- The feature on which the disagreement matters. Because K-Modes simply counts the number of dissimilarities, it doesn’t matter to the algorithm on which “features” points are different. If a given category is particularly prevalent, this may become an issue as the algorithm will not take it into account when clustering."
   ]
  }
 ],
 "metadata": {
  "kernelspec": {
   "display_name": "Python 3",
   "language": "python",
   "name": "python3"
  },
  "language_info": {
   "codemirror_mode": {
    "name": "ipython",
    "version": 3
   },
   "file_extension": ".py",
   "mimetype": "text/x-python",
   "name": "python",
   "nbconvert_exporter": "python",
   "pygments_lexer": "ipython3",
   "version": "3.8.3"
  }
 },
 "nbformat": 4,
 "nbformat_minor": 4
}
