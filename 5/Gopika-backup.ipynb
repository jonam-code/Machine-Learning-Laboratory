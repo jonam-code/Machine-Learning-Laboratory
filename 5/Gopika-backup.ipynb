{
 "cells": [
  {
   "cell_type": "markdown",
   "metadata": {},
   "source": [
    "###### Importing basic libraries"
   ]
  },
  {
   "cell_type": "code",
   "execution_count": 1,
   "metadata": {},
   "outputs": [],
   "source": [
    "import pandas as pd\n",
    "import numpy as np\n",
    "import time\n",
    "import seaborn as sns\n",
    "import matplotlib.pyplot as plt\n",
    "import matplotlib as mpl"
   ]
  },
  {
   "cell_type": "markdown",
   "metadata": {},
   "source": [
    "###### Reading the dataset"
   ]
  },
  {
   "cell_type": "code",
   "execution_count": 2,
   "metadata": {},
   "outputs": [
    {
     "name": "stdout",
     "output_type": "stream",
     "text": [
      "(614, 13)\n"
     ]
    }
   ],
   "source": [
    "ckd_df = pd.read_csv('Loan_Status.csv')\n",
    "\n",
    "#Check the shape\n",
    "print(ckd_df.shape)"
   ]
  },
  {
   "cell_type": "code",
   "execution_count": 3,
   "metadata": {},
   "outputs": [
    {
     "data": {
      "text/plain": [
       "Index(['Loan_ID', 'Gender', 'Married', 'Dependents', 'Education',\n",
       "       'Self_Employed', 'ApplicantIncome', 'CoapplicantIncome', 'LoanAmount',\n",
       "       'Loan_Amount_Term', 'Credit_History', 'Property_Area', 'Loan_Status'],\n",
       "      dtype='object')"
      ]
     },
     "execution_count": 3,
     "metadata": {},
     "output_type": "execute_result"
    }
   ],
   "source": [
    "#check the columns\n",
    "ckd_df.columns"
   ]
  },
  {
   "cell_type": "code",
   "execution_count": null,
   "metadata": {},
   "outputs": [],
   "source": []
  },
  {
   "cell_type": "code",
   "execution_count": null,
   "metadata": {},
   "outputs": [],
   "source": []
  },
  {
   "cell_type": "code",
   "execution_count": null,
   "metadata": {},
   "outputs": [],
   "source": []
  },
  {
   "cell_type": "code",
   "execution_count": null,
   "metadata": {},
   "outputs": [],
   "source": []
  },
  {
   "cell_type": "code",
   "execution_count": null,
   "metadata": {},
   "outputs": [],
   "source": []
  },
  {
   "cell_type": "markdown",
   "metadata": {},
   "source": [
    "###### Rename the columns to have meaningful names"
   ]
  },
  {
   "cell_type": "markdown",
   "metadata": {},
   "source": [
    "###### Observing the data"
   ]
  },
  {
   "cell_type": "code",
   "execution_count": 4,
   "metadata": {},
   "outputs": [
    {
     "data": {
      "text/html": [
       "<div>\n",
       "<style scoped>\n",
       "    .dataframe tbody tr th:only-of-type {\n",
       "        vertical-align: middle;\n",
       "    }\n",
       "\n",
       "    .dataframe tbody tr th {\n",
       "        vertical-align: top;\n",
       "    }\n",
       "\n",
       "    .dataframe thead th {\n",
       "        text-align: right;\n",
       "    }\n",
       "</style>\n",
       "<table border=\"1\" class=\"dataframe\">\n",
       "  <thead>\n",
       "    <tr style=\"text-align: right;\">\n",
       "      <th></th>\n",
       "      <th>0</th>\n",
       "      <th>1</th>\n",
       "      <th>2</th>\n",
       "      <th>3</th>\n",
       "      <th>4</th>\n",
       "      <th>5</th>\n",
       "      <th>6</th>\n",
       "      <th>7</th>\n",
       "      <th>8</th>\n",
       "      <th>9</th>\n",
       "      <th>10</th>\n",
       "    </tr>\n",
       "  </thead>\n",
       "  <tbody>\n",
       "    <tr>\n",
       "      <th>Loan_ID</th>\n",
       "      <td>LP001002</td>\n",
       "      <td>LP001003</td>\n",
       "      <td>LP001005</td>\n",
       "      <td>LP001006</td>\n",
       "      <td>LP001008</td>\n",
       "      <td>LP001011</td>\n",
       "      <td>LP001013</td>\n",
       "      <td>LP001014</td>\n",
       "      <td>LP001018</td>\n",
       "      <td>LP001020</td>\n",
       "      <td>LP001024</td>\n",
       "    </tr>\n",
       "    <tr>\n",
       "      <th>Gender</th>\n",
       "      <td>Male</td>\n",
       "      <td>Male</td>\n",
       "      <td>Male</td>\n",
       "      <td>Male</td>\n",
       "      <td>Male</td>\n",
       "      <td>Male</td>\n",
       "      <td>Male</td>\n",
       "      <td>Male</td>\n",
       "      <td>Male</td>\n",
       "      <td>Male</td>\n",
       "      <td>Male</td>\n",
       "    </tr>\n",
       "    <tr>\n",
       "      <th>Married</th>\n",
       "      <td>No</td>\n",
       "      <td>Yes</td>\n",
       "      <td>Yes</td>\n",
       "      <td>Yes</td>\n",
       "      <td>No</td>\n",
       "      <td>Yes</td>\n",
       "      <td>Yes</td>\n",
       "      <td>Yes</td>\n",
       "      <td>Yes</td>\n",
       "      <td>Yes</td>\n",
       "      <td>Yes</td>\n",
       "    </tr>\n",
       "    <tr>\n",
       "      <th>Dependents</th>\n",
       "      <td>0</td>\n",
       "      <td>1</td>\n",
       "      <td>0</td>\n",
       "      <td>0</td>\n",
       "      <td>0</td>\n",
       "      <td>2</td>\n",
       "      <td>0</td>\n",
       "      <td>3+</td>\n",
       "      <td>2</td>\n",
       "      <td>1</td>\n",
       "      <td>2</td>\n",
       "    </tr>\n",
       "    <tr>\n",
       "      <th>Education</th>\n",
       "      <td>Graduate</td>\n",
       "      <td>Graduate</td>\n",
       "      <td>Graduate</td>\n",
       "      <td>Not Graduate</td>\n",
       "      <td>Graduate</td>\n",
       "      <td>Graduate</td>\n",
       "      <td>Not Graduate</td>\n",
       "      <td>Graduate</td>\n",
       "      <td>Graduate</td>\n",
       "      <td>Graduate</td>\n",
       "      <td>Graduate</td>\n",
       "    </tr>\n",
       "    <tr>\n",
       "      <th>Self_Employed</th>\n",
       "      <td>No</td>\n",
       "      <td>No</td>\n",
       "      <td>Yes</td>\n",
       "      <td>No</td>\n",
       "      <td>No</td>\n",
       "      <td>Yes</td>\n",
       "      <td>No</td>\n",
       "      <td>No</td>\n",
       "      <td>No</td>\n",
       "      <td>No</td>\n",
       "      <td>No</td>\n",
       "    </tr>\n",
       "    <tr>\n",
       "      <th>ApplicantIncome</th>\n",
       "      <td>5849</td>\n",
       "      <td>4583</td>\n",
       "      <td>3000</td>\n",
       "      <td>2583</td>\n",
       "      <td>6000</td>\n",
       "      <td>5417</td>\n",
       "      <td>2333</td>\n",
       "      <td>3036</td>\n",
       "      <td>4006</td>\n",
       "      <td>12841</td>\n",
       "      <td>3200</td>\n",
       "    </tr>\n",
       "    <tr>\n",
       "      <th>CoapplicantIncome</th>\n",
       "      <td>0</td>\n",
       "      <td>1508</td>\n",
       "      <td>0</td>\n",
       "      <td>2358</td>\n",
       "      <td>0</td>\n",
       "      <td>4196</td>\n",
       "      <td>1516</td>\n",
       "      <td>2504</td>\n",
       "      <td>1526</td>\n",
       "      <td>10968</td>\n",
       "      <td>700</td>\n",
       "    </tr>\n",
       "    <tr>\n",
       "      <th>LoanAmount</th>\n",
       "      <td>NaN</td>\n",
       "      <td>128</td>\n",
       "      <td>66</td>\n",
       "      <td>120</td>\n",
       "      <td>141</td>\n",
       "      <td>267</td>\n",
       "      <td>95</td>\n",
       "      <td>158</td>\n",
       "      <td>168</td>\n",
       "      <td>349</td>\n",
       "      <td>70</td>\n",
       "    </tr>\n",
       "    <tr>\n",
       "      <th>Loan_Amount_Term</th>\n",
       "      <td>360</td>\n",
       "      <td>360</td>\n",
       "      <td>360</td>\n",
       "      <td>360</td>\n",
       "      <td>360</td>\n",
       "      <td>360</td>\n",
       "      <td>360</td>\n",
       "      <td>360</td>\n",
       "      <td>360</td>\n",
       "      <td>360</td>\n",
       "      <td>360</td>\n",
       "    </tr>\n",
       "    <tr>\n",
       "      <th>Credit_History</th>\n",
       "      <td>1</td>\n",
       "      <td>1</td>\n",
       "      <td>1</td>\n",
       "      <td>1</td>\n",
       "      <td>1</td>\n",
       "      <td>1</td>\n",
       "      <td>1</td>\n",
       "      <td>0</td>\n",
       "      <td>1</td>\n",
       "      <td>1</td>\n",
       "      <td>1</td>\n",
       "    </tr>\n",
       "    <tr>\n",
       "      <th>Property_Area</th>\n",
       "      <td>Urban</td>\n",
       "      <td>Rural</td>\n",
       "      <td>Urban</td>\n",
       "      <td>Urban</td>\n",
       "      <td>Urban</td>\n",
       "      <td>Urban</td>\n",
       "      <td>Urban</td>\n",
       "      <td>Semiurban</td>\n",
       "      <td>Urban</td>\n",
       "      <td>Semiurban</td>\n",
       "      <td>Urban</td>\n",
       "    </tr>\n",
       "    <tr>\n",
       "      <th>Loan_Status</th>\n",
       "      <td>Y</td>\n",
       "      <td>N</td>\n",
       "      <td>Y</td>\n",
       "      <td>Y</td>\n",
       "      <td>Y</td>\n",
       "      <td>Y</td>\n",
       "      <td>Y</td>\n",
       "      <td>N</td>\n",
       "      <td>Y</td>\n",
       "      <td>N</td>\n",
       "      <td>Y</td>\n",
       "    </tr>\n",
       "  </tbody>\n",
       "</table>\n",
       "</div>"
      ],
      "text/plain": [
       "                          0         1         2             3         4  \\\n",
       "Loan_ID            LP001002  LP001003  LP001005      LP001006  LP001008   \n",
       "Gender                 Male      Male      Male          Male      Male   \n",
       "Married                  No       Yes       Yes           Yes        No   \n",
       "Dependents                0         1         0             0         0   \n",
       "Education          Graduate  Graduate  Graduate  Not Graduate  Graduate   \n",
       "Self_Employed            No        No       Yes            No        No   \n",
       "ApplicantIncome        5849      4583      3000          2583      6000   \n",
       "CoapplicantIncome         0      1508         0          2358         0   \n",
       "LoanAmount              NaN       128        66           120       141   \n",
       "Loan_Amount_Term        360       360       360           360       360   \n",
       "Credit_History            1         1         1             1         1   \n",
       "Property_Area         Urban     Rural     Urban         Urban     Urban   \n",
       "Loan_Status               Y         N         Y             Y         Y   \n",
       "\n",
       "                          5             6          7         8          9  \\\n",
       "Loan_ID            LP001011      LP001013   LP001014  LP001018   LP001020   \n",
       "Gender                 Male          Male       Male      Male       Male   \n",
       "Married                 Yes           Yes        Yes       Yes        Yes   \n",
       "Dependents                2             0         3+         2          1   \n",
       "Education          Graduate  Not Graduate   Graduate  Graduate   Graduate   \n",
       "Self_Employed           Yes            No         No        No         No   \n",
       "ApplicantIncome        5417          2333       3036      4006      12841   \n",
       "CoapplicantIncome      4196          1516       2504      1526      10968   \n",
       "LoanAmount              267            95        158       168        349   \n",
       "Loan_Amount_Term        360           360        360       360        360   \n",
       "Credit_History            1             1          0         1          1   \n",
       "Property_Area         Urban         Urban  Semiurban     Urban  Semiurban   \n",
       "Loan_Status               Y             Y          N         Y          N   \n",
       "\n",
       "                         10  \n",
       "Loan_ID            LP001024  \n",
       "Gender                 Male  \n",
       "Married                 Yes  \n",
       "Dependents                2  \n",
       "Education          Graduate  \n",
       "Self_Employed            No  \n",
       "ApplicantIncome        3200  \n",
       "CoapplicantIncome       700  \n",
       "LoanAmount               70  \n",
       "Loan_Amount_Term        360  \n",
       "Credit_History            1  \n",
       "Property_Area         Urban  \n",
       "Loan_Status               Y  "
      ]
     },
     "execution_count": 4,
     "metadata": {},
     "output_type": "execute_result"
    }
   ],
   "source": [
    "ckd_df.head(11).T"
   ]
  },
  {
   "cell_type": "code",
   "execution_count": null,
   "metadata": {},
   "outputs": [],
   "source": [
    "# warnings"
   ]
  },
  {
   "cell_type": "code",
   "execution_count": 5,
   "metadata": {},
   "outputs": [],
   "source": [
    "import warnings\n",
    "warnings.simplefilter('ignore')\n",
    "\n",
    "import matplotlib.style as style\n",
    "style.use('fivethirtyeight')"
   ]
  },
  {
   "cell_type": "code",
   "execution_count": 8,
   "metadata": {},
   "outputs": [
    {
     "data": {
      "text/plain": [
       "0      1\n",
       "1      0\n",
       "2      1\n",
       "3      1\n",
       "4      1\n",
       "      ..\n",
       "609    1\n",
       "610    1\n",
       "611    1\n",
       "612    1\n",
       "613    0\n",
       "Name: Loan_Status, Length: 614, dtype: int64"
      ]
     },
     "execution_count": 8,
     "metadata": {},
     "output_type": "execute_result"
    }
   ],
   "source": [
    "for i in range(ckd_df.shape[0]):\n",
    "    if ckd_df.iloc[i,12]=='Y':\n",
    "        ckd_df.iloc[i,12]='1'\n",
    "    if ckd_df.iloc[i,12]=='N':\n",
    "        ckd_df.iloc[i,12]='0'\n",
    "        \n",
    "ckd_df['Loan_Status'].astype(int)"
   ]
  },
  {
   "cell_type": "markdown",
   "metadata": {},
   "source": [
    "##### One-Hot Encoding"
   ]
  },
  {
   "cell_type": "code",
   "execution_count": 9,
   "metadata": {},
   "outputs": [
    {
     "data": {
      "text/html": [
       "<div>\n",
       "<style scoped>\n",
       "    .dataframe tbody tr th:only-of-type {\n",
       "        vertical-align: middle;\n",
       "    }\n",
       "\n",
       "    .dataframe tbody tr th {\n",
       "        vertical-align: top;\n",
       "    }\n",
       "\n",
       "    .dataframe thead th {\n",
       "        text-align: right;\n",
       "    }\n",
       "</style>\n",
       "<table border=\"1\" class=\"dataframe\">\n",
       "  <thead>\n",
       "    <tr style=\"text-align: right;\">\n",
       "      <th></th>\n",
       "      <th>0</th>\n",
       "      <th>1</th>\n",
       "      <th>2</th>\n",
       "      <th>3</th>\n",
       "      <th>4</th>\n",
       "      <th>5</th>\n",
       "      <th>6</th>\n",
       "      <th>7</th>\n",
       "      <th>8</th>\n",
       "      <th>9</th>\n",
       "      <th>10</th>\n",
       "      <th>11</th>\n",
       "      <th>12</th>\n",
       "    </tr>\n",
       "  </thead>\n",
       "  <tbody>\n",
       "    <tr>\n",
       "      <th>ApplicantIncome</th>\n",
       "      <td>5849.0</td>\n",
       "      <td>4583.0</td>\n",
       "      <td>3000.0</td>\n",
       "      <td>2583.0</td>\n",
       "      <td>6000.0</td>\n",
       "      <td>5417.0</td>\n",
       "      <td>2333.0</td>\n",
       "      <td>3036.0</td>\n",
       "      <td>4006.0</td>\n",
       "      <td>12841.0</td>\n",
       "      <td>3200.0</td>\n",
       "      <td>2500.0</td>\n",
       "      <td>3073.0</td>\n",
       "    </tr>\n",
       "    <tr>\n",
       "      <th>CoapplicantIncome</th>\n",
       "      <td>0.0</td>\n",
       "      <td>1508.0</td>\n",
       "      <td>0.0</td>\n",
       "      <td>2358.0</td>\n",
       "      <td>0.0</td>\n",
       "      <td>4196.0</td>\n",
       "      <td>1516.0</td>\n",
       "      <td>2504.0</td>\n",
       "      <td>1526.0</td>\n",
       "      <td>10968.0</td>\n",
       "      <td>700.0</td>\n",
       "      <td>1840.0</td>\n",
       "      <td>8106.0</td>\n",
       "    </tr>\n",
       "    <tr>\n",
       "      <th>LoanAmount</th>\n",
       "      <td>NaN</td>\n",
       "      <td>128.0</td>\n",
       "      <td>66.0</td>\n",
       "      <td>120.0</td>\n",
       "      <td>141.0</td>\n",
       "      <td>267.0</td>\n",
       "      <td>95.0</td>\n",
       "      <td>158.0</td>\n",
       "      <td>168.0</td>\n",
       "      <td>349.0</td>\n",
       "      <td>70.0</td>\n",
       "      <td>109.0</td>\n",
       "      <td>200.0</td>\n",
       "    </tr>\n",
       "    <tr>\n",
       "      <th>Loan_Amount_Term</th>\n",
       "      <td>360.0</td>\n",
       "      <td>360.0</td>\n",
       "      <td>360.0</td>\n",
       "      <td>360.0</td>\n",
       "      <td>360.0</td>\n",
       "      <td>360.0</td>\n",
       "      <td>360.0</td>\n",
       "      <td>360.0</td>\n",
       "      <td>360.0</td>\n",
       "      <td>360.0</td>\n",
       "      <td>360.0</td>\n",
       "      <td>360.0</td>\n",
       "      <td>360.0</td>\n",
       "    </tr>\n",
       "    <tr>\n",
       "      <th>Credit_History</th>\n",
       "      <td>1.0</td>\n",
       "      <td>1.0</td>\n",
       "      <td>1.0</td>\n",
       "      <td>1.0</td>\n",
       "      <td>1.0</td>\n",
       "      <td>1.0</td>\n",
       "      <td>1.0</td>\n",
       "      <td>0.0</td>\n",
       "      <td>1.0</td>\n",
       "      <td>1.0</td>\n",
       "      <td>1.0</td>\n",
       "      <td>1.0</td>\n",
       "      <td>1.0</td>\n",
       "    </tr>\n",
       "    <tr>\n",
       "      <th>...</th>\n",
       "      <td>...</td>\n",
       "      <td>...</td>\n",
       "      <td>...</td>\n",
       "      <td>...</td>\n",
       "      <td>...</td>\n",
       "      <td>...</td>\n",
       "      <td>...</td>\n",
       "      <td>...</td>\n",
       "      <td>...</td>\n",
       "      <td>...</td>\n",
       "      <td>...</td>\n",
       "      <td>...</td>\n",
       "      <td>...</td>\n",
       "    </tr>\n",
       "    <tr>\n",
       "      <th>Education: Not Graduate</th>\n",
       "      <td>0.0</td>\n",
       "      <td>0.0</td>\n",
       "      <td>0.0</td>\n",
       "      <td>1.0</td>\n",
       "      <td>0.0</td>\n",
       "      <td>0.0</td>\n",
       "      <td>1.0</td>\n",
       "      <td>0.0</td>\n",
       "      <td>0.0</td>\n",
       "      <td>0.0</td>\n",
       "      <td>0.0</td>\n",
       "      <td>0.0</td>\n",
       "      <td>0.0</td>\n",
       "    </tr>\n",
       "    <tr>\n",
       "      <th>Self_Employed: Yes</th>\n",
       "      <td>0.0</td>\n",
       "      <td>0.0</td>\n",
       "      <td>1.0</td>\n",
       "      <td>0.0</td>\n",
       "      <td>0.0</td>\n",
       "      <td>1.0</td>\n",
       "      <td>0.0</td>\n",
       "      <td>0.0</td>\n",
       "      <td>0.0</td>\n",
       "      <td>0.0</td>\n",
       "      <td>0.0</td>\n",
       "      <td>0.0</td>\n",
       "      <td>0.0</td>\n",
       "    </tr>\n",
       "    <tr>\n",
       "      <th>Property_Area: Semiurban</th>\n",
       "      <td>0.0</td>\n",
       "      <td>0.0</td>\n",
       "      <td>0.0</td>\n",
       "      <td>0.0</td>\n",
       "      <td>0.0</td>\n",
       "      <td>0.0</td>\n",
       "      <td>0.0</td>\n",
       "      <td>1.0</td>\n",
       "      <td>0.0</td>\n",
       "      <td>1.0</td>\n",
       "      <td>0.0</td>\n",
       "      <td>0.0</td>\n",
       "      <td>0.0</td>\n",
       "    </tr>\n",
       "    <tr>\n",
       "      <th>Property_Area: Urban</th>\n",
       "      <td>1.0</td>\n",
       "      <td>0.0</td>\n",
       "      <td>1.0</td>\n",
       "      <td>1.0</td>\n",
       "      <td>1.0</td>\n",
       "      <td>1.0</td>\n",
       "      <td>1.0</td>\n",
       "      <td>0.0</td>\n",
       "      <td>1.0</td>\n",
       "      <td>0.0</td>\n",
       "      <td>1.0</td>\n",
       "      <td>1.0</td>\n",
       "      <td>1.0</td>\n",
       "    </tr>\n",
       "    <tr>\n",
       "      <th>Loan_Status: 1</th>\n",
       "      <td>1.0</td>\n",
       "      <td>0.0</td>\n",
       "      <td>1.0</td>\n",
       "      <td>1.0</td>\n",
       "      <td>1.0</td>\n",
       "      <td>1.0</td>\n",
       "      <td>1.0</td>\n",
       "      <td>0.0</td>\n",
       "      <td>1.0</td>\n",
       "      <td>0.0</td>\n",
       "      <td>1.0</td>\n",
       "      <td>1.0</td>\n",
       "      <td>1.0</td>\n",
       "    </tr>\n",
       "  </tbody>\n",
       "</table>\n",
       "<p>628 rows × 13 columns</p>\n",
       "</div>"
      ],
      "text/plain": [
       "                               0       1       2       3       4       5  \\\n",
       "ApplicantIncome           5849.0  4583.0  3000.0  2583.0  6000.0  5417.0   \n",
       "CoapplicantIncome            0.0  1508.0     0.0  2358.0     0.0  4196.0   \n",
       "LoanAmount                   NaN   128.0    66.0   120.0   141.0   267.0   \n",
       "Loan_Amount_Term           360.0   360.0   360.0   360.0   360.0   360.0   \n",
       "Credit_History               1.0     1.0     1.0     1.0     1.0     1.0   \n",
       "...                          ...     ...     ...     ...     ...     ...   \n",
       "Education: Not Graduate      0.0     0.0     0.0     1.0     0.0     0.0   \n",
       "Self_Employed: Yes           0.0     0.0     1.0     0.0     0.0     1.0   \n",
       "Property_Area: Semiurban     0.0     0.0     0.0     0.0     0.0     0.0   \n",
       "Property_Area: Urban         1.0     0.0     1.0     1.0     1.0     1.0   \n",
       "Loan_Status: 1               1.0     0.0     1.0     1.0     1.0     1.0   \n",
       "\n",
       "                               6       7       8        9      10      11  \\\n",
       "ApplicantIncome           2333.0  3036.0  4006.0  12841.0  3200.0  2500.0   \n",
       "CoapplicantIncome         1516.0  2504.0  1526.0  10968.0   700.0  1840.0   \n",
       "LoanAmount                  95.0   158.0   168.0    349.0    70.0   109.0   \n",
       "Loan_Amount_Term           360.0   360.0   360.0    360.0   360.0   360.0   \n",
       "Credit_History               1.0     0.0     1.0      1.0     1.0     1.0   \n",
       "...                          ...     ...     ...      ...     ...     ...   \n",
       "Education: Not Graduate      1.0     0.0     0.0      0.0     0.0     0.0   \n",
       "Self_Employed: Yes           0.0     0.0     0.0      0.0     0.0     0.0   \n",
       "Property_Area: Semiurban     0.0     1.0     0.0      1.0     0.0     0.0   \n",
       "Property_Area: Urban         1.0     0.0     1.0      0.0     1.0     1.0   \n",
       "Loan_Status: 1               1.0     0.0     1.0      0.0     1.0     1.0   \n",
       "\n",
       "                              12  \n",
       "ApplicantIncome           3073.0  \n",
       "CoapplicantIncome         8106.0  \n",
       "LoanAmount                 200.0  \n",
       "Loan_Amount_Term           360.0  \n",
       "Credit_History               1.0  \n",
       "...                          ...  \n",
       "Education: Not Graduate      0.0  \n",
       "Self_Employed: Yes           0.0  \n",
       "Property_Area: Semiurban     0.0  \n",
       "Property_Area: Urban         1.0  \n",
       "Loan_Status: 1               1.0  \n",
       "\n",
       "[628 rows x 13 columns]"
      ]
     },
     "execution_count": 9,
     "metadata": {},
     "output_type": "execute_result"
    }
   ],
   "source": [
    "onehotdata=pd.get_dummies(ckd_df,drop_first=True,prefix_sep=': ')\n",
    "onehotdata.head(13).T"
   ]
  },
  {
   "cell_type": "code",
   "execution_count": 10,
   "metadata": {},
   "outputs": [],
   "source": [
    "#onehotdata['Loan_Status'].astype(int)"
   ]
  },
  {
   "cell_type": "code",
   "execution_count": 11,
   "metadata": {},
   "outputs": [
    {
     "name": "stdout",
     "output_type": "stream",
     "text": [
      "['Loan_ID: LP001013', 'Loan_ID: LP001052', 'Loan_ID: LP002792', 'Loan_ID: LP002659', 'Loan_ID: LP001914', 'Loan_ID: LP001120', 'Loan_ID: LP001087', 'Loan_ID: LP002723', 'Loan_ID: LP002862', 'Loan_ID: LP001248', 'Loan_ID: LP002106', 'Loan_ID: LP002345', 'Loan_ID: LP001536', 'Loan_ID: LP001749', 'Loan_ID: LP002234', 'Loan_ID: LP001225', 'Loan_ID: LP001888', 'Loan_ID: LP002308', 'Loan_ID: LP002978', 'Loan_ID: LP001998', 'Loan_ID: LP002911', 'Loan_ID: LP002600', 'Loan_ID: LP001385', 'Loan_ID: LP001349', 'Loan_ID: LP001907', 'Loan_ID: LP002767', 'Loan_ID: LP002950', 'Loan_ID: LP001222', 'Loan_ID: LP002377', 'Loan_ID: LP002226', 'Loan_ID: LP002130', 'Loan_ID: LP001868', 'Loan_ID: LP001050', 'Loan_ID: LP002832', 'Loan_ID: LP002305', 'Loan_ID: LP002813', 'Loan_ID: LP002139', 'Loan_ID: LP001116', 'Loan_ID: LP002422', 'Loan_ID: LP001520', 'Loan_ID: LP002798', 'Loan_ID: LP002043', 'Loan_ID: LP001151', 'Loan_ID: LP001698', 'Loan_ID: LP002585', 'Loan_ID: LP001953', 'Loan_ID: LP002556', 'Loan_ID: LP001532', 'Loan_ID: LP002888', 'Loan_ID: LP002367', 'Loan_ID: LP001451', 'Loan_ID: LP002390', 'Loan_ID: LP001877', 'Loan_ID: LP002714', 'Loan_ID: LP002960', 'Loan_ID: LP001708', 'Loan_ID: LP002453', 'Loan_ID: LP002379', 'Loan_ID: LP002777', 'Loan_ID: LP001924', 'Loan_ID: LP001585', 'Loan_ID: LP001643', 'Loan_ID: LP002501', 'Loan_ID: LP002536', 'Loan_ID: LP002689', 'Loan_ID: LP002443', 'Loan_ID: LP002301', 'Loan_ID: LP002444', 'Loan_ID: LP002408', 'Loan_ID: LP002300', 'Loan_ID: LP002522', 'Loan_ID: LP002265', 'Loan_ID: LP002979', 'Loan_ID: LP002872', 'Loan_ID: LP001443', 'Loan_ID: LP001492', 'Loan_ID: LP002555', 'Loan_ID: LP002837', 'Loan_ID: LP002201', 'Loan_ID: LP001945', 'Loan_ID: LP002361', 'Loan_ID: LP002533', 'Loan_ID: LP002087', 'Loan_ID: LP001205', 'Loan_ID: LP002953', 'Loan_ID: LP001213', 'Loan_ID: LP002964', 'Loan_ID: LP002141', 'Loan_ID: LP002755', 'Loan_ID: LP001594', 'Loan_ID: LP002409', 'Loan_ID: LP002821', 'Loan_ID: LP001715', 'Loan_ID: LP001439', 'Loan_ID: LP002571', 'Loan_ID: LP002138', 'Loan_ID: LP001807', 'Loan_ID: LP002288', 'Loan_ID: LP001963', 'Loan_ID: LP001875', 'Loan_ID: LP002116', 'Loan_ID: LP001138', 'Loan_ID: LP002055', 'Loan_ID: LP001673', 'Loan_ID: LP001653', 'Loan_ID: LP001482', 'Loan_ID: LP002319', 'Loan_ID: LP002670', 'Loan_ID: LP001904', 'Loan_ID: LP001282', 'Loan_ID: LP002097', 'Loan_ID: LP001990', 'Loan_ID: LP001207', 'Loan_ID: LP001100', 'Loan_ID: LP001357', 'Loan_ID: LP002720', 'Loan_ID: LP001404', 'Loan_ID: LP001692', 'Loan_ID: LP001528', 'Loan_ID: LP001682', 'Loan_ID: LP001871', 'Loan_ID: LP002243', 'Loan_ID: LP002517', 'Loan_ID: LP001908', 'Loan_ID: LP002191', 'Loan_ID: LP001020', 'Loan_ID: LP002067', 'Loan_ID: LP001726', 'Loan_ID: LP002434', 'Loan_ID: LP001514', 'Loan_ID: LP002716', 'Loan_ID: LP002699', 'Loan_ID: LP001577', 'Loan_ID: LP002940', 'Loan_ID: LP002098', 'Loan_ID: LP001279', 'Loan_ID: LP002161', 'Loan_ID: LP001964', 'Loan_ID: LP002619', 'Loan_ID: LP002877', 'Loan_ID: LP002625', 'Loan_ID: LP002144', 'Loan_ID: LP001657', 'Loan_ID: LP002690', 'Loan_ID: LP002637', 'Loan_ID: LP001091', 'Loan_ID: LP002065', 'Loan_ID: LP002342', 'Loan_ID: LP001112', 'Loan_Amount_Term', 'Loan_ID: LP001228', 'Loan_ID: LP002874', 'Loan_ID: LP002500', 'Loan_ID: LP002836', 'Loan_ID: LP001066', 'Loan_ID: LP002731', 'Loan_ID: LP001562', 'Loan_ID: LP001343', 'Loan_ID: LP002318', 'Loan_ID: LP001519', 'Loan_ID: LP001955', 'Loan_ID: LP002541', 'Loan_ID: LP002236', 'Loan_ID: LP001256', 'Loan_ID: LP001977', 'Loan_ID: LP002229', 'Loan_ID: LP002586', 'Loan_ID: LP002820', 'Loan_ID: LP001379', 'Loan_ID: LP001384', 'Loan_ID: LP002448', 'Loan_ID: LP001776', 'Loan_ID: LP001630', 'Loan_ID: LP001199', 'Loan_ID: LP002740', 'Loan_ID: LP002847', 'Loan_ID: LP002683', 'Loan_ID: LP002602', 'Loan_ID: LP001754', 'Loan_ID: LP001896', 'Loan_ID: LP002401', 'Loan_ID: LP002237', 'Loan_Status: 1', 'Loan_ID: LP002863', 'Loan_ID: LP001972', 'Loan_ID: LP001844', 'Loan_ID: LP002472', 'Loan_ID: LP002743', 'Dependents: 3+', 'Loan_ID: LP001931', 'Loan_ID: LP001318', 'Loan_ID: LP001639', 'Loan_ID: LP001529', 'Loan_ID: LP002224', 'Loan_ID: LP002855', 'Loan_ID: LP001011', 'Loan_ID: LP001699', 'Loan_ID: LP002281', 'Loan_ID: LP002588', 'Loan_ID: LP002337', 'Loan_ID: LP001578', 'Loan_ID: LP001674', 'Loan_ID: LP001947', 'Loan_ID: LP001473', 'Loan_ID: LP002347', 'Loan_ID: LP002386', 'Loan_ID: LP002459', 'Loan_ID: LP002983', 'Loan_ID: LP001253', 'Loan_ID: LP001430', 'Loan_ID: LP001798', 'Loan_ID: LP001736', 'Loan_ID: LP001038', 'Loan_ID: LP001465', 'Loan_ID: LP001263', 'Loan_ID: LP002369', 'Loan_ID: LP002119', 'Loan_ID: LP002231', 'Loan_ID: LP002151', 'Loan_ID: LP002362', 'Loan_ID: LP001647', 'Loan_ID: LP002753', 'Self_Employed: Yes', 'Loan_ID: LP002959', 'Loan_ID: LP002332', 'Loan_ID: LP001157', 'Dependents: 2', 'Loan_ID: LP001027', 'Loan_ID: LP001155', 'Loan_ID: LP002945', 'Loan_ID: LP001197', 'Loan_ID: LP002250', 'Loan_ID: LP002697', 'Loan_ID: LP002648', 'Loan_ID: LP002643', 'Loan_ID: LP001024', 'Loan_ID: LP002407', 'Loan_ID: LP002524', 'Loan_ID: LP002938', 'Loan_ID: LP002705', 'Loan_ID: LP002101', 'Loan_ID: LP002634', 'Loan_ID: LP002926', 'Loan_ID: LP002297', 'Loan_ID: LP002284', 'Loan_ID: LP002732', 'Loan_ID: LP001784', 'Loan_ID: LP001761', 'Gender: Male', 'Loan_ID: LP001586', 'Loan_ID: LP001892', 'Loan_ID: LP001935', 'Loan_ID: LP002277', 'Loan_ID: LP002126', 'Loan_ID: LP002958', 'Loan_ID: LP002262', 'Loan_ID: LP001186', 'Loan_ID: LP001636', 'Loan_ID: LP002031', 'Loan_ID: LP002140', 'Loan_ID: LP002181', 'Loan_ID: LP001996', 'Loan_ID: LP002194', 'Loan_ID: LP002519', 'Loan_ID: LP001508', 'Loan_ID: LP001758', 'Loan_ID: LP001770', 'Loan_ID: LP002515', 'Loan_ID: LP001119', 'Loan_ID: LP001422', 'Loan_ID: LP001497', 'Loan_ID: LP002892', 'Loan_ID: LP001014', 'Loan_ID: LP002225', 'Credit_History', 'Loan_ID: LP002142', 'Loan_ID: LP002393', 'Loan_ID: LP002467', 'Loan_ID: LP002527', 'Loan_ID: LP002543', 'Loan_ID: LP002114', 'Loan_ID: LP001644', 'Loan_ID: LP001786', 'Loan_ID: LP001891', 'Loan_ID: LP002738', 'Loan_ID: LP002494', 'Loan_ID: LP001432', 'Loan_ID: LP001267', 'Loan_ID: LP002008', 'Loan_ID: LP002804', 'Loan_ID: LP001637', 'Loan_ID: LP001814', 'Loan_ID: LP002197', 'Loan_ID: LP001241', 'Loan_ID: LP001516', 'Loan_ID: LP001123', 'Loan_ID: LP001882', 'Loan_ID: LP001711', 'Loan_ID: LP001005', 'Loan_ID: LP001387', 'Loan_ID: LP001018', 'Loan_ID: LP001993', 'Loan_ID: LP002050', 'Loan_ID: LP002435', 'Loan_ID: LP002941', 'Married: Yes', 'Loan_ID: LP001489', 'Loan_ID: LP002244', 'Loan_ID: LP001883', 'Loan_ID: LP002024', 'Loan_ID: LP001043', 'Loan_ID: LP002624', 'Loan_ID: LP001041', 'Loan_ID: LP002840', 'Loan_ID: LP001616', 'Loan_ID: LP002364', 'Loan_ID: LP002424', 'Loan_ID: LP002912', 'Loan_ID: LP001903', 'Loan_ID: LP002640', 'Loan_ID: LP001095', 'Loan_ID: LP001722', 'Loan_ID: LP002949', 'Loan_ID: LP002357', 'Loan_ID: LP001693', 'Loan_ID: LP002335', 'Loan_ID: LP001327', 'Loan_ID: LP001925', 'Loan_ID: LP002175', 'Loan_ID: LP002489', 'Loan_ID: LP001610', 'Loan_ID: LP001824', 'Loan_ID: LP002002', 'Loan_ID: LP002137', 'Loan_ID: LP002768', 'Loan_ID: LP002615', 'Loan_ID: LP002936', 'Loan_ID: LP001238', 'Loan_ID: LP002562', 'Loan_ID: LP001565', 'Loan_ID: LP002842', 'Loan_ID: LP001978', 'Loan_ID: LP002158', 'Loan_ID: LP001245', 'Loan_ID: LP001716', 'Loan_ID: LP002692', 'Loan_ID: LP001106', 'Loan_ID: LP002990', 'Loan_ID: LP001915', 'Loan_ID: LP002180', 'Loan_ID: LP001640', 'Loan_ID: LP002931', 'Loan_ID: LP002341', 'Loan_ID: LP002035', 'Loan_ID: LP001469', 'Loan_ID: LP002113', 'Loan_ID: LP001131', 'Loan_ID: LP002263', 'Loan_ID: LP002706', 'Loan_ID: LP001029', 'Loan_ID: LP002190', 'Loan_ID: LP001664', 'Loan_ID: LP001849', 'Loan_ID: LP001841', 'Loan_ID: LP002917', 'CoapplicantIncome', 'Loan_ID: LP002537', 'Loan_ID: LP002178', 'Loan_ID: LP001835', 'Loan_ID: LP001938', 'Loan_ID: LP002149', 'Loan_ID: LP001008', 'Loan_ID: LP001732', 'Loan_ID: LP002455', 'Loan_ID: LP001806', 'Loan_ID: LP001493', 'Loan_ID: LP001334', 'Loan_ID: LP001370', 'LoanAmount', 'Loan_ID: LP001114', 'Loan_ID: LP001954', 'Loan_ID: LP002789', 'Loan_ID: LP001926', 'Loan_ID: LP002741', 'Loan_ID: LP001790', 'Loan_ID: LP001109', 'Loan_ID: LP002898', 'Loan_ID: LP002534', 'Loan_ID: LP002928', 'Loan_ID: LP001917', 'Loan_ID: LP002626', 'Loan_ID: LP001580', 'Loan_ID: LP001194', 'Loan_ID: LP001734', 'Loan_ID: LP001843', 'Loan_ID: LP002729', 'Loan_ID: LP001656', 'Loan_ID: LP002587', 'Loan_ID: LP001750', 'Loan_ID: LP001669', 'Loan_ID: LP002314', 'Loan_ID: LP002239', 'Loan_ID: LP001179', 'Loan_ID: LP002110', 'Loan_ID: LP002086', 'Loan_ID: LP001884', 'Loan_ID: LP001641', 'Loan_ID: LP001195', 'Loan_ID: LP001702', 'Loan_ID: LP002933', 'Loan_ID: LP002219', 'Loan_ID: LP001326', 'Loan_ID: LP002398', 'Loan_ID: LP001491', 'Loan_ID: LP001535', 'Loan_ID: LP002051', 'Loan_ID: LP002211', 'Loan_ID: LP001760', 'Loan_ID: LP001369', 'Loan_ID: LP001870', 'Loan_ID: LP002054', 'Loan_ID: LP001316', 'Loan_ID: LP002315', 'Loan_ID: LP002348', 'Loan_ID: LP002131', 'Loan_ID: LP001146', 'Loan_ID: LP002006', 'Loan_ID: LP001922', 'Loan_ID: LP002366', 'Loan_ID: LP002925', 'Loan_ID: LP001478', 'Loan_ID: LP001864', 'Loan_ID: LP001068', 'Loan_ID: LP001751', 'Loan_ID: LP002757', 'Loan_ID: LP001570', 'Loan_ID: LP001006', 'Loan_ID: LP001273', 'Loan_ID: LP001581', 'Loan_ID: LP001608', 'Loan_ID: LP001634', 'Loan_ID: LP002547', 'Loan_ID: LP002684', 'Loan_ID: LP002004', 'Loan_ID: LP002739', 'Loan_ID: LP002082', 'Loan_ID: LP002833', 'Loan_ID: LP001280', 'Loan_ID: LP001713', 'Loan_ID: LP001086', 'Loan_ID: LP002188', 'Loan_ID: LP002916', 'Loan_ID: LP001325', 'Loan_ID: LP002784', 'Loan_ID: LP001504', 'Loan_ID: LP002974', 'Loan_ID: LP002693', 'Loan_ID: LP001572', 'Loan_ID: LP002255', 'Loan_ID: LP001691', 'Loan_ID: LP002893', 'Loan_ID: LP001488', 'Loan_ID: LP001243', 'Loan_ID: LP001765', 'Loan_ID: LP001392', 'Loan_ID: LP001900', 'Loan_ID: LP001097', 'Loan_ID: LP001836', 'Loan_ID: LP001819', 'Loan_ID: LP001391', 'Loan_ID: LP001206', 'Loan_ID: LP001606', 'Loan_ID: LP002493', 'Loan_ID: LP002478', 'Loan_ID: LP001034', 'Loan_ID: LP002053', 'Loan_ID: LP002387', 'Loan_ID: LP001949', 'Loan_ID: LP001894', 'Loan_ID: LP002068', 'Loan_ID: LP002143', 'Loan_ID: LP002112', 'Loan_ID: LP001098', 'Loan_ID: LP001560', 'Property_Area: Semiurban', 'Loan_ID: LP001940', 'Loan_ID: LP002223', 'Loan_ID: LP001164', 'Loan_ID: LP002529', 'Loan_ID: LP001401', 'Loan_ID: LP001073', 'Loan_ID: LP002100', 'Loan_ID: LP002618', 'Loan_ID: LP001136', 'Loan_ID: LP002544', 'Loan_ID: LP001543', 'Loan_ID: LP002170', 'Loan_ID: LP001448', 'Loan_ID: LP001800', 'Loan_ID: LP001333', 'Loan_ID: LP001994', 'Loan_ID: LP002272', 'Loan_ID: LP002717', 'Loan_ID: LP001846', 'Loan_ID: LP001579', 'Loan_ID: LP001266', 'Loan_ID: LP002894', 'Loan_ID: LP002734', 'Loan_ID: LP001028', 'Loan_ID: LP001658', 'Loan_ID: LP002682', 'Loan_ID: LP001487', 'Loan_ID: LP002328', 'Loan_ID: LP002948', 'Loan_ID: LP001671', 'Education: Not Graduate', 'ApplicantIncome', 'Loan_ID: LP001677', 'Loan_ID: LP001426', 'Loan_ID: LP001546', 'Loan_ID: LP002505', 'Loan_ID: LP001036', 'Loan_ID: LP001743', 'Loan_ID: LP001792', 'Loan_ID: LP002473', 'Loan_ID: LP002807', 'Loan_ID: LP001872', 'Loan_ID: LP002530', 'Loan_ID: LP001859', 'Loan_ID: LP001688', 'Loan_ID: LP002449', 'Loan_ID: LP002778', 'Loan_ID: LP001003', 'Loan_ID: LP001265', 'Loan_ID: LP001744', 'Loan_ID: LP002502', 'Loan_ID: LP002772', 'Loan_ID: LP002785', 'Loan_ID: LP001289', 'Loan_ID: LP001666', 'Loan_ID: LP002287', 'Loan_ID: LP001322', 'Loan_ID: LP002984', 'Loan_ID: LP001825', 'Loan_ID: LP002961', 'Loan_ID: LP002484', 'Loan_ID: LP002795', 'Loan_ID: LP001398', 'Loan_ID: LP001936', 'Loan_ID: LP002606', 'Loan_ID: LP001319', 'Loan_ID: LP002187', 'Loan_ID: LP001250', 'Loan_ID: LP001421', 'Loan_ID: LP002370', 'Loan_ID: LP002103', 'Loan_ID: LP002160', 'Loan_ID: LP001720', 'Loan_ID: LP001910', 'Loan_ID: LP001255', 'Loan_ID: LP001665', 'Loan_ID: LP001345', 'Loan_ID: LP002209', 'Loan_ID: LP002368', 'Loan_ID: LP001507', 'Loan_ID: LP002788', 'Loan_ID: LP001865', 'Loan_ID: LP001264', 'Loan_ID: LP002036', 'Loan_ID: LP002205', 'Loan_ID: LP001768', 'Loan_ID: LP001518', 'Dependents: 1', 'Loan_ID: LP001405', 'Loan_ID: LP002841', 'Loan_ID: LP002429', 'Loan_ID: LP001046', 'Loan_ID: LP001854', 'Loan_ID: LP002266', 'Loan_ID: LP002296', 'Loan_ID: LP001144', 'Loan_ID: LP002487', 'Loan_ID: LP002776', 'Loan_ID: LP001449', 'Loan_ID: LP001030', 'Property_Area: Urban', 'Loan_ID: LP002447', 'Loan_ID: LP002868', 'Loan_ID: LP002446', 'Loan_ID: LP002794', 'Loan_ID: LP002317', 'Loan_ID: LP001574', 'Loan_ID: LP001552', 'Loan_ID: LP002128', 'Loan_ID: LP002603', 'Loan_ID: LP001778', 'Loan_ID: LP001813', 'Loan_ID: LP001356', 'Loan_ID: LP001633', 'Loan_ID: LP002115', 'Loan_ID: LP001603', 'Loan_ID: LP002129', 'Loan_ID: LP001350', 'Loan_ID: LP001259', 'Loan_ID: LP001431', 'Loan_ID: LP002652', 'Loan_ID: LP002418', 'Loan_ID: LP002943', 'Loan_ID: LP001137', 'Loan_ID: LP001047', 'Loan_ID: LP001811', 'Loan_ID: LP002560', 'Loan_ID: LP001198', 'Loan_ID: LP001498', 'Loan_ID: LP002622', 'Loan_ID: LP001788', 'Loan_ID: LP001233', 'Loan_ID: LP001531', 'Loan_ID: LP001974', 'Loan_ID: LP001541', 'Loan_ID: LP002531', 'Loan_ID: LP001367', 'Loan_ID: LP002582', 'Loan_ID: LP001310', 'Loan_ID: LP001275', 'Loan_ID: LP002545', 'Loan_ID: LP002403', 'Loan_ID: LP001032']\n"
     ]
    }
   ],
   "source": [
    "# define imputer\n",
    "from sklearn.impute import KNNImputer\n",
    "\n",
    "imputer = KNNImputer(n_neighbors=5, weights='uniform', metric='nan_euclidean')\n",
    "\n",
    "impute_columns=list(set(onehotdata.columns)-set([\"Loan_Status\"]))  # Update last column name\n",
    "print(impute_columns)"
   ]
  },
  {
   "cell_type": "code",
   "execution_count": 12,
   "metadata": {},
   "outputs": [
    {
     "data": {
      "text/plain": [
       "KNNImputer()"
      ]
     },
     "execution_count": 12,
     "metadata": {},
     "output_type": "execute_result"
    }
   ],
   "source": [
    "imputer.fit(onehotdata[impute_columns])     "
   ]
  },
  {
   "cell_type": "code",
   "execution_count": 13,
   "metadata": {},
   "outputs": [],
   "source": [
    "X_trans=pd.DataFrame(imputer.transform(onehotdata[impute_columns]), columns=impute_columns)"
   ]
  },
  {
   "cell_type": "code",
   "execution_count": 14,
   "metadata": {},
   "outputs": [
    {
     "data": {
      "text/html": [
       "<div>\n",
       "<style scoped>\n",
       "    .dataframe tbody tr th:only-of-type {\n",
       "        vertical-align: middle;\n",
       "    }\n",
       "\n",
       "    .dataframe tbody tr th {\n",
       "        vertical-align: top;\n",
       "    }\n",
       "\n",
       "    .dataframe thead th {\n",
       "        text-align: right;\n",
       "    }\n",
       "</style>\n",
       "<table border=\"1\" class=\"dataframe\">\n",
       "  <thead>\n",
       "    <tr style=\"text-align: right;\">\n",
       "      <th></th>\n",
       "      <th>0</th>\n",
       "      <th>1</th>\n",
       "      <th>2</th>\n",
       "      <th>3</th>\n",
       "      <th>4</th>\n",
       "      <th>5</th>\n",
       "      <th>6</th>\n",
       "      <th>7</th>\n",
       "      <th>8</th>\n",
       "      <th>9</th>\n",
       "      <th>10</th>\n",
       "      <th>11</th>\n",
       "      <th>12</th>\n",
       "    </tr>\n",
       "  </thead>\n",
       "  <tbody>\n",
       "    <tr>\n",
       "      <th>Loan_ID: LP001013</th>\n",
       "      <td>0.0</td>\n",
       "      <td>0.0</td>\n",
       "      <td>0.0</td>\n",
       "      <td>0.0</td>\n",
       "      <td>0.0</td>\n",
       "      <td>0.0</td>\n",
       "      <td>1.0</td>\n",
       "      <td>0.0</td>\n",
       "      <td>0.0</td>\n",
       "      <td>0.0</td>\n",
       "      <td>0.0</td>\n",
       "      <td>0.0</td>\n",
       "      <td>0.0</td>\n",
       "    </tr>\n",
       "    <tr>\n",
       "      <th>Loan_ID: LP001052</th>\n",
       "      <td>0.0</td>\n",
       "      <td>0.0</td>\n",
       "      <td>0.0</td>\n",
       "      <td>0.0</td>\n",
       "      <td>0.0</td>\n",
       "      <td>0.0</td>\n",
       "      <td>0.0</td>\n",
       "      <td>0.0</td>\n",
       "      <td>0.0</td>\n",
       "      <td>0.0</td>\n",
       "      <td>0.0</td>\n",
       "      <td>0.0</td>\n",
       "      <td>0.0</td>\n",
       "    </tr>\n",
       "    <tr>\n",
       "      <th>Loan_ID: LP002792</th>\n",
       "      <td>0.0</td>\n",
       "      <td>0.0</td>\n",
       "      <td>0.0</td>\n",
       "      <td>0.0</td>\n",
       "      <td>0.0</td>\n",
       "      <td>0.0</td>\n",
       "      <td>0.0</td>\n",
       "      <td>0.0</td>\n",
       "      <td>0.0</td>\n",
       "      <td>0.0</td>\n",
       "      <td>0.0</td>\n",
       "      <td>0.0</td>\n",
       "      <td>0.0</td>\n",
       "    </tr>\n",
       "    <tr>\n",
       "      <th>Loan_ID: LP002659</th>\n",
       "      <td>0.0</td>\n",
       "      <td>0.0</td>\n",
       "      <td>0.0</td>\n",
       "      <td>0.0</td>\n",
       "      <td>0.0</td>\n",
       "      <td>0.0</td>\n",
       "      <td>0.0</td>\n",
       "      <td>0.0</td>\n",
       "      <td>0.0</td>\n",
       "      <td>0.0</td>\n",
       "      <td>0.0</td>\n",
       "      <td>0.0</td>\n",
       "      <td>0.0</td>\n",
       "    </tr>\n",
       "    <tr>\n",
       "      <th>Loan_ID: LP001914</th>\n",
       "      <td>0.0</td>\n",
       "      <td>0.0</td>\n",
       "      <td>0.0</td>\n",
       "      <td>0.0</td>\n",
       "      <td>0.0</td>\n",
       "      <td>0.0</td>\n",
       "      <td>0.0</td>\n",
       "      <td>0.0</td>\n",
       "      <td>0.0</td>\n",
       "      <td>0.0</td>\n",
       "      <td>0.0</td>\n",
       "      <td>0.0</td>\n",
       "      <td>0.0</td>\n",
       "    </tr>\n",
       "    <tr>\n",
       "      <th>...</th>\n",
       "      <td>...</td>\n",
       "      <td>...</td>\n",
       "      <td>...</td>\n",
       "      <td>...</td>\n",
       "      <td>...</td>\n",
       "      <td>...</td>\n",
       "      <td>...</td>\n",
       "      <td>...</td>\n",
       "      <td>...</td>\n",
       "      <td>...</td>\n",
       "      <td>...</td>\n",
       "      <td>...</td>\n",
       "      <td>...</td>\n",
       "    </tr>\n",
       "    <tr>\n",
       "      <th>Loan_ID: LP001310</th>\n",
       "      <td>0.0</td>\n",
       "      <td>0.0</td>\n",
       "      <td>0.0</td>\n",
       "      <td>0.0</td>\n",
       "      <td>0.0</td>\n",
       "      <td>0.0</td>\n",
       "      <td>0.0</td>\n",
       "      <td>0.0</td>\n",
       "      <td>0.0</td>\n",
       "      <td>0.0</td>\n",
       "      <td>0.0</td>\n",
       "      <td>0.0</td>\n",
       "      <td>0.0</td>\n",
       "    </tr>\n",
       "    <tr>\n",
       "      <th>Loan_ID: LP001275</th>\n",
       "      <td>0.0</td>\n",
       "      <td>0.0</td>\n",
       "      <td>0.0</td>\n",
       "      <td>0.0</td>\n",
       "      <td>0.0</td>\n",
       "      <td>0.0</td>\n",
       "      <td>0.0</td>\n",
       "      <td>0.0</td>\n",
       "      <td>0.0</td>\n",
       "      <td>0.0</td>\n",
       "      <td>0.0</td>\n",
       "      <td>0.0</td>\n",
       "      <td>0.0</td>\n",
       "    </tr>\n",
       "    <tr>\n",
       "      <th>Loan_ID: LP002545</th>\n",
       "      <td>0.0</td>\n",
       "      <td>0.0</td>\n",
       "      <td>0.0</td>\n",
       "      <td>0.0</td>\n",
       "      <td>0.0</td>\n",
       "      <td>0.0</td>\n",
       "      <td>0.0</td>\n",
       "      <td>0.0</td>\n",
       "      <td>0.0</td>\n",
       "      <td>0.0</td>\n",
       "      <td>0.0</td>\n",
       "      <td>0.0</td>\n",
       "      <td>0.0</td>\n",
       "    </tr>\n",
       "    <tr>\n",
       "      <th>Loan_ID: LP002403</th>\n",
       "      <td>0.0</td>\n",
       "      <td>0.0</td>\n",
       "      <td>0.0</td>\n",
       "      <td>0.0</td>\n",
       "      <td>0.0</td>\n",
       "      <td>0.0</td>\n",
       "      <td>0.0</td>\n",
       "      <td>0.0</td>\n",
       "      <td>0.0</td>\n",
       "      <td>0.0</td>\n",
       "      <td>0.0</td>\n",
       "      <td>0.0</td>\n",
       "      <td>0.0</td>\n",
       "    </tr>\n",
       "    <tr>\n",
       "      <th>Loan_ID: LP001032</th>\n",
       "      <td>0.0</td>\n",
       "      <td>0.0</td>\n",
       "      <td>0.0</td>\n",
       "      <td>0.0</td>\n",
       "      <td>0.0</td>\n",
       "      <td>0.0</td>\n",
       "      <td>0.0</td>\n",
       "      <td>0.0</td>\n",
       "      <td>0.0</td>\n",
       "      <td>0.0</td>\n",
       "      <td>0.0</td>\n",
       "      <td>0.0</td>\n",
       "      <td>0.0</td>\n",
       "    </tr>\n",
       "  </tbody>\n",
       "</table>\n",
       "<p>628 rows × 13 columns</p>\n",
       "</div>"
      ],
      "text/plain": [
       "                     0    1    2    3    4    5    6    7    8    9   10   11  \\\n",
       "Loan_ID: LP001013  0.0  0.0  0.0  0.0  0.0  0.0  1.0  0.0  0.0  0.0  0.0  0.0   \n",
       "Loan_ID: LP001052  0.0  0.0  0.0  0.0  0.0  0.0  0.0  0.0  0.0  0.0  0.0  0.0   \n",
       "Loan_ID: LP002792  0.0  0.0  0.0  0.0  0.0  0.0  0.0  0.0  0.0  0.0  0.0  0.0   \n",
       "Loan_ID: LP002659  0.0  0.0  0.0  0.0  0.0  0.0  0.0  0.0  0.0  0.0  0.0  0.0   \n",
       "Loan_ID: LP001914  0.0  0.0  0.0  0.0  0.0  0.0  0.0  0.0  0.0  0.0  0.0  0.0   \n",
       "...                ...  ...  ...  ...  ...  ...  ...  ...  ...  ...  ...  ...   \n",
       "Loan_ID: LP001310  0.0  0.0  0.0  0.0  0.0  0.0  0.0  0.0  0.0  0.0  0.0  0.0   \n",
       "Loan_ID: LP001275  0.0  0.0  0.0  0.0  0.0  0.0  0.0  0.0  0.0  0.0  0.0  0.0   \n",
       "Loan_ID: LP002545  0.0  0.0  0.0  0.0  0.0  0.0  0.0  0.0  0.0  0.0  0.0  0.0   \n",
       "Loan_ID: LP002403  0.0  0.0  0.0  0.0  0.0  0.0  0.0  0.0  0.0  0.0  0.0  0.0   \n",
       "Loan_ID: LP001032  0.0  0.0  0.0  0.0  0.0  0.0  0.0  0.0  0.0  0.0  0.0  0.0   \n",
       "\n",
       "                    12  \n",
       "Loan_ID: LP001013  0.0  \n",
       "Loan_ID: LP001052  0.0  \n",
       "Loan_ID: LP002792  0.0  \n",
       "Loan_ID: LP002659  0.0  \n",
       "Loan_ID: LP001914  0.0  \n",
       "...                ...  \n",
       "Loan_ID: LP001310  0.0  \n",
       "Loan_ID: LP001275  0.0  \n",
       "Loan_ID: LP002545  0.0  \n",
       "Loan_ID: LP002403  0.0  \n",
       "Loan_ID: LP001032  0.0  \n",
       "\n",
       "[628 rows x 13 columns]"
      ]
     },
     "execution_count": 14,
     "metadata": {},
     "output_type": "execute_result"
    }
   ],
   "source": [
    "X_trans.head(13).T"
   ]
  },
  {
   "cell_type": "markdown",
   "metadata": {},
   "source": [
    "##### Modelling"
   ]
  },
  {
   "cell_type": "code",
   "execution_count": 15,
   "metadata": {},
   "outputs": [
    {
     "name": "stdout",
     "output_type": "stream",
     "text": [
      "(614, 628)\n",
      "(614,)\n",
      "(614, 628)\n"
     ]
    }
   ],
   "source": [
    "X=X_trans\n",
    "y=ckd_df[\"Loan_Status\"]  # Update last column name\n",
    "X_prod=X_trans\n",
    "print(X.shape)\n",
    "print(y.shape)\n",
    "print(X_prod.shape)"
   ]
  },
  {
   "cell_type": "code",
   "execution_count": 16,
   "metadata": {},
   "outputs": [
    {
     "data": {
      "text/plain": [
       "0      1\n",
       "1      0\n",
       "2      1\n",
       "3      1\n",
       "4      1\n",
       "      ..\n",
       "609    1\n",
       "610    1\n",
       "611    1\n",
       "612    1\n",
       "613    0\n",
       "Name: Loan_Status, Length: 614, dtype: object"
      ]
     },
     "execution_count": 16,
     "metadata": {},
     "output_type": "execute_result"
    }
   ],
   "source": [
    "y"
   ]
  },
  {
   "cell_type": "markdown",
   "metadata": {},
   "source": [
    "###### Predictive Models with hyperparameter tuning Section"
   ]
  },
  {
   "cell_type": "code",
   "execution_count": 17,
   "metadata": {},
   "outputs": [],
   "source": [
    "from sklearn.metrics import classification_report\n",
    "from sklearn.metrics import accuracy_score\n",
    "from sklearn.metrics import confusion_matrix\n",
    "\n",
    "from sklearn.model_selection import GridSearchCV "
   ]
  },
  {
   "cell_type": "code",
   "execution_count": 18,
   "metadata": {},
   "outputs": [],
   "source": [
    "def display_confusion_matrix(y_test,y_pred):\n",
    "    \n",
    "    cm = confusion_matrix(y_test, y_pred_lr)\n",
    "    group_names = [\"True Neg\",\"False Pos\",\"False Neg\",\"True Pos\"]\n",
    "    group_counts = [\"{0:0.0f}\".format(value) for value in cm.flatten()]\n",
    "    group_percentages = [\"{0:.2%}\".format(value) for value in cm.flatten()/np.sum(cm)]\n",
    "    \n",
    "    labels = [f\"{v1}\\n{v2}\\n{v3}\" for v1, v2, v3 in zip(group_names,group_counts,group_percentages)]\n",
    "    labels = np.asarray(labels).reshape(2,2)\n",
    "    \n",
    "    sns.heatmap(cm, annot=labels, fmt=\"\", cmap=\"Blues\")\n",
    "    print(classification_report(y_test, y_pred))"
   ]
  },
  {
   "cell_type": "code",
   "execution_count": 19,
   "metadata": {},
   "outputs": [],
   "source": [
    "def plot_roc_curve(fpr, tpr):\n",
    "    plt.plot(fpr, tpr, label='ROC')\n",
    "    plt.plot([0, 1], linestyle='--')\n",
    "    plt.xlabel('False Positive Rate')\n",
    "    plt.ylabel('True Positive Rate')\n",
    "    plt.legend()\n",
    "    plt.show()"
   ]
  },
  {
   "cell_type": "code",
   "execution_count": 20,
   "metadata": {},
   "outputs": [
    {
     "name": "stdout",
     "output_type": "stream",
     "text": [
      "(491, 628)\n",
      "(123, 628)\n",
      "(491,)\n",
      "(123,)\n"
     ]
    }
   ],
   "source": [
    "##Split train and test\n",
    "from sklearn.model_selection import train_test_split\n",
    "X_train, X_test, y_train, y_test = train_test_split(X, y, test_size = 0.20, random_state = 4658)\n",
    "\n",
    "print(X_train.shape)\n",
    "print(X_test.shape)\n",
    "print(y_train.shape)\n",
    "print(y_test.shape)"
   ]
  },
  {
   "cell_type": "code",
   "execution_count": 21,
   "metadata": {},
   "outputs": [],
   "source": [
    "models= ['LogisticRegression', 'Support Vector Machine', 'Artificial neural network']"
   ]
  },
  {
   "cell_type": "markdown",
   "metadata": {},
   "source": [
    "###### StandardScaler data with PCA implementation"
   ]
  },
  {
   "cell_type": "code",
   "execution_count": 22,
   "metadata": {
    "scrolled": true
   },
   "outputs": [],
   "source": [
    "# performing preprocessing part \n",
    "from sklearn.preprocessing import StandardScaler \n",
    "sc = StandardScaler() \n",
    "\n",
    "X_train = sc.fit_transform(X_train) \n",
    "X_test = sc.transform(X_test) "
   ]
  },
  {
   "cell_type": "code",
   "execution_count": 23,
   "metadata": {},
   "outputs": [
    {
     "data": {
      "text/plain": [
       "array([0.00564402, 0.00533002])"
      ]
     },
     "execution_count": 23,
     "metadata": {},
     "output_type": "execute_result"
    }
   ],
   "source": [
    "# Applying PCA function on training and testing set of X component \n",
    "from sklearn.decomposition import PCA \n",
    "\n",
    "pca = PCA(n_components = 2) \n",
    "\n",
    "X_train = pca.fit_transform(X_train) \n",
    "X_test = pca.transform(X_test) \n",
    "\n",
    "explained_variance = pca.explained_variance_ratio_ \n",
    "explained_variance"
   ]
  },
  {
   "cell_type": "markdown",
   "metadata": {},
   "source": [
    "##### Logistic Regression Hyper parameter tuning"
   ]
  },
  {
   "cell_type": "code",
   "execution_count": 24,
   "metadata": {},
   "outputs": [
    {
     "name": "stdout",
     "output_type": "stream",
     "text": [
      "Tuned Logistic Regression Parameters: {'C': 0.05179474679231213}\n",
      "Best score is 0.7718202432488147\n",
      "Best estimator is LogisticRegression(C=0.05179474679231213) \n",
      "\n",
      "\n",
      "              precision    recall  f1-score   support\n",
      "\n",
      "           0       0.80      0.22      0.34        37\n",
      "           1       0.74      0.98      0.84        86\n",
      "\n",
      "    accuracy                           0.75       123\n",
      "   macro avg       0.77      0.60      0.59       123\n",
      "weighted avg       0.76      0.75      0.69       123\n",
      "\n",
      "\n",
      "Accuracy of Logistic Regression is : 0.7479674796747967\n",
      "Computation time 0.383 - Sec\n"
     ]
    },
    {
     "data": {
      "image/png": "[encoded data removed]",
      "text/plain": [
       "<Figure size 432x288 with 2 Axes>"
      ]
     },
     "metadata": {},
     "output_type": "display_data"
    }
   ],
   "source": [
    "from sklearn.linear_model import LogisticRegression \n",
    "from sklearn.metrics import roc_curve\n",
    "from sklearn.metrics import roc_auc_score\n",
    "\n",
    "c_space = np.logspace(-5, 8, 15) \n",
    "param_grid = {'C': c_space} \n",
    "\n",
    "start_lr = time.time()\n",
    "lr = GridSearchCV(LogisticRegression(), \n",
    "                  param_grid, \n",
    "                  cv = 5) \n",
    "lr.fit(X_train, y_train) \n",
    "end_lr = time.time()\n",
    "final_lr = end_lr - start_lr\n",
    "final_lr = round(final_lr,3)\n",
    "final_lr\n",
    "\n",
    "# Print the tuned parameters and score \n",
    "print(\"Tuned Logistic Regression Parameters: {}\".format(lr.best_params_)) \n",
    "print(\"Best score is {}\".format(lr.best_score_))\n",
    "print(\"Best estimator is {} \\n\\n\".format(lr.best_estimator_))\n",
    "\n",
    "y_pred_lr = lr.predict(X_test)\n",
    "display_confusion_matrix(y_test, y_pred_lr)\n",
    "accuracy_lr=accuracy_score(y_test, y_pred_lr)\n",
    "print(\"\\nAccuracy of Logistic Regression is :\", accuracy_lr)\n",
    "print(\"Computation time {} - Sec\".format(final_lr))"
   ]
  },
  {
   "cell_type": "code",
   "execution_count": 26,
   "metadata": {},
   "outputs": [
    {
     "name": "stdout",
     "output_type": "stream",
     "text": [
      "AUC: 0.60\n"
     ]
    }
   ],
   "source": [
    "auc = roc_auc_score(y_test, y_pred_lr)\n",
    "print('AUC: %.2f' % auc)\n",
    "\n",
    "#fpr, tpr, thresholds = roc_curve(y_test, y_pred_lr)\n",
    "#plot_roc_curve(fpr, tpr)"
   ]
  },
  {
   "cell_type": "markdown",
   "metadata": {},
   "source": [
    "##### Support Vector Machine Hyper parameter tuning"
   ]
  },
  {
   "cell_type": "code",
   "execution_count": 28,
   "metadata": {},
   "outputs": [
    {
     "name": "stdout",
     "output_type": "stream",
     "text": [
      "Fitting 5 folds for each of 25 candidates, totalling 125 fits\n",
      "[CV] C=0.1, gamma=1, kernel=rbf ......................................\n",
      "[CV] .......... C=0.1, gamma=1, kernel=rbf, score=0.717, total=   0.0s\n",
      "[CV] C=0.1, gamma=1, kernel=rbf ......................................\n",
      "[CV] .......... C=0.1, gamma=1, kernel=rbf, score=0.735, total=   0.0s\n",
      "[CV] C=0.1, gamma=1, kernel=rbf ......................................\n",
      "[CV] .......... C=0.1, gamma=1, kernel=rbf, score=0.745, total=   0.0s\n",
      "[CV] C=0.1, gamma=1, kernel=rbf ......................................\n",
      "[CV] .......... C=0.1, gamma=1, kernel=rbf, score=0.714, total=   0.0s\n",
      "[CV] C=0.1, gamma=1, kernel=rbf ......................................\n",
      "[CV] .......... C=0.1, gamma=1, kernel=rbf, score=0.745, total=   0.0s\n",
      "[CV] C=0.1, gamma=0.1, kernel=rbf ....................................\n",
      "[CV] ........ C=0.1, gamma=0.1, kernel=rbf, score=0.747, total=   0.0s\n",
      "[CV] C=0.1, gamma=0.1, kernel=rbf ....................................\n",
      "[CV] ........ C=0.1, gamma=0.1, kernel=rbf, score=0.745, total=   0.0s\n",
      "[CV] C=0.1, gamma=0.1, kernel=rbf ....................................\n",
      "[CV] ........ C=0.1, gamma=0.1, kernel=rbf, score=0.745, total=   0.0s\n",
      "[CV] C=0.1, gamma=0.1, kernel=rbf ....................................\n",
      "[CV] ........ C=0.1, gamma=0.1, kernel=rbf, score=0.714, total=   0.0s\n",
      "[CV] C=0.1, gamma=0.1, kernel=rbf ....................................\n",
      "[CV] ........ C=0.1, gamma=0.1, kernel=rbf, score=0.724, total=   0.0s\n",
      "[CV] C=0.1, gamma=0.01, kernel=rbf ...................................\n",
      "[CV] ....... C=0.1, gamma=0.01, kernel=rbf, score=0.687, total=   0.0s\n",
      "[CV] C=0.1, gamma=0.01, kernel=rbf ...................................\n",
      "[CV] ....... C=0.1, gamma=0.01, kernel=rbf, score=0.684, total=   0.0s\n",
      "[CV] C=0.1, gamma=0.01, kernel=rbf ...................................\n",
      "[CV] ....... C=0.1, gamma=0.01, kernel=rbf, score=0.684, total=   0.0s\n",
      "[CV] C=0.1, gamma=0.01, kernel=rbf ...................................\n",
      "[CV] ....... C=0.1, gamma=0.01, kernel=rbf, score=0.684, total=   0.0s\n",
      "[CV] C=0.1, gamma=0.01, kernel=rbf ...................................\n",
      "[CV] ....... C=0.1, gamma=0.01, kernel=rbf, score=0.684, total=   0.0s\n",
      "[CV] C=0.1, gamma=0.001, kernel=rbf ..................................\n",
      "[CV] ...... C=0.1, gamma=0.001, kernel=rbf, score=0.687, total=   0.0s\n",
      "[CV] C=0.1, gamma=0.001, kernel=rbf ..................................\n",
      "[CV] ...... C=0.1, gamma=0.001, kernel=rbf, score=0.684, total=   0.0s\n",
      "[CV] C=0.1, gamma=0.001, kernel=rbf ..................................\n",
      "[CV] ...... C=0.1, gamma=0.001, kernel=rbf, score=0.684, total=   0.0s\n",
      "[CV] C=0.1, gamma=0.001, kernel=rbf ..................................\n",
      "[CV] ...... C=0.1, gamma=0.001, kernel=rbf, score=0.684, total=   0.0s\n",
      "[CV] C=0.1, gamma=0.001, kernel=rbf ..................................\n",
      "[CV] ...... C=0.1, gamma=0.001, kernel=rbf, score=0.684, total=   0.0s\n",
      "[CV] C=0.1, gamma=0.0001, kernel=rbf .................................\n",
      "[CV] ..... C=0.1, gamma=0.0001, kernel=rbf, score=0.687, total=   0.0s\n",
      "[CV] C=0.1, gamma=0.0001, kernel=rbf .................................\n",
      "[CV] ..... C=0.1, gamma=0.0001, kernel=rbf, score=0.684, total=   0.0s\n",
      "[CV] C=0.1, gamma=0.0001, kernel=rbf .................................\n",
      "[CV] ..... C=0.1, gamma=0.0001, kernel=rbf, score=0.684, total=   0.0s\n",
      "[CV] C=0.1, gamma=0.0001, kernel=rbf .................................\n",
      "[CV] ..... C=0.1, gamma=0.0001, kernel=rbf, score=0.684, total=   0.0s\n",
      "[CV] C=0.1, gamma=0.0001, kernel=rbf .................................\n",
      "[CV] ..... C=0.1, gamma=0.0001, kernel=rbf, score=0.684, total=   0.0s\n",
      "[CV] C=1, gamma=1, kernel=rbf ........................................\n",
      "[CV] ............ C=1, gamma=1, kernel=rbf, score=0.848, total=   0.0s\n",
      "[CV] C=1, gamma=1, kernel=rbf ........................................\n",
      "[CV] ............ C=1, gamma=1, kernel=rbf, score=0.735, total=   0.0s\n",
      "[CV] C=1, gamma=1, kernel=rbf ........................................\n",
      "[CV] ............ C=1, gamma=1, kernel=rbf, score=0.745, total=   0.0s\n",
      "[CV] C=1, gamma=1, kernel=rbf ........................................\n",
      "[CV] ............ C=1, gamma=1, kernel=rbf, score=0.816, total=   0.0s\n",
      "[CV] C=1, gamma=1, kernel=rbf ........................................\n"
     ]
    },
    {
     "name": "stderr",
     "output_type": "stream",
     "text": [
      "[Parallel(n_jobs=1)]: Using backend SequentialBackend with 1 concurrent workers.\n",
      "[Parallel(n_jobs=1)]: Done   1 out of   1 | elapsed:    0.0s remaining:    0.0s\n",
      "[Parallel(n_jobs=1)]: Done   2 out of   2 | elapsed:    0.0s remaining:    0.0s\n"
     ]
    },
    {
     "name": "stdout",
     "output_type": "stream",
     "text": [
      "[CV] ............ C=1, gamma=1, kernel=rbf, score=0.735, total=   0.0s\n",
      "[CV] C=1, gamma=0.1, kernel=rbf ......................................\n",
      "[CV] .......... C=1, gamma=0.1, kernel=rbf, score=0.828, total=   0.0s\n",
      "[CV] C=1, gamma=0.1, kernel=rbf ......................................\n",
      "[CV] .......... C=1, gamma=0.1, kernel=rbf, score=0.704, total=   0.0s\n",
      "[CV] C=1, gamma=0.1, kernel=rbf ......................................\n",
      "[CV] .......... C=1, gamma=0.1, kernel=rbf, score=0.745, total=   0.0s\n",
      "[CV] C=1, gamma=0.1, kernel=rbf ......................................\n",
      "[CV] .......... C=1, gamma=0.1, kernel=rbf, score=0.806, total=   0.0s\n",
      "[CV] C=1, gamma=0.1, kernel=rbf ......................................\n",
      "[CV] .......... C=1, gamma=0.1, kernel=rbf, score=0.714, total=   0.0s\n",
      "[CV] C=1, gamma=0.01, kernel=rbf .....................................\n",
      "[CV] ......... C=1, gamma=0.01, kernel=rbf, score=0.828, total=   0.0s\n",
      "[CV] C=1, gamma=0.01, kernel=rbf .....................................\n",
      "[CV] ......... C=1, gamma=0.01, kernel=rbf, score=0.735, total=   0.0s\n",
      "[CV] C=1, gamma=0.01, kernel=rbf .....................................\n",
      "[CV] ......... C=1, gamma=0.01, kernel=rbf, score=0.735, total=   0.0s\n",
      "[CV] C=1, gamma=0.01, kernel=rbf .....................................\n",
      "[CV] ......... C=1, gamma=0.01, kernel=rbf, score=0.776, total=   0.0s\n",
      "[CV] C=1, gamma=0.01, kernel=rbf .....................................\n",
      "[CV] ......... C=1, gamma=0.01, kernel=rbf, score=0.714, total=   0.0s\n",
      "[CV] C=1, gamma=0.001, kernel=rbf ....................................\n",
      "[CV] ........ C=1, gamma=0.001, kernel=rbf, score=0.687, total=   0.0s\n",
      "[CV] C=1, gamma=0.001, kernel=rbf ....................................\n",
      "[CV] ........ C=1, gamma=0.001, kernel=rbf, score=0.684, total=   0.0s\n",
      "[CV] C=1, gamma=0.001, kernel=rbf ....................................\n",
      "[CV] ........ C=1, gamma=0.001, kernel=rbf, score=0.684, total=   0.0s\n",
      "[CV] C=1, gamma=0.001, kernel=rbf ....................................\n",
      "[CV] ........ C=1, gamma=0.001, kernel=rbf, score=0.684, total=   0.0s\n",
      "[CV] C=1, gamma=0.001, kernel=rbf ....................................\n",
      "[CV] ........ C=1, gamma=0.001, kernel=rbf, score=0.684, total=   0.0s\n",
      "[CV] C=1, gamma=0.0001, kernel=rbf ...................................\n",
      "[CV] ....... C=1, gamma=0.0001, kernel=rbf, score=0.687, total=   0.0s\n",
      "[CV] C=1, gamma=0.0001, kernel=rbf ...................................\n",
      "[CV] ....... C=1, gamma=0.0001, kernel=rbf, score=0.684, total=   0.0s\n",
      "[CV] C=1, gamma=0.0001, kernel=rbf ...................................\n",
      "[CV] ....... C=1, gamma=0.0001, kernel=rbf, score=0.684, total=   0.0s\n",
      "[CV] C=1, gamma=0.0001, kernel=rbf ...................................\n",
      "[CV] ....... C=1, gamma=0.0001, kernel=rbf, score=0.684, total=   0.0s\n",
      "[CV] C=1, gamma=0.0001, kernel=rbf ...................................\n",
      "[CV] ....... C=1, gamma=0.0001, kernel=rbf, score=0.684, total=   0.0s\n",
      "[CV] C=10, gamma=1, kernel=rbf .......................................\n",
      "[CV] ........... C=10, gamma=1, kernel=rbf, score=0.818, total=   0.0s\n",
      "[CV] C=10, gamma=1, kernel=rbf .......................................\n",
      "[CV] ........... C=10, gamma=1, kernel=rbf, score=0.735, total=   0.0s\n",
      "[CV] C=10, gamma=1, kernel=rbf .......................................\n",
      "[CV] ........... C=10, gamma=1, kernel=rbf, score=0.745, total=   0.0s\n",
      "[CV] C=10, gamma=1, kernel=rbf .......................................\n",
      "[CV] ........... C=10, gamma=1, kernel=rbf, score=0.786, total=   0.0s\n",
      "[CV] C=10, gamma=1, kernel=rbf .......................................\n",
      "[CV] ........... C=10, gamma=1, kernel=rbf, score=0.745, total=   0.0s\n",
      "[CV] C=10, gamma=0.1, kernel=rbf .....................................\n",
      "[CV] ......... C=10, gamma=0.1, kernel=rbf, score=0.838, total=   0.0s\n",
      "[CV] C=10, gamma=0.1, kernel=rbf .....................................\n",
      "[CV] ......... C=10, gamma=0.1, kernel=rbf, score=0.714, total=   0.0s\n",
      "[CV] C=10, gamma=0.1, kernel=rbf .....................................\n",
      "[CV] ......... C=10, gamma=0.1, kernel=rbf, score=0.704, total=   0.0s\n",
      "[CV] C=10, gamma=0.1, kernel=rbf .....................................\n",
      "[CV] ......... C=10, gamma=0.1, kernel=rbf, score=0.796, total=   0.0s\n",
      "[CV] C=10, gamma=0.1, kernel=rbf .....................................\n",
      "[CV] ......... C=10, gamma=0.1, kernel=rbf, score=0.735, total=   0.0s\n",
      "[CV] C=10, gamma=0.01, kernel=rbf ....................................\n",
      "[CV] ........ C=10, gamma=0.01, kernel=rbf, score=0.828, total=   0.0s\n",
      "[CV] C=10, gamma=0.01, kernel=rbf ....................................\n",
      "[CV] ........ C=10, gamma=0.01, kernel=rbf, score=0.714, total=   0.0s\n",
      "[CV] C=10, gamma=0.01, kernel=rbf ....................................\n",
      "[CV] ........ C=10, gamma=0.01, kernel=rbf, score=0.745, total=   0.0s\n",
      "[CV] C=10, gamma=0.01, kernel=rbf ....................................\n",
      "[CV] ........ C=10, gamma=0.01, kernel=rbf, score=0.796, total=   0.0s\n",
      "[CV] C=10, gamma=0.01, kernel=rbf ....................................\n",
      "[CV] ........ C=10, gamma=0.01, kernel=rbf, score=0.694, total=   0.0s\n",
      "[CV] C=10, gamma=0.001, kernel=rbf ...................................\n",
      "[CV] ....... C=10, gamma=0.001, kernel=rbf, score=0.838, total=   0.0s\n",
      "[CV] C=10, gamma=0.001, kernel=rbf ...................................\n",
      "[CV] ....... C=10, gamma=0.001, kernel=rbf, score=0.724, total=   0.0s\n",
      "[CV] C=10, gamma=0.001, kernel=rbf ...................................\n",
      "[CV] ....... C=10, gamma=0.001, kernel=rbf, score=0.735, total=   0.0s\n",
      "[CV] C=10, gamma=0.001, kernel=rbf ...................................\n",
      "[CV] ....... C=10, gamma=0.001, kernel=rbf, score=0.837, total=   0.0s\n",
      "[CV] C=10, gamma=0.001, kernel=rbf ...................................\n",
      "[CV] ....... C=10, gamma=0.001, kernel=rbf, score=0.704, total=   0.0s\n",
      "[CV] C=10, gamma=0.0001, kernel=rbf ..................................\n",
      "[CV] ...... C=10, gamma=0.0001, kernel=rbf, score=0.687, total=   0.0s\n",
      "[CV] C=10, gamma=0.0001, kernel=rbf ..................................\n",
      "[CV] ...... C=10, gamma=0.0001, kernel=rbf, score=0.684, total=   0.0s\n",
      "[CV] C=10, gamma=0.0001, kernel=rbf ..................................\n",
      "[CV] ...... C=10, gamma=0.0001, kernel=rbf, score=0.684, total=   0.0s\n",
      "[CV] C=10, gamma=0.0001, kernel=rbf ..................................\n",
      "[CV] ...... C=10, gamma=0.0001, kernel=rbf, score=0.684, total=   0.0s\n",
      "[CV] C=10, gamma=0.0001, kernel=rbf ..................................\n",
      "[CV] ...... C=10, gamma=0.0001, kernel=rbf, score=0.684, total=   0.0s\n",
      "[CV] C=100, gamma=1, kernel=rbf ......................................\n",
      "[CV] .......... C=100, gamma=1, kernel=rbf, score=0.828, total=   0.0s\n",
      "[CV] C=100, gamma=1, kernel=rbf ......................................\n",
      "[CV] .......... C=100, gamma=1, kernel=rbf, score=0.735, total=   0.0s\n",
      "[CV] C=100, gamma=1, kernel=rbf ......................................\n",
      "[CV] .......... C=100, gamma=1, kernel=rbf, score=0.704, total=   0.0s\n",
      "[CV] C=100, gamma=1, kernel=rbf ......................................\n",
      "[CV] .......... C=100, gamma=1, kernel=rbf, score=0.786, total=   0.0s\n",
      "[CV] C=100, gamma=1, kernel=rbf ......................................\n",
      "[CV] .......... C=100, gamma=1, kernel=rbf, score=0.643, total=   0.0s\n",
      "[CV] C=100, gamma=0.1, kernel=rbf ....................................\n",
      "[CV] ........ C=100, gamma=0.1, kernel=rbf, score=0.848, total=   0.0s\n",
      "[CV] C=100, gamma=0.1, kernel=rbf ....................................\n",
      "[CV] ........ C=100, gamma=0.1, kernel=rbf, score=0.745, total=   0.0s\n",
      "[CV] C=100, gamma=0.1, kernel=rbf ....................................\n",
      "[CV] ........ C=100, gamma=0.1, kernel=rbf, score=0.745, total=   0.0s\n",
      "[CV] C=100, gamma=0.1, kernel=rbf ....................................\n",
      "[CV] ........ C=100, gamma=0.1, kernel=rbf, score=0.806, total=   0.0s\n",
      "[CV] C=100, gamma=0.1, kernel=rbf ....................................\n",
      "[CV] ........ C=100, gamma=0.1, kernel=rbf, score=0.735, total=   0.0s\n",
      "[CV] C=100, gamma=0.01, kernel=rbf ...................................\n",
      "[CV] ....... C=100, gamma=0.01, kernel=rbf, score=0.828, total=   0.0s\n",
      "[CV] C=100, gamma=0.01, kernel=rbf ...................................\n",
      "[CV] ....... C=100, gamma=0.01, kernel=rbf, score=0.724, total=   0.0s\n",
      "[CV] C=100, gamma=0.01, kernel=rbf ...................................\n",
      "[CV] ....... C=100, gamma=0.01, kernel=rbf, score=0.755, total=   0.0s\n",
      "[CV] C=100, gamma=0.01, kernel=rbf ...................................\n",
      "[CV] ....... C=100, gamma=0.01, kernel=rbf, score=0.745, total=   0.0s\n",
      "[CV] C=100, gamma=0.01, kernel=rbf ...................................\n",
      "[CV] ....... C=100, gamma=0.01, kernel=rbf, score=0.724, total=   0.0s\n",
      "[CV] C=100, gamma=0.001, kernel=rbf ..................................\n",
      "[CV] ...... C=100, gamma=0.001, kernel=rbf, score=0.848, total=   0.0s\n",
      "[CV] C=100, gamma=0.001, kernel=rbf ..................................\n",
      "[CV] ...... C=100, gamma=0.001, kernel=rbf, score=0.724, total=   0.0s\n",
      "[CV] C=100, gamma=0.001, kernel=rbf ..................................\n",
      "[CV] ...... C=100, gamma=0.001, kernel=rbf, score=0.735, total=   0.0s\n",
      "[CV] C=100, gamma=0.001, kernel=rbf ..................................\n",
      "[CV] ...... C=100, gamma=0.001, kernel=rbf, score=0.806, total=   0.0s\n",
      "[CV] C=100, gamma=0.001, kernel=rbf ..................................\n"
     ]
    },
    {
     "name": "stdout",
     "output_type": "stream",
     "text": [
      "[CV] ...... C=100, gamma=0.001, kernel=rbf, score=0.714, total=   0.0s\n",
      "[CV] C=100, gamma=0.0001, kernel=rbf .................................\n",
      "[CV] ..... C=100, gamma=0.0001, kernel=rbf, score=0.859, total=   0.0s\n",
      "[CV] C=100, gamma=0.0001, kernel=rbf .................................\n",
      "[CV] ..... C=100, gamma=0.0001, kernel=rbf, score=0.724, total=   0.0s\n",
      "[CV] C=100, gamma=0.0001, kernel=rbf .................................\n",
      "[CV] ..... C=100, gamma=0.0001, kernel=rbf, score=0.735, total=   0.0s\n",
      "[CV] C=100, gamma=0.0001, kernel=rbf .................................\n",
      "[CV] ..... C=100, gamma=0.0001, kernel=rbf, score=0.827, total=   0.0s\n",
      "[CV] C=100, gamma=0.0001, kernel=rbf .................................\n",
      "[CV] ..... C=100, gamma=0.0001, kernel=rbf, score=0.704, total=   0.0s\n",
      "[CV] C=1000, gamma=1, kernel=rbf .....................................\n",
      "[CV] ......... C=1000, gamma=1, kernel=rbf, score=0.798, total=   0.1s\n",
      "[CV] C=1000, gamma=1, kernel=rbf .....................................\n",
      "[CV] ......... C=1000, gamma=1, kernel=rbf, score=0.755, total=   0.1s\n",
      "[CV] C=1000, gamma=1, kernel=rbf .....................................\n",
      "[CV] ......... C=1000, gamma=1, kernel=rbf, score=0.724, total=   0.1s\n",
      "[CV] C=1000, gamma=1, kernel=rbf .....................................\n",
      "[CV] ......... C=1000, gamma=1, kernel=rbf, score=0.755, total=   0.1s\n",
      "[CV] C=1000, gamma=1, kernel=rbf .....................................\n",
      "[CV] ......... C=1000, gamma=1, kernel=rbf, score=0.673, total=   0.1s\n",
      "[CV] C=1000, gamma=0.1, kernel=rbf ...................................\n",
      "[CV] ....... C=1000, gamma=0.1, kernel=rbf, score=0.848, total=   0.2s\n",
      "[CV] C=1000, gamma=0.1, kernel=rbf ...................................\n",
      "[CV] ....... C=1000, gamma=0.1, kernel=rbf, score=0.735, total=   0.1s\n",
      "[CV] C=1000, gamma=0.1, kernel=rbf ...................................\n",
      "[CV] ....... C=1000, gamma=0.1, kernel=rbf, score=0.735, total=   0.2s\n",
      "[CV] C=1000, gamma=0.1, kernel=rbf ...................................\n",
      "[CV] ....... C=1000, gamma=0.1, kernel=rbf, score=0.816, total=   0.1s\n",
      "[CV] C=1000, gamma=0.1, kernel=rbf ...................................\n",
      "[CV] ....... C=1000, gamma=0.1, kernel=rbf, score=0.735, total=   0.1s\n",
      "[CV] C=1000, gamma=0.01, kernel=rbf ..................................\n",
      "[CV] ...... C=1000, gamma=0.01, kernel=rbf, score=0.838, total=   0.0s\n",
      "[CV] C=1000, gamma=0.01, kernel=rbf ..................................\n",
      "[CV] ...... C=1000, gamma=0.01, kernel=rbf, score=0.724, total=   0.0s\n",
      "[CV] C=1000, gamma=0.01, kernel=rbf ..................................\n",
      "[CV] ...... C=1000, gamma=0.01, kernel=rbf, score=0.735, total=   0.0s\n",
      "[CV] C=1000, gamma=0.01, kernel=rbf ..................................\n",
      "[CV] ...... C=1000, gamma=0.01, kernel=rbf, score=0.806, total=   0.0s\n",
      "[CV] C=1000, gamma=0.01, kernel=rbf ..................................\n",
      "[CV] ...... C=1000, gamma=0.01, kernel=rbf, score=0.714, total=   0.0s\n",
      "[CV] C=1000, gamma=0.001, kernel=rbf .................................\n",
      "[CV] ..... C=1000, gamma=0.001, kernel=rbf, score=0.838, total=   0.0s\n",
      "[CV] C=1000, gamma=0.001, kernel=rbf .................................\n",
      "[CV] ..... C=1000, gamma=0.001, kernel=rbf, score=0.724, total=   0.0s\n",
      "[CV] C=1000, gamma=0.001, kernel=rbf .................................\n",
      "[CV] ..... C=1000, gamma=0.001, kernel=rbf, score=0.735, total=   0.0s\n",
      "[CV] C=1000, gamma=0.001, kernel=rbf .................................\n",
      "[CV] ..... C=1000, gamma=0.001, kernel=rbf, score=0.776, total=   0.0s\n",
      "[CV] C=1000, gamma=0.001, kernel=rbf .................................\n",
      "[CV] ..... C=1000, gamma=0.001, kernel=rbf, score=0.684, total=   0.0s\n",
      "[CV] C=1000, gamma=0.0001, kernel=rbf ................................\n",
      "[CV] .... C=1000, gamma=0.0001, kernel=rbf, score=0.869, total=   0.0s\n",
      "[CV] C=1000, gamma=0.0001, kernel=rbf ................................\n",
      "[CV] .... C=1000, gamma=0.0001, kernel=rbf, score=0.714, total=   0.0s\n",
      "[CV] C=1000, gamma=0.0001, kernel=rbf ................................\n",
      "[CV] .... C=1000, gamma=0.0001, kernel=rbf, score=0.735, total=   0.0s\n",
      "[CV] C=1000, gamma=0.0001, kernel=rbf ................................\n",
      "[CV] .... C=1000, gamma=0.0001, kernel=rbf, score=0.857, total=   0.0s\n",
      "[CV] C=1000, gamma=0.0001, kernel=rbf ................................\n",
      "[CV] .... C=1000, gamma=0.0001, kernel=rbf, score=0.714, total=   0.0s\n",
      "Tuned Support Vector Machine Parameters: {'C': 1000, 'gamma': 0.0001, 'kernel': 'rbf'}\n",
      "Best score is 0.777819006390435\n",
      "Best estimator is SVC(C=1000, gamma=0.0001)\n"
     ]
    },
    {
     "name": "stderr",
     "output_type": "stream",
     "text": [
      "[Parallel(n_jobs=1)]: Done 125 out of 125 | elapsed:    2.3s finished\n"
     ]
    }
   ],
   "source": [
    "from sklearn.svm import SVC\n",
    "\n",
    "# defining parameter range\n",
    "param_grid = {'C': [0.1, 1, 10, 100, 1000], \n",
    "              'gamma': [1, 0.1, 0.01, 0.001, 0.0001],\n",
    "              'kernel': ['rbf']} \n",
    "\n",
    "start_svm = time.time()\n",
    "svm = GridSearchCV(SVC(), param_grid, refit = True, verbose = 3)\n",
    "# fitting the model for grid search\n",
    "svm.fit(X_train, y_train)\n",
    "\n",
    "end_svm = time.time()\n",
    "final_svm = end_svm - start_svm\n",
    "final_svm = round(final_svm,3)\n",
    "final_svm\n",
    "\n",
    "# Print the tuned parameters and score \n",
    "print(\"Tuned Support Vector Machine Parameters: {}\".format(svm.best_params_)) \n",
    "print(\"Best score is {}\".format(svm.best_score_))\n",
    "print(\"Best estimator is {}\".format(svm.best_estimator_))"
   ]
  },
  {
   "cell_type": "code",
   "execution_count": 29,
   "metadata": {},
   "outputs": [
    {
     "name": "stdout",
     "output_type": "stream",
     "text": [
      "              precision    recall  f1-score   support\n",
      "\n",
      "           0       0.89      0.22      0.35        37\n",
      "           1       0.75      0.99      0.85        86\n",
      "\n",
      "    accuracy                           0.76       123\n",
      "   macro avg       0.82      0.60      0.60       123\n",
      "weighted avg       0.79      0.76      0.70       123\n",
      "\n",
      "Accuracy of Support Vector Machine is : 0.7560975609756098\n",
      "Computation time 2.305 - Sec\n"
     ]
    },
    {
     "data": {
      "image/png": "[encoded data removed]",
      "text/plain": [
       "<Figure size 432x288 with 2 Axes>"
      ]
     },
     "metadata": {},
     "output_type": "display_data"
    }
   ],
   "source": [
    "y_pred_svm = svm.predict(X_test)\n",
    "display_confusion_matrix(y_test, y_pred_svm)\n",
    "accuracy_svm=accuracy_score(y_test, y_pred_svm)\n",
    "print(\"Accuracy of Support Vector Machine is :\", accuracy_svm)\n",
    "print(\"Computation time {} - Sec\".format(final_svm))"
   ]
  },
  {
   "cell_type": "code",
   "execution_count": 30,
   "metadata": {},
   "outputs": [
    {
     "name": "stdout",
     "output_type": "stream",
     "text": [
      "AUC: 0.60\n"
     ]
    }
   ],
   "source": [
    "auc = roc_auc_score(y_test, y_pred_svm)\n",
    "print('AUC: %.2f' % auc)\n",
    "\n",
    "#fpr, tpr, thresholds = roc_curve(y_test, y_pred_svm)\n",
    "#plot_roc_curve(fpr, tpr)"
   ]
  },
  {
   "cell_type": "markdown",
   "metadata": {},
   "source": [
    "##### Artificial neural network"
   ]
  },
  {
   "cell_type": "code",
   "execution_count": 32,
   "metadata": {},
   "outputs": [
    {
     "name": "stdout",
     "output_type": "stream",
     "text": [
      "Fitting 5 folds for each of 1 candidates, totalling 5 fits\n",
      "[CV] max_iter=1000 ...................................................\n"
     ]
    },
    {
     "name": "stderr",
     "output_type": "stream",
     "text": [
      "[Parallel(n_jobs=1)]: Using backend SequentialBackend with 1 concurrent workers.\n"
     ]
    },
    {
     "name": "stdout",
     "output_type": "stream",
     "text": [
      "[CV] ....................... max_iter=1000, score=0.859, total=   0.4s\n",
      "[CV] max_iter=1000 ...................................................\n"
     ]
    },
    {
     "name": "stderr",
     "output_type": "stream",
     "text": [
      "[Parallel(n_jobs=1)]: Done   1 out of   1 | elapsed:    0.4s remaining:    0.0s\n"
     ]
    },
    {
     "name": "stdout",
     "output_type": "stream",
     "text": [
      "[CV] ....................... max_iter=1000, score=0.745, total=   0.8s\n",
      "[CV] max_iter=1000 ...................................................\n"
     ]
    },
    {
     "name": "stderr",
     "output_type": "stream",
     "text": [
      "[Parallel(n_jobs=1)]: Done   2 out of   2 | elapsed:    1.1s remaining:    0.0s\n"
     ]
    },
    {
     "name": "stdout",
     "output_type": "stream",
     "text": [
      "[CV] ....................... max_iter=1000, score=0.724, total=   1.2s\n",
      "[CV] max_iter=1000 ...................................................\n",
      "[CV] ....................... max_iter=1000, score=0.816, total=   0.9s\n",
      "[CV] max_iter=1000 ...................................................\n",
      "[CV] ....................... max_iter=1000, score=0.694, total=   0.8s\n"
     ]
    },
    {
     "name": "stderr",
     "output_type": "stream",
     "text": [
      "[Parallel(n_jobs=1)]: Done   5 out of   5 | elapsed:    4.0s finished\n"
     ]
    },
    {
     "name": "stdout",
     "output_type": "stream",
     "text": [
      "Tuned Artificial neural network Parameters: {'max_iter': 1000}\n",
      "Best score is 0.7676355390641105\n",
      "Best estimator is MLPClassifier(max_iter=1000)\n"
     ]
    }
   ],
   "source": [
    "from sklearn.neural_network import MLPClassifier\n",
    "\n",
    "# defining parameter range\n",
    "param_grid = { \n",
    "              'max_iter': [1000]\n",
    "} \n",
    "\n",
    "start_mlp = time.time()\n",
    "mlp = GridSearchCV(MLPClassifier(), param_grid, refit = True, verbose = 3)\n",
    "# fitting the model for grid search\n",
    "mlp.fit(X_train, y_train.values.ravel())\n",
    "\n",
    "end_mlp = time.time()\n",
    "final_mlp = end_mlp - start_mlp\n",
    "final_mlp = round(final_mlp,3)\n",
    "final_mlp\n",
    "\n",
    "# Print the tuned parameters and score \n",
    "print(\"Tuned Artificial neural network Parameters: {}\".format(mlp.best_params_)) \n",
    "print(\"Best score is {}\".format(mlp.best_score_))\n",
    "print(\"Best estimator is {}\".format(mlp.best_estimator_))"
   ]
  },
  {
   "cell_type": "code",
   "execution_count": 33,
   "metadata": {},
   "outputs": [
    {
     "name": "stdout",
     "output_type": "stream",
     "text": [
      "              precision    recall  f1-score   support\n",
      "\n",
      "           0       1.00      0.22      0.36        37\n",
      "           1       0.75      1.00      0.86        86\n",
      "\n",
      "    accuracy                           0.76       123\n",
      "   macro avg       0.87      0.61      0.61       123\n",
      "weighted avg       0.82      0.76      0.71       123\n",
      "\n",
      "Accuracy of Artificial neural network  is : 0.7642276422764228\n",
      "Computation time 5.282 - Sec\n"
     ]
    },
    {
     "data": {
      "image/png": "[encoded data removed]",
      "text/plain": [
       "<Figure size 432x288 with 2 Axes>"
      ]
     },
     "metadata": {},
     "output_type": "display_data"
    }
   ],
   "source": [
    "y_pred_mlp = mlp.predict(X_test)\n",
    "display_confusion_matrix(y_test, y_pred_mlp)\n",
    "accuracy_mlp=accuracy_score(y_test, y_pred_mlp)\n",
    "print(\"Accuracy of Artificial neural network  is :\", accuracy_mlp)\n",
    "print(\"Computation time {} - Sec\".format(final_mlp))"
   ]
  },
  {
   "cell_type": "code",
   "execution_count": 35,
   "metadata": {},
   "outputs": [
    {
     "name": "stdout",
     "output_type": "stream",
     "text": [
      "AUC: 0.60\n"
     ]
    }
   ],
   "source": [
    "#auc = roc_auc_score(y_test, y_pred_mlp)\n",
    "print('AUC: %.2f' % auc)\n",
    "\n",
    "#fpr, tpr, thresholds = roc_curve(y_test, y_pred_mlp)\n",
    "#plot_roc_curve(fpr, tpr)"
   ]
  },
  {
   "cell_type": "code",
   "execution_count": 37,
   "metadata": {},
   "outputs": [
    {
     "name": "stdout",
     "output_type": "stream",
     "text": [
      "[0.7479674796747967, 0.7560975609756098, 0.7642276422764228]\n",
      "[0.383, 2.305, 5.282]\n"
     ]
    }
   ],
   "source": [
    "accuracies2 = [accuracy_lr, accuracy_svm, accuracy_mlp]\n",
    "final_time2 = [final_lr, final_svm, final_mlp]\n",
    "print(accuracies2)\n",
    "print(final_time2)"
   ]
  },
  {
   "cell_type": "code",
   "execution_count": 38,
   "metadata": {},
   "outputs": [
    {
     "data": {
      "image/png": "[encoded data removed]",
      "text/plain": [
       "<Figure size 1152x648 with 1 Axes>"
      ]
     },
     "metadata": {},
     "output_type": "display_data"
    }
   ],
   "source": [
    "# Figure Size \n",
    "fig, ax = plt.subplots(figsize =(16, 9)) \n",
    "# Horizontal Bar Plot \n",
    "ax.barh(models, accuracies2) \n",
    "\n",
    "# Remove axes splines \n",
    "for s in ['top', 'bottom', 'left', 'right']: \n",
    "    ax.spines[s].set_visible(False) \n",
    "# Remove x, y Ticks \n",
    "ax.xaxis.set_ticks_position('none') \n",
    "ax.yaxis.set_ticks_position('none') \n",
    "\n",
    "# Add padding between axes and labels \n",
    "ax.xaxis.set_tick_params(pad = 5) \n",
    "ax.yaxis.set_tick_params(pad = 10) \n",
    "# Add x, y gridlines \n",
    "ax.grid(b = True, color ='grey', \n",
    "        linestyle ='-.', linewidth = 0.5, \n",
    "        alpha = 0.2) \n",
    "\n",
    "# Show top values \n",
    "ax.invert_yaxis() \n",
    "\n",
    "# Add annotation to bars \n",
    "for i in ax.patches: \n",
    "    plt.text(i.get_width()+0.2, i.get_y()+0.5, \n",
    "            str(round((i.get_width()), 2)), \n",
    "            fontsize = 10, fontweight ='bold', \n",
    "            color ='grey') \n",
    "ax.set_title('Accuracy of different models', loc ='left') \n",
    "plt.show() "
   ]
  },
  {
   "cell_type": "code",
   "execution_count": null,
   "metadata": {},
   "outputs": [],
   "source": []
  }
 ],
 "metadata": {
  "kernelspec": {
   "display_name": "Python 3",
   "language": "python",
   "name": "python3"
  },
  "language_info": {
   "codemirror_mode": {
    "name": "ipython",
    "version": 3
   },
   "file_extension": ".py",
   "mimetype": "text/x-python",
   "name": "python",
   "nbconvert_exporter": "python",
   "pygments_lexer": "ipython3",
   "version": "3.8.3"
  }
 },
 "nbformat": 4,
 "nbformat_minor": 4
}
