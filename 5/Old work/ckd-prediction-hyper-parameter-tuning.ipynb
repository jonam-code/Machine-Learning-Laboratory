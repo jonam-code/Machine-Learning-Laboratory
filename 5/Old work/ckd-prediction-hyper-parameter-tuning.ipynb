{
 "cells": [
  {
   "cell_type": "code",
   "execution_count": 1,
   "metadata": {
    "_cell_guid": "b1076dfc-b9ad-4769-8c92-a6c4dae69d19",
    "_uuid": "8f2839f25d086af736a60e9eeb907d3b93b6e0e5",
    "execution": {
     "iopub.execute_input": "2021-01-08T12:28:08.553813Z",
     "iopub.status.busy": "2021-01-08T12:28:08.553110Z",
     "iopub.status.idle": "2021-01-08T12:28:08.570893Z",
     "shell.execute_reply": "2021-01-08T12:28:08.569719Z"
    },
    "papermill": {
     "duration": 0.036162,
     "end_time": "2021-01-08T12:28:08.571117",
     "exception": false,
     "start_time": "2021-01-08T12:28:08.534955",
     "status": "completed"
    },
    "tags": []
   },
   "outputs": [
    {
     "name": "stdout",
     "output_type": "stream",
     "text": [
      "/kaggle/input/ckdisease/kidney_disease.csv\n"
     ]
    }
   ],
   "source": [
    "# This Python 3 environment comes with many helpful analytics libraries installed\n",
    "# It is defined by the kaggle/python Docker image: https://github.com/kaggle/docker-python\n",
    "# For example, here's several helpful packages to load\n",
    "\n",
    "import numpy as np # linear algebra\n",
    "import pandas as pd # data processing, CSV file I/O (e.g. pd.read_csv)\n",
    "\n",
    "# Input data files are available in the read-only \"../input/\" directory\n",
    "# For example, running this (by clicking run or pressing Shift+Enter) will list all files under the input directory\n",
    "\n",
    "import os\n",
    "for dirname, _, filenames in os.walk('/kaggle/input'):\n",
    "    for filename in filenames:\n",
    "        print(os.path.join(dirname, filename))\n",
    "\n",
    "# You can write up to 20GB to the current directory (/kaggle/working/) that gets preserved as output when you create a version using \"Save & Run All\" \n",
    "# You can also write temporary files to /kaggle/temp/, but they won't be saved outside of the current session"
   ]
  },
  {
   "cell_type": "code",
   "execution_count": 2,
   "metadata": {
    "_cell_guid": "79c7e3d0-c299-4dcb-8224-4455121ee9b0",
    "_uuid": "d629ff2d2480ee46fbb7e2d37f6b5fab8052498a",
    "execution": {
     "iopub.execute_input": "2021-01-08T12:28:08.599326Z",
     "iopub.status.busy": "2021-01-08T12:28:08.598643Z",
     "iopub.status.idle": "2021-01-08T12:28:10.282412Z",
     "shell.execute_reply": "2021-01-08T12:28:10.280874Z"
    },
    "papermill": {
     "duration": 1.698293,
     "end_time": "2021-01-08T12:28:10.282594",
     "exception": false,
     "start_time": "2021-01-08T12:28:08.584301",
     "status": "completed"
    },
    "tags": []
   },
   "outputs": [],
   "source": [
    "#importing the libraries\n",
    "import numpy as np\n",
    "import pandas as pd\n",
    "import matplotlib.pyplot as plt\n",
    "import seaborn as sns\n",
    "\n",
    "from sklearn.model_selection import train_test_split, GridSearchCV\n",
    "from sklearn.preprocessing import StandardScaler\n",
    "from sklearn.metrics import accuracy_score\n",
    "from sklearn.metrics import confusion_matrix \n",
    "\n",
    "from sklearn.tree import DecisionTreeClassifier\n",
    "from sklearn import svm\n",
    "from sklearn.linear_model import LogisticRegression\n",
    "from sklearn.naive_bayes import GaussianNB\n",
    "from sklearn.neighbors import KNeighborsClassifier\n",
    "from sklearn.ensemble import RandomForestClassifier\n",
    "\n",
    "from sklearn.metrics import roc_curve, auc, confusion_matrix, classification_report,accuracy_score\n",
    "from sklearn.model_selection import cross_val_score\n",
    "from sklearn.model_selection import GridSearchCV"
   ]
  },
  {
   "cell_type": "code",
   "execution_count": 3,
   "metadata": {
    "execution": {
     "iopub.execute_input": "2021-01-08T12:28:10.321844Z",
     "iopub.status.busy": "2021-01-08T12:28:10.321046Z",
     "iopub.status.idle": "2021-01-08T12:28:10.340484Z",
     "shell.execute_reply": "2021-01-08T12:28:10.341082Z"
    },
    "papermill": {
     "duration": 0.042969,
     "end_time": "2021-01-08T12:28:10.341312",
     "exception": false,
     "start_time": "2021-01-08T12:28:10.298343",
     "status": "completed"
    },
    "tags": []
   },
   "outputs": [],
   "source": [
    "#import Dataset\n",
    "dataset = pd.read_csv('../input/ckdisease/kidney_disease.csv')"
   ]
  },
  {
   "cell_type": "markdown",
   "metadata": {
    "papermill": {
     "duration": 0.014151,
     "end_time": "2021-01-08T12:28:10.368840",
     "exception": false,
     "start_time": "2021-01-08T12:28:10.354689",
     "status": "completed"
    },
    "tags": []
   },
   "source": [
    "### Data Cleaning"
   ]
  },
  {
   "cell_type": "code",
   "execution_count": 4,
   "metadata": {
    "execution": {
     "iopub.execute_input": "2021-01-08T12:28:10.407010Z",
     "iopub.status.busy": "2021-01-08T12:28:10.406105Z",
     "iopub.status.idle": "2021-01-08T12:28:10.449032Z",
     "shell.execute_reply": "2021-01-08T12:28:10.448373Z"
    },
    "papermill": {
     "duration": 0.065681,
     "end_time": "2021-01-08T12:28:10.449191",
     "exception": false,
     "start_time": "2021-01-08T12:28:10.383510",
     "status": "completed"
    },
    "tags": []
   },
   "outputs": [],
   "source": [
    "dataset[['htn','dm','cad','pe','ane']]=dataset[['htn','dm','cad','pe','ane']].replace(to_replace={'yes':1,'no':0})\n",
    "dataset[['rbc','pc']] = dataset[['rbc','pc']].replace(to_replace={'abnormal':1,'normal':0})\n",
    "dataset[['pcc','ba']] = dataset[['pcc','ba']].replace(to_replace={'present':1,'notpresent':0})\n",
    "dataset[['appet']] = dataset[['appet']].replace(to_replace={'good':1,'poor':0,'no':np.nan})\n",
    "dataset['classification']=dataset['classification'].replace(to_replace={'ckd':1.0,'ckd\\t':1.0,'notckd':0.0,'no':0.0})\n",
    "dataset.rename(columns={'classification':'class'},inplace=True)"
   ]
  },
  {
   "cell_type": "code",
   "execution_count": 5,
   "metadata": {
    "execution": {
     "iopub.execute_input": "2021-01-08T12:28:10.495448Z",
     "iopub.status.busy": "2021-01-08T12:28:10.494361Z",
     "iopub.status.idle": "2021-01-08T12:28:10.500839Z",
     "shell.execute_reply": "2021-01-08T12:28:10.501431Z"
    },
    "papermill": {
     "duration": 0.0379,
     "end_time": "2021-01-08T12:28:10.501630",
     "exception": false,
     "start_time": "2021-01-08T12:28:10.463730",
     "status": "completed"
    },
    "tags": []
   },
   "outputs": [],
   "source": [
    "# Further cleaning\n",
    "dataset['pe'] = dataset['pe'].replace(to_replace='good',value=0) # Not having pedal edema is good\n",
    "dataset['appet'] = dataset['appet'].replace(to_replace='no',value=0)\n",
    "dataset['cad'] = dataset['cad'].replace(to_replace='\\tno',value=0)\n",
    "dataset['dm'] = dataset['dm'].replace(to_replace={'\\tno':0,'\\tyes':1,' yes':1, '':np.nan})\n",
    "dataset.drop('id',axis=1,inplace=True)"
   ]
  },
  {
   "cell_type": "code",
   "execution_count": 6,
   "metadata": {
    "execution": {
     "iopub.execute_input": "2021-01-08T12:28:10.536188Z",
     "iopub.status.busy": "2021-01-08T12:28:10.535407Z",
     "iopub.status.idle": "2021-01-08T12:28:10.554363Z",
     "shell.execute_reply": "2021-01-08T12:28:10.553562Z"
    },
    "papermill": {
     "duration": 0.038562,
     "end_time": "2021-01-08T12:28:10.554509",
     "exception": false,
     "start_time": "2021-01-08T12:28:10.515947",
     "status": "completed"
    },
    "tags": []
   },
   "outputs": [],
   "source": [
    "# '?' character remove process in the dataset\n",
    "for i in ['rc','wc','pcv']:\n",
    "    dataset[i] = dataset[i].str.extract('(\\d+)').astype(float)"
   ]
  },
  {
   "cell_type": "code",
   "execution_count": 7,
   "metadata": {
    "execution": {
     "iopub.execute_input": "2021-01-08T12:28:10.599062Z",
     "iopub.status.busy": "2021-01-08T12:28:10.596913Z",
     "iopub.status.idle": "2021-01-08T12:28:10.604750Z",
     "shell.execute_reply": "2021-01-08T12:28:10.604007Z"
    },
    "papermill": {
     "duration": 0.034323,
     "end_time": "2021-01-08T12:28:10.604895",
     "exception": false,
     "start_time": "2021-01-08T12:28:10.570572",
     "status": "completed"
    },
    "tags": []
   },
   "outputs": [],
   "source": [
    "# Filling missing numeric data in the dataset with mean\n",
    "for i in ['age','bp','sg','al','su','bgr','bu','sc','sod','pot','hemo','rc','wc','pcv']:\n",
    "    dataset[i].fillna(dataset[i].mean(),inplace=True)"
   ]
  },
  {
   "cell_type": "code",
   "execution_count": 8,
   "metadata": {
    "execution": {
     "iopub.execute_input": "2021-01-08T12:28:10.639627Z",
     "iopub.status.busy": "2021-01-08T12:28:10.638753Z",
     "iopub.status.idle": "2021-01-08T12:28:10.681628Z",
     "shell.execute_reply": "2021-01-08T12:28:10.679741Z"
    },
    "papermill": {
     "duration": 0.062084,
     "end_time": "2021-01-08T12:28:10.681820",
     "exception": false,
     "start_time": "2021-01-08T12:28:10.619736",
     "status": "completed"
    },
    "tags": []
   },
   "outputs": [],
   "source": [
    "dataset = dataset.dropna(axis=1)"
   ]
  },
  {
   "cell_type": "code",
   "execution_count": 9,
   "metadata": {
    "execution": {
     "iopub.execute_input": "2021-01-08T12:28:10.722858Z",
     "iopub.status.busy": "2021-01-08T12:28:10.721109Z",
     "iopub.status.idle": "2021-01-08T12:28:10.726181Z",
     "shell.execute_reply": "2021-01-08T12:28:10.725555Z"
    },
    "papermill": {
     "duration": 0.029043,
     "end_time": "2021-01-08T12:28:10.726334",
     "exception": false,
     "start_time": "2021-01-08T12:28:10.697291",
     "status": "completed"
    },
    "tags": []
   },
   "outputs": [],
   "source": [
    "#Data preprocessing\n",
    "X = dataset.iloc[:,:-1].values\n",
    "y = dataset.iloc[:,-1].values"
   ]
  },
  {
   "cell_type": "code",
   "execution_count": 10,
   "metadata": {
    "execution": {
     "iopub.execute_input": "2021-01-08T12:28:10.765535Z",
     "iopub.status.busy": "2021-01-08T12:28:10.763665Z",
     "iopub.status.idle": "2021-01-08T12:28:10.769157Z",
     "shell.execute_reply": "2021-01-08T12:28:10.769755Z"
    },
    "papermill": {
     "duration": 0.028502,
     "end_time": "2021-01-08T12:28:10.769934",
     "exception": false,
     "start_time": "2021-01-08T12:28:10.741432",
     "status": "completed"
    },
    "tags": []
   },
   "outputs": [],
   "source": [
    "# Feature Scaling\n",
    "sc = StandardScaler()\n",
    "X = sc.fit_transform(X)"
   ]
  },
  {
   "cell_type": "code",
   "execution_count": 11,
   "metadata": {
    "execution": {
     "iopub.execute_input": "2021-01-08T12:28:10.807855Z",
     "iopub.status.busy": "2021-01-08T12:28:10.806492Z",
     "iopub.status.idle": "2021-01-08T12:28:10.813114Z",
     "shell.execute_reply": "2021-01-08T12:28:10.812184Z"
    },
    "papermill": {
     "duration": 0.027313,
     "end_time": "2021-01-08T12:28:10.813313",
     "exception": false,
     "start_time": "2021-01-08T12:28:10.786000",
     "status": "completed"
    },
    "tags": []
   },
   "outputs": [],
   "source": [
    "#Splitting the dataset in to training and testing set\n",
    "X_train , X_test , y_train , y_test   = train_test_split(X,y,test_size = 0.2 , random_state=123)  "
   ]
  },
  {
   "cell_type": "markdown",
   "metadata": {
    "papermill": {
     "duration": 0.015062,
     "end_time": "2021-01-08T12:28:10.842617",
     "exception": false,
     "start_time": "2021-01-08T12:28:10.827555",
     "status": "completed"
    },
    "tags": []
   },
   "source": [
    "# Hyper parameter Tuning "
   ]
  },
  {
   "cell_type": "markdown",
   "metadata": {
    "papermill": {
     "duration": 0.013164,
     "end_time": "2021-01-08T12:28:10.871514",
     "exception": false,
     "start_time": "2021-01-08T12:28:10.858350",
     "status": "completed"
    },
    "tags": []
   },
   "source": []
  },
  {
   "cell_type": "code",
   "execution_count": 12,
   "metadata": {
    "execution": {
     "iopub.execute_input": "2021-01-08T12:28:10.915452Z",
     "iopub.status.busy": "2021-01-08T12:28:10.914680Z",
     "iopub.status.idle": "2021-01-08T12:28:10.919057Z",
     "shell.execute_reply": "2021-01-08T12:28:10.918333Z"
    },
    "papermill": {
     "duration": 0.033834,
     "end_time": "2021-01-08T12:28:10.919224",
     "exception": false,
     "start_time": "2021-01-08T12:28:10.885390",
     "status": "completed"
    },
    "tags": []
   },
   "outputs": [],
   "source": [
    "model_params ={\n",
    "    'svm':{\n",
    "        'model' :svm.SVC(gamma='auto'),\n",
    "        'params':{\n",
    "            'C':[1,10,20],\n",
    "            'kernel':['rbf','linear']\n",
    "        }\n",
    "    },\n",
    "    'random_forest':{\n",
    "        'model':RandomForestClassifier(),\n",
    "        'params':{\n",
    "            'n_estimators':[1,5,10]\n",
    "        }\n",
    "    },\n",
    "    'logistic_regression':{\n",
    "        'model': LogisticRegression(solver='liblinear', multi_class='auto'),\n",
    "        'params':{\n",
    "            'C':[1,5,10]\n",
    "        }\n",
    "    },\n",
    "    'decision_tree':{\n",
    "        'model': DecisionTreeClassifier(criterion='entropy'),\n",
    "        'params':{\n",
    "            'min_samples_split' : [4,5,6,7,8,9,10,11,12,15,20,30,40,50,70,90,120,150]\n",
    "        }\n",
    "    },\n",
    "    'knn':{\n",
    "        'model': KNeighborsClassifier( metric='minkowski',p=2 ),\n",
    "        'params':{\n",
    "            'n_neighbors' :list(range(1,31)),\n",
    "            'weights' : [\"uniform\", \"distance\"]\n",
    "        }\n",
    "    },\n",
    "    'Kernal_Navie_bayes':{\n",
    "        'model': GaussianNB(),\n",
    "        'params':{\n",
    "            'var_smoothing': np.logspace(0,-9, num=100)\n",
    "        }\n",
    "    }\n",
    "}"
   ]
  },
  {
   "cell_type": "code",
   "execution_count": 13,
   "metadata": {
    "execution": {
     "iopub.execute_input": "2021-01-08T12:28:10.958810Z",
     "iopub.status.busy": "2021-01-08T12:28:10.957940Z",
     "iopub.status.idle": "2021-01-08T12:28:13.930904Z",
     "shell.execute_reply": "2021-01-08T12:28:13.930068Z"
    },
    "papermill": {
     "duration": 2.99683,
     "end_time": "2021-01-08T12:28:13.931047",
     "exception": false,
     "start_time": "2021-01-08T12:28:10.934217",
     "status": "completed"
    },
    "tags": []
   },
   "outputs": [],
   "source": [
    "score = []\n",
    "\n",
    "for model_name , mp in model_params.items():\n",
    "    clf = GridSearchCV(mp['model'], mp['params'] , cv=5 , return_train_score=False)\n",
    "    clf.fit(X_train , y_train)\n",
    "    score.append({\n",
    "        'model': model_name,\n",
    "        'best_score':clf.best_score_,\n",
    "        'best_params':clf.best_params_\n",
    "    })"
   ]
  },
  {
   "cell_type": "code",
   "execution_count": 14,
   "metadata": {
    "execution": {
     "iopub.execute_input": "2021-01-08T12:28:13.977171Z",
     "iopub.status.busy": "2021-01-08T12:28:13.976302Z",
     "iopub.status.idle": "2021-01-08T12:28:13.987846Z",
     "shell.execute_reply": "2021-01-08T12:28:13.987286Z"
    },
    "papermill": {
     "duration": 0.042788,
     "end_time": "2021-01-08T12:28:13.987976",
     "exception": false,
     "start_time": "2021-01-08T12:28:13.945188",
     "status": "completed"
    },
    "tags": []
   },
   "outputs": [
    {
     "data": {
      "text/html": [
       "<div>\n",
       "<style scoped>\n",
       "    .dataframe tbody tr th:only-of-type {\n",
       "        vertical-align: middle;\n",
       "    }\n",
       "\n",
       "    .dataframe tbody tr th {\n",
       "        vertical-align: top;\n",
       "    }\n",
       "\n",
       "    .dataframe thead th {\n",
       "        text-align: right;\n",
       "    }\n",
       "</style>\n",
       "<table border=\"1\" class=\"dataframe\">\n",
       "  <thead>\n",
       "    <tr style=\"text-align: right;\">\n",
       "      <th></th>\n",
       "      <th>model</th>\n",
       "      <th>best_score</th>\n",
       "      <th>best_params</th>\n",
       "    </tr>\n",
       "  </thead>\n",
       "  <tbody>\n",
       "    <tr>\n",
       "      <th>0</th>\n",
       "      <td>svm</td>\n",
       "      <td>0.981250</td>\n",
       "      <td>{'C': 1, 'kernel': 'rbf'}</td>\n",
       "    </tr>\n",
       "    <tr>\n",
       "      <th>1</th>\n",
       "      <td>random_forest</td>\n",
       "      <td>0.978125</td>\n",
       "      <td>{'n_estimators': 5}</td>\n",
       "    </tr>\n",
       "    <tr>\n",
       "      <th>2</th>\n",
       "      <td>logistic_regression</td>\n",
       "      <td>0.978125</td>\n",
       "      <td>{'C': 1}</td>\n",
       "    </tr>\n",
       "    <tr>\n",
       "      <th>3</th>\n",
       "      <td>decision_tree</td>\n",
       "      <td>0.978125</td>\n",
       "      <td>{'min_samples_split': 7}</td>\n",
       "    </tr>\n",
       "    <tr>\n",
       "      <th>4</th>\n",
       "      <td>knn</td>\n",
       "      <td>0.971875</td>\n",
       "      <td>{'n_neighbors': 8, 'weights': 'uniform'}</td>\n",
       "    </tr>\n",
       "    <tr>\n",
       "      <th>5</th>\n",
       "      <td>Kernal_Navie_bayes</td>\n",
       "      <td>0.956250</td>\n",
       "      <td>{'var_smoothing': 0.002848035868435802}</td>\n",
       "    </tr>\n",
       "  </tbody>\n",
       "</table>\n",
       "</div>"
      ],
      "text/plain": [
       "                 model  best_score                               best_params\n",
       "0                  svm    0.981250                 {'C': 1, 'kernel': 'rbf'}\n",
       "1        random_forest    0.978125                       {'n_estimators': 5}\n",
       "2  logistic_regression    0.978125                                  {'C': 1}\n",
       "3        decision_tree    0.978125                  {'min_samples_split': 7}\n",
       "4                  knn    0.971875  {'n_neighbors': 8, 'weights': 'uniform'}\n",
       "5   Kernal_Navie_bayes    0.956250   {'var_smoothing': 0.002848035868435802}"
      ]
     },
     "execution_count": 14,
     "metadata": {},
     "output_type": "execute_result"
    }
   ],
   "source": [
    "df = pd.DataFrame(score, columns=['model','best_score','best_params'])\n",
    "df"
   ]
  }
 ],
 "metadata": {
  "kernelspec": {
   "display_name": "Python 3",
   "language": "python",
   "name": "python3"
  },
  "language_info": {
   "codemirror_mode": {
    "name": "ipython",
    "version": 3
   },
   "file_extension": ".py",
   "mimetype": "text/x-python",
   "name": "python",
   "nbconvert_exporter": "python",
   "pygments_lexer": "ipython3",
   "version": "3.7.6"
  },
  "papermill": {
   "duration": 11.090558,
   "end_time": "2021-01-08T12:28:14.113228",
   "environment_variables": {},
   "exception": null,
   "input_path": "__notebook__.ipynb",
   "output_path": "__notebook__.ipynb",
   "parameters": {},
   "start_time": "2021-01-08T12:28:03.022670",
   "version": "2.1.0"
  }
 },
 "nbformat": 4,
 "nbformat_minor": 4
}
